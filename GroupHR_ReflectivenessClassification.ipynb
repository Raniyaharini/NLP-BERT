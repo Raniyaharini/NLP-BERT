{
  "cells": [
    {
      "cell_type": "markdown",
      "id": "6f56ad31",
      "metadata": {
        "id": "6f56ad31"
      },
      "source": [
        "# Reflectiveness classification - Natural Language Processing (NLP)\n",
        "### Team Hyosang & Raniya"
      ]
    },
    {
      "cell_type": "code",
      "execution_count": null,
      "id": "d6edd31d",
      "metadata": {
        "id": "d6edd31d"
      },
      "outputs": [],
      "source": [
        "import pandas as pd\n",
        "import numpy as np\n",
        "import matplotlib.pyplot as plt\n",
        "data = pd.read_csv(\"sentences_all_hand.tsv\", sep = \"\\t\")"
      ]
    },
    {
      "cell_type": "code",
      "execution_count": null,
      "id": "14a07896",
      "metadata": {
        "scrolled": false,
        "id": "14a07896",
        "outputId": "e8889448-9928-4123-9b0f-af0cf1916b8e",
        "colab": {
          "base_uri": "https://localhost:8080/",
          "height": 204
        }
      },
      "outputs": [
        {
          "output_type": "execute_result",
          "data": {
            "text/plain": [
              "   Unnamed: 0  corpus_id  sentence_id  \\\n",
              "0         0.0          0          0.0   \n",
              "1         1.0          0          1.0   \n",
              "2         2.0          0          2.0   \n",
              "3         3.0          0          3.0   \n",
              "4         4.0          0          4.0   \n",
              "\n",
              "                                            sentence options  final  \n",
              "0  Zunächst habe ich meinen Arbeitsplatz vorberei...     0,2      0  \n",
              "1  Anschließend las ich das Fallbeispiel mehrmals...       0      0  \n",
              "2  Ich bin neutral und offen an die Aufgabe heran...     0,1      1  \n",
              "3  Nachdem ich zunächst die Aufgabe ohne Lerninha...     0,2      2  \n",
              "4  Die Tipps haben mir sehr geholfen, um meine Lö...       2      2  "
            ],
            "text/html": [
              "\n",
              "  <div id=\"df-0c4f6bf7-426d-4cdd-8356-c9ecebf5b21c\">\n",
              "    <div class=\"colab-df-container\">\n",
              "      <div>\n",
              "<style scoped>\n",
              "    .dataframe tbody tr th:only-of-type {\n",
              "        vertical-align: middle;\n",
              "    }\n",
              "\n",
              "    .dataframe tbody tr th {\n",
              "        vertical-align: top;\n",
              "    }\n",
              "\n",
              "    .dataframe thead th {\n",
              "        text-align: right;\n",
              "    }\n",
              "</style>\n",
              "<table border=\"1\" class=\"dataframe\">\n",
              "  <thead>\n",
              "    <tr style=\"text-align: right;\">\n",
              "      <th></th>\n",
              "      <th>Unnamed: 0</th>\n",
              "      <th>corpus_id</th>\n",
              "      <th>sentence_id</th>\n",
              "      <th>sentence</th>\n",
              "      <th>options</th>\n",
              "      <th>final</th>\n",
              "    </tr>\n",
              "  </thead>\n",
              "  <tbody>\n",
              "    <tr>\n",
              "      <th>0</th>\n",
              "      <td>0.0</td>\n",
              "      <td>0</td>\n",
              "      <td>0.0</td>\n",
              "      <td>Zunächst habe ich meinen Arbeitsplatz vorberei...</td>\n",
              "      <td>0,2</td>\n",
              "      <td>0</td>\n",
              "    </tr>\n",
              "    <tr>\n",
              "      <th>1</th>\n",
              "      <td>1.0</td>\n",
              "      <td>0</td>\n",
              "      <td>1.0</td>\n",
              "      <td>Anschließend las ich das Fallbeispiel mehrmals...</td>\n",
              "      <td>0</td>\n",
              "      <td>0</td>\n",
              "    </tr>\n",
              "    <tr>\n",
              "      <th>2</th>\n",
              "      <td>2.0</td>\n",
              "      <td>0</td>\n",
              "      <td>2.0</td>\n",
              "      <td>Ich bin neutral und offen an die Aufgabe heran...</td>\n",
              "      <td>0,1</td>\n",
              "      <td>1</td>\n",
              "    </tr>\n",
              "    <tr>\n",
              "      <th>3</th>\n",
              "      <td>3.0</td>\n",
              "      <td>0</td>\n",
              "      <td>3.0</td>\n",
              "      <td>Nachdem ich zunächst die Aufgabe ohne Lerninha...</td>\n",
              "      <td>0,2</td>\n",
              "      <td>2</td>\n",
              "    </tr>\n",
              "    <tr>\n",
              "      <th>4</th>\n",
              "      <td>4.0</td>\n",
              "      <td>0</td>\n",
              "      <td>4.0</td>\n",
              "      <td>Die Tipps haben mir sehr geholfen, um meine Lö...</td>\n",
              "      <td>2</td>\n",
              "      <td>2</td>\n",
              "    </tr>\n",
              "  </tbody>\n",
              "</table>\n",
              "</div>\n",
              "      <button class=\"colab-df-convert\" onclick=\"convertToInteractive('df-0c4f6bf7-426d-4cdd-8356-c9ecebf5b21c')\"\n",
              "              title=\"Convert this dataframe to an interactive table.\"\n",
              "              style=\"display:none;\">\n",
              "        \n",
              "  <svg xmlns=\"http://www.w3.org/2000/svg\" height=\"24px\"viewBox=\"0 0 24 24\"\n",
              "       width=\"24px\">\n",
              "    <path d=\"M0 0h24v24H0V0z\" fill=\"none\"/>\n",
              "    <path d=\"M18.56 5.44l.94 2.06.94-2.06 2.06-.94-2.06-.94-.94-2.06-.94 2.06-2.06.94zm-11 1L8.5 8.5l.94-2.06 2.06-.94-2.06-.94L8.5 2.5l-.94 2.06-2.06.94zm10 10l.94 2.06.94-2.06 2.06-.94-2.06-.94-.94-2.06-.94 2.06-2.06.94z\"/><path d=\"M17.41 7.96l-1.37-1.37c-.4-.4-.92-.59-1.43-.59-.52 0-1.04.2-1.43.59L10.3 9.45l-7.72 7.72c-.78.78-.78 2.05 0 2.83L4 21.41c.39.39.9.59 1.41.59.51 0 1.02-.2 1.41-.59l7.78-7.78 2.81-2.81c.8-.78.8-2.07 0-2.86zM5.41 20L4 18.59l7.72-7.72 1.47 1.35L5.41 20z\"/>\n",
              "  </svg>\n",
              "      </button>\n",
              "      \n",
              "  <style>\n",
              "    .colab-df-container {\n",
              "      display:flex;\n",
              "      flex-wrap:wrap;\n",
              "      gap: 12px;\n",
              "    }\n",
              "\n",
              "    .colab-df-convert {\n",
              "      background-color: #E8F0FE;\n",
              "      border: none;\n",
              "      border-radius: 50%;\n",
              "      cursor: pointer;\n",
              "      display: none;\n",
              "      fill: #1967D2;\n",
              "      height: 32px;\n",
              "      padding: 0 0 0 0;\n",
              "      width: 32px;\n",
              "    }\n",
              "\n",
              "    .colab-df-convert:hover {\n",
              "      background-color: #E2EBFA;\n",
              "      box-shadow: 0px 1px 2px rgba(60, 64, 67, 0.3), 0px 1px 3px 1px rgba(60, 64, 67, 0.15);\n",
              "      fill: #174EA6;\n",
              "    }\n",
              "\n",
              "    [theme=dark] .colab-df-convert {\n",
              "      background-color: #3B4455;\n",
              "      fill: #D2E3FC;\n",
              "    }\n",
              "\n",
              "    [theme=dark] .colab-df-convert:hover {\n",
              "      background-color: #434B5C;\n",
              "      box-shadow: 0px 1px 3px 1px rgba(0, 0, 0, 0.15);\n",
              "      filter: drop-shadow(0px 1px 2px rgba(0, 0, 0, 0.3));\n",
              "      fill: #FFFFFF;\n",
              "    }\n",
              "  </style>\n",
              "\n",
              "      <script>\n",
              "        const buttonEl =\n",
              "          document.querySelector('#df-0c4f6bf7-426d-4cdd-8356-c9ecebf5b21c button.colab-df-convert');\n",
              "        buttonEl.style.display =\n",
              "          google.colab.kernel.accessAllowed ? 'block' : 'none';\n",
              "\n",
              "        async function convertToInteractive(key) {\n",
              "          const element = document.querySelector('#df-0c4f6bf7-426d-4cdd-8356-c9ecebf5b21c');\n",
              "          const dataTable =\n",
              "            await google.colab.kernel.invokeFunction('convertToInteractive',\n",
              "                                                     [key], {});\n",
              "          if (!dataTable) return;\n",
              "\n",
              "          const docLinkHtml = 'Like what you see? Visit the ' +\n",
              "            '<a target=\"_blank\" href=https://colab.research.google.com/notebooks/data_table.ipynb>data table notebook</a>'\n",
              "            + ' to learn more about interactive tables.';\n",
              "          element.innerHTML = '';\n",
              "          dataTable['output_type'] = 'display_data';\n",
              "          await google.colab.output.renderOutput(dataTable, element);\n",
              "          const docLink = document.createElement('div');\n",
              "          docLink.innerHTML = docLinkHtml;\n",
              "          element.appendChild(docLink);\n",
              "        }\n",
              "      </script>\n",
              "    </div>\n",
              "  </div>\n",
              "  "
            ]
          },
          "metadata": {},
          "execution_count": 2
        }
      ],
      "source": [
        "data.head(5)"
      ]
    },
    {
      "cell_type": "code",
      "execution_count": null,
      "id": "8ea6d5ee",
      "metadata": {
        "id": "8ea6d5ee"
      },
      "outputs": [],
      "source": [
        "# Delete unnecessary column\n",
        "data.drop(data.columns[[0]], axis=1, inplace=True)"
      ]
    },
    {
      "cell_type": "code",
      "execution_count": null,
      "id": "1117a78e",
      "metadata": {
        "id": "1117a78e",
        "outputId": "09d20593-adc5-429f-81a0-e2c2da8520df",
        "colab": {
          "base_uri": "https://localhost:8080/",
          "height": 204
        }
      },
      "outputs": [
        {
          "output_type": "execute_result",
          "data": {
            "text/plain": [
              "   corpus_id  sentence_id                                           sentence  \\\n",
              "0          0          0.0  Zunächst habe ich meinen Arbeitsplatz vorberei...   \n",
              "1          0          1.0  Anschließend las ich das Fallbeispiel mehrmals...   \n",
              "2          0          2.0  Ich bin neutral und offen an die Aufgabe heran...   \n",
              "3          0          3.0  Nachdem ich zunächst die Aufgabe ohne Lerninha...   \n",
              "4          0          4.0  Die Tipps haben mir sehr geholfen, um meine Lö...   \n",
              "\n",
              "  options  final  \n",
              "0     0,2      0  \n",
              "1       0      0  \n",
              "2     0,1      1  \n",
              "3     0,2      2  \n",
              "4       2      2  "
            ],
            "text/html": [
              "\n",
              "  <div id=\"df-8037adbd-9e95-4924-8787-a30e95b84736\">\n",
              "    <div class=\"colab-df-container\">\n",
              "      <div>\n",
              "<style scoped>\n",
              "    .dataframe tbody tr th:only-of-type {\n",
              "        vertical-align: middle;\n",
              "    }\n",
              "\n",
              "    .dataframe tbody tr th {\n",
              "        vertical-align: top;\n",
              "    }\n",
              "\n",
              "    .dataframe thead th {\n",
              "        text-align: right;\n",
              "    }\n",
              "</style>\n",
              "<table border=\"1\" class=\"dataframe\">\n",
              "  <thead>\n",
              "    <tr style=\"text-align: right;\">\n",
              "      <th></th>\n",
              "      <th>corpus_id</th>\n",
              "      <th>sentence_id</th>\n",
              "      <th>sentence</th>\n",
              "      <th>options</th>\n",
              "      <th>final</th>\n",
              "    </tr>\n",
              "  </thead>\n",
              "  <tbody>\n",
              "    <tr>\n",
              "      <th>0</th>\n",
              "      <td>0</td>\n",
              "      <td>0.0</td>\n",
              "      <td>Zunächst habe ich meinen Arbeitsplatz vorberei...</td>\n",
              "      <td>0,2</td>\n",
              "      <td>0</td>\n",
              "    </tr>\n",
              "    <tr>\n",
              "      <th>1</th>\n",
              "      <td>0</td>\n",
              "      <td>1.0</td>\n",
              "      <td>Anschließend las ich das Fallbeispiel mehrmals...</td>\n",
              "      <td>0</td>\n",
              "      <td>0</td>\n",
              "    </tr>\n",
              "    <tr>\n",
              "      <th>2</th>\n",
              "      <td>0</td>\n",
              "      <td>2.0</td>\n",
              "      <td>Ich bin neutral und offen an die Aufgabe heran...</td>\n",
              "      <td>0,1</td>\n",
              "      <td>1</td>\n",
              "    </tr>\n",
              "    <tr>\n",
              "      <th>3</th>\n",
              "      <td>0</td>\n",
              "      <td>3.0</td>\n",
              "      <td>Nachdem ich zunächst die Aufgabe ohne Lerninha...</td>\n",
              "      <td>0,2</td>\n",
              "      <td>2</td>\n",
              "    </tr>\n",
              "    <tr>\n",
              "      <th>4</th>\n",
              "      <td>0</td>\n",
              "      <td>4.0</td>\n",
              "      <td>Die Tipps haben mir sehr geholfen, um meine Lö...</td>\n",
              "      <td>2</td>\n",
              "      <td>2</td>\n",
              "    </tr>\n",
              "  </tbody>\n",
              "</table>\n",
              "</div>\n",
              "      <button class=\"colab-df-convert\" onclick=\"convertToInteractive('df-8037adbd-9e95-4924-8787-a30e95b84736')\"\n",
              "              title=\"Convert this dataframe to an interactive table.\"\n",
              "              style=\"display:none;\">\n",
              "        \n",
              "  <svg xmlns=\"http://www.w3.org/2000/svg\" height=\"24px\"viewBox=\"0 0 24 24\"\n",
              "       width=\"24px\">\n",
              "    <path d=\"M0 0h24v24H0V0z\" fill=\"none\"/>\n",
              "    <path d=\"M18.56 5.44l.94 2.06.94-2.06 2.06-.94-2.06-.94-.94-2.06-.94 2.06-2.06.94zm-11 1L8.5 8.5l.94-2.06 2.06-.94-2.06-.94L8.5 2.5l-.94 2.06-2.06.94zm10 10l.94 2.06.94-2.06 2.06-.94-2.06-.94-.94-2.06-.94 2.06-2.06.94z\"/><path d=\"M17.41 7.96l-1.37-1.37c-.4-.4-.92-.59-1.43-.59-.52 0-1.04.2-1.43.59L10.3 9.45l-7.72 7.72c-.78.78-.78 2.05 0 2.83L4 21.41c.39.39.9.59 1.41.59.51 0 1.02-.2 1.41-.59l7.78-7.78 2.81-2.81c.8-.78.8-2.07 0-2.86zM5.41 20L4 18.59l7.72-7.72 1.47 1.35L5.41 20z\"/>\n",
              "  </svg>\n",
              "      </button>\n",
              "      \n",
              "  <style>\n",
              "    .colab-df-container {\n",
              "      display:flex;\n",
              "      flex-wrap:wrap;\n",
              "      gap: 12px;\n",
              "    }\n",
              "\n",
              "    .colab-df-convert {\n",
              "      background-color: #E8F0FE;\n",
              "      border: none;\n",
              "      border-radius: 50%;\n",
              "      cursor: pointer;\n",
              "      display: none;\n",
              "      fill: #1967D2;\n",
              "      height: 32px;\n",
              "      padding: 0 0 0 0;\n",
              "      width: 32px;\n",
              "    }\n",
              "\n",
              "    .colab-df-convert:hover {\n",
              "      background-color: #E2EBFA;\n",
              "      box-shadow: 0px 1px 2px rgba(60, 64, 67, 0.3), 0px 1px 3px 1px rgba(60, 64, 67, 0.15);\n",
              "      fill: #174EA6;\n",
              "    }\n",
              "\n",
              "    [theme=dark] .colab-df-convert {\n",
              "      background-color: #3B4455;\n",
              "      fill: #D2E3FC;\n",
              "    }\n",
              "\n",
              "    [theme=dark] .colab-df-convert:hover {\n",
              "      background-color: #434B5C;\n",
              "      box-shadow: 0px 1px 3px 1px rgba(0, 0, 0, 0.15);\n",
              "      filter: drop-shadow(0px 1px 2px rgba(0, 0, 0, 0.3));\n",
              "      fill: #FFFFFF;\n",
              "    }\n",
              "  </style>\n",
              "\n",
              "      <script>\n",
              "        const buttonEl =\n",
              "          document.querySelector('#df-8037adbd-9e95-4924-8787-a30e95b84736 button.colab-df-convert');\n",
              "        buttonEl.style.display =\n",
              "          google.colab.kernel.accessAllowed ? 'block' : 'none';\n",
              "\n",
              "        async function convertToInteractive(key) {\n",
              "          const element = document.querySelector('#df-8037adbd-9e95-4924-8787-a30e95b84736');\n",
              "          const dataTable =\n",
              "            await google.colab.kernel.invokeFunction('convertToInteractive',\n",
              "                                                     [key], {});\n",
              "          if (!dataTable) return;\n",
              "\n",
              "          const docLinkHtml = 'Like what you see? Visit the ' +\n",
              "            '<a target=\"_blank\" href=https://colab.research.google.com/notebooks/data_table.ipynb>data table notebook</a>'\n",
              "            + ' to learn more about interactive tables.';\n",
              "          element.innerHTML = '';\n",
              "          dataTable['output_type'] = 'display_data';\n",
              "          await google.colab.output.renderOutput(dataTable, element);\n",
              "          const docLink = document.createElement('div');\n",
              "          docLink.innerHTML = docLinkHtml;\n",
              "          element.appendChild(docLink);\n",
              "        }\n",
              "      </script>\n",
              "    </div>\n",
              "  </div>\n",
              "  "
            ]
          },
          "metadata": {},
          "execution_count": 4
        }
      ],
      "source": [
        "data.head(5)"
      ]
    },
    {
      "cell_type": "code",
      "execution_count": null,
      "id": "a1213694",
      "metadata": {
        "scrolled": false,
        "id": "a1213694",
        "outputId": "4a5ba78c-a154-4132-de3e-37dbc8175978",
        "colab": {
          "base_uri": "https://localhost:8080/"
        }
      },
      "outputs": [
        {
          "output_type": "stream",
          "name": "stdout",
          "text": [
            "<class 'pandas.core.frame.DataFrame'>\n",
            "RangeIndex: 7620 entries, 0 to 7619\n",
            "Data columns (total 5 columns):\n",
            " #   Column       Non-Null Count  Dtype  \n",
            "---  ------       --------------  -----  \n",
            " 0   corpus_id    7620 non-null   int64  \n",
            " 1   sentence_id  7619 non-null   float64\n",
            " 2   sentence     7620 non-null   object \n",
            " 3   options      7620 non-null   object \n",
            " 4   final        7620 non-null   int64  \n",
            "dtypes: float64(1), int64(2), object(2)\n",
            "memory usage: 297.8+ KB\n"
          ]
        }
      ],
      "source": [
        "data.info()"
      ]
    },
    {
      "cell_type": "code",
      "execution_count": null,
      "id": "604e2315",
      "metadata": {
        "id": "604e2315",
        "outputId": "5b88117d-e4dc-40dd-8e13-b3f66394e15b",
        "colab": {
          "base_uri": "https://localhost:8080/",
          "height": 666
        }
      },
      "outputs": [
        {
          "output_type": "stream",
          "name": "stderr",
          "text": [
            "/usr/local/lib/python3.7/dist-packages/ipykernel_launcher.py:13: SettingWithCopyWarning: \n",
            "A value is trying to be set on a copy of a slice from a DataFrame\n",
            "\n",
            "See the caveats in the documentation: https://pandas.pydata.org/pandas-docs/stable/user_guide/indexing.html#returning-a-view-versus-a-copy\n",
            "  del sys.path[0]\n",
            "/usr/local/lib/python3.7/dist-packages/ipykernel_launcher.py:17: SettingWithCopyWarning: \n",
            "A value is trying to be set on a copy of a slice from a DataFrame\n",
            "\n",
            "See the caveats in the documentation: https://pandas.pydata.org/pandas-docs/stable/user_guide/indexing.html#returning-a-view-versus-a-copy\n",
            "/usr/local/lib/python3.7/dist-packages/ipykernel_launcher.py:15: SettingWithCopyWarning: \n",
            "A value is trying to be set on a copy of a slice from a DataFrame\n",
            "\n",
            "See the caveats in the documentation: https://pandas.pydata.org/pandas-docs/stable/user_guide/indexing.html#returning-a-view-versus-a-copy\n",
            "  from ipykernel import kernelapp as app\n",
            "/usr/local/lib/python3.7/dist-packages/ipykernel_launcher.py:19: SettingWithCopyWarning: \n",
            "A value is trying to be set on a copy of a slice from a DataFrame\n",
            "\n",
            "See the caveats in the documentation: https://pandas.pydata.org/pandas-docs/stable/user_guide/indexing.html#returning-a-view-versus-a-copy\n",
            "/usr/local/lib/python3.7/dist-packages/ipykernel_launcher.py:23: SettingWithCopyWarning: \n",
            "A value is trying to be set on a copy of a slice from a DataFrame\n",
            "\n",
            "See the caveats in the documentation: https://pandas.pydata.org/pandas-docs/stable/user_guide/indexing.html#returning-a-view-versus-a-copy\n",
            "/usr/local/lib/python3.7/dist-packages/ipykernel_launcher.py:21: SettingWithCopyWarning: \n",
            "A value is trying to be set on a copy of a slice from a DataFrame\n",
            "\n",
            "See the caveats in the documentation: https://pandas.pydata.org/pandas-docs/stable/user_guide/indexing.html#returning-a-view-versus-a-copy\n"
          ]
        },
        {
          "output_type": "execute_result",
          "data": {
            "text/plain": [
              "   corpus_id  sentence_id                                           sentence  \\\n",
              "0          0          0.0  Zunächst habe ich meinen Arbeitsplatz vorberei...   \n",
              "1          0          1.0  Anschließend las ich das Fallbeispiel mehrmals...   \n",
              "2          0          2.0  Ich bin neutral und offen an die Aufgabe heran...   \n",
              "3          0          3.0  Nachdem ich zunächst die Aufgabe ohne Lerninha...   \n",
              "4          0          4.0  Die Tipps haben mir sehr geholfen, um meine Lö...   \n",
              "\n",
              "  options  final  0  1  2  3  4  5  \n",
              "0     0,2      0  1  0  1  0  0  0  \n",
              "1       0      0  1  0  0  0  0  0  \n",
              "2     0,1      1  1  1  0  0  0  0  \n",
              "3     0,2      2  1  0  1  0  0  0  \n",
              "4       2      2  0  0  1  0  0  0  "
            ],
            "text/html": [
              "\n",
              "  <div id=\"df-532c27e8-b3fa-42d4-9ec7-ff79333784ff\">\n",
              "    <div class=\"colab-df-container\">\n",
              "      <div>\n",
              "<style scoped>\n",
              "    .dataframe tbody tr th:only-of-type {\n",
              "        vertical-align: middle;\n",
              "    }\n",
              "\n",
              "    .dataframe tbody tr th {\n",
              "        vertical-align: top;\n",
              "    }\n",
              "\n",
              "    .dataframe thead th {\n",
              "        text-align: right;\n",
              "    }\n",
              "</style>\n",
              "<table border=\"1\" class=\"dataframe\">\n",
              "  <thead>\n",
              "    <tr style=\"text-align: right;\">\n",
              "      <th></th>\n",
              "      <th>corpus_id</th>\n",
              "      <th>sentence_id</th>\n",
              "      <th>sentence</th>\n",
              "      <th>options</th>\n",
              "      <th>final</th>\n",
              "      <th>0</th>\n",
              "      <th>1</th>\n",
              "      <th>2</th>\n",
              "      <th>3</th>\n",
              "      <th>4</th>\n",
              "      <th>5</th>\n",
              "    </tr>\n",
              "  </thead>\n",
              "  <tbody>\n",
              "    <tr>\n",
              "      <th>0</th>\n",
              "      <td>0</td>\n",
              "      <td>0.0</td>\n",
              "      <td>Zunächst habe ich meinen Arbeitsplatz vorberei...</td>\n",
              "      <td>0,2</td>\n",
              "      <td>0</td>\n",
              "      <td>1</td>\n",
              "      <td>0</td>\n",
              "      <td>1</td>\n",
              "      <td>0</td>\n",
              "      <td>0</td>\n",
              "      <td>0</td>\n",
              "    </tr>\n",
              "    <tr>\n",
              "      <th>1</th>\n",
              "      <td>0</td>\n",
              "      <td>1.0</td>\n",
              "      <td>Anschließend las ich das Fallbeispiel mehrmals...</td>\n",
              "      <td>0</td>\n",
              "      <td>0</td>\n",
              "      <td>1</td>\n",
              "      <td>0</td>\n",
              "      <td>0</td>\n",
              "      <td>0</td>\n",
              "      <td>0</td>\n",
              "      <td>0</td>\n",
              "    </tr>\n",
              "    <tr>\n",
              "      <th>2</th>\n",
              "      <td>0</td>\n",
              "      <td>2.0</td>\n",
              "      <td>Ich bin neutral und offen an die Aufgabe heran...</td>\n",
              "      <td>0,1</td>\n",
              "      <td>1</td>\n",
              "      <td>1</td>\n",
              "      <td>1</td>\n",
              "      <td>0</td>\n",
              "      <td>0</td>\n",
              "      <td>0</td>\n",
              "      <td>0</td>\n",
              "    </tr>\n",
              "    <tr>\n",
              "      <th>3</th>\n",
              "      <td>0</td>\n",
              "      <td>3.0</td>\n",
              "      <td>Nachdem ich zunächst die Aufgabe ohne Lerninha...</td>\n",
              "      <td>0,2</td>\n",
              "      <td>2</td>\n",
              "      <td>1</td>\n",
              "      <td>0</td>\n",
              "      <td>1</td>\n",
              "      <td>0</td>\n",
              "      <td>0</td>\n",
              "      <td>0</td>\n",
              "    </tr>\n",
              "    <tr>\n",
              "      <th>4</th>\n",
              "      <td>0</td>\n",
              "      <td>4.0</td>\n",
              "      <td>Die Tipps haben mir sehr geholfen, um meine Lö...</td>\n",
              "      <td>2</td>\n",
              "      <td>2</td>\n",
              "      <td>0</td>\n",
              "      <td>0</td>\n",
              "      <td>1</td>\n",
              "      <td>0</td>\n",
              "      <td>0</td>\n",
              "      <td>0</td>\n",
              "    </tr>\n",
              "  </tbody>\n",
              "</table>\n",
              "</div>\n",
              "      <button class=\"colab-df-convert\" onclick=\"convertToInteractive('df-532c27e8-b3fa-42d4-9ec7-ff79333784ff')\"\n",
              "              title=\"Convert this dataframe to an interactive table.\"\n",
              "              style=\"display:none;\">\n",
              "        \n",
              "  <svg xmlns=\"http://www.w3.org/2000/svg\" height=\"24px\"viewBox=\"0 0 24 24\"\n",
              "       width=\"24px\">\n",
              "    <path d=\"M0 0h24v24H0V0z\" fill=\"none\"/>\n",
              "    <path d=\"M18.56 5.44l.94 2.06.94-2.06 2.06-.94-2.06-.94-.94-2.06-.94 2.06-2.06.94zm-11 1L8.5 8.5l.94-2.06 2.06-.94-2.06-.94L8.5 2.5l-.94 2.06-2.06.94zm10 10l.94 2.06.94-2.06 2.06-.94-2.06-.94-.94-2.06-.94 2.06-2.06.94z\"/><path d=\"M17.41 7.96l-1.37-1.37c-.4-.4-.92-.59-1.43-.59-.52 0-1.04.2-1.43.59L10.3 9.45l-7.72 7.72c-.78.78-.78 2.05 0 2.83L4 21.41c.39.39.9.59 1.41.59.51 0 1.02-.2 1.41-.59l7.78-7.78 2.81-2.81c.8-.78.8-2.07 0-2.86zM5.41 20L4 18.59l7.72-7.72 1.47 1.35L5.41 20z\"/>\n",
              "  </svg>\n",
              "      </button>\n",
              "      \n",
              "  <style>\n",
              "    .colab-df-container {\n",
              "      display:flex;\n",
              "      flex-wrap:wrap;\n",
              "      gap: 12px;\n",
              "    }\n",
              "\n",
              "    .colab-df-convert {\n",
              "      background-color: #E8F0FE;\n",
              "      border: none;\n",
              "      border-radius: 50%;\n",
              "      cursor: pointer;\n",
              "      display: none;\n",
              "      fill: #1967D2;\n",
              "      height: 32px;\n",
              "      padding: 0 0 0 0;\n",
              "      width: 32px;\n",
              "    }\n",
              "\n",
              "    .colab-df-convert:hover {\n",
              "      background-color: #E2EBFA;\n",
              "      box-shadow: 0px 1px 2px rgba(60, 64, 67, 0.3), 0px 1px 3px 1px rgba(60, 64, 67, 0.15);\n",
              "      fill: #174EA6;\n",
              "    }\n",
              "\n",
              "    [theme=dark] .colab-df-convert {\n",
              "      background-color: #3B4455;\n",
              "      fill: #D2E3FC;\n",
              "    }\n",
              "\n",
              "    [theme=dark] .colab-df-convert:hover {\n",
              "      background-color: #434B5C;\n",
              "      box-shadow: 0px 1px 3px 1px rgba(0, 0, 0, 0.15);\n",
              "      filter: drop-shadow(0px 1px 2px rgba(0, 0, 0, 0.3));\n",
              "      fill: #FFFFFF;\n",
              "    }\n",
              "  </style>\n",
              "\n",
              "      <script>\n",
              "        const buttonEl =\n",
              "          document.querySelector('#df-532c27e8-b3fa-42d4-9ec7-ff79333784ff button.colab-df-convert');\n",
              "        buttonEl.style.display =\n",
              "          google.colab.kernel.accessAllowed ? 'block' : 'none';\n",
              "\n",
              "        async function convertToInteractive(key) {\n",
              "          const element = document.querySelector('#df-532c27e8-b3fa-42d4-9ec7-ff79333784ff');\n",
              "          const dataTable =\n",
              "            await google.colab.kernel.invokeFunction('convertToInteractive',\n",
              "                                                     [key], {});\n",
              "          if (!dataTable) return;\n",
              "\n",
              "          const docLinkHtml = 'Like what you see? Visit the ' +\n",
              "            '<a target=\"_blank\" href=https://colab.research.google.com/notebooks/data_table.ipynb>data table notebook</a>'\n",
              "            + ' to learn more about interactive tables.';\n",
              "          element.innerHTML = '';\n",
              "          dataTable['output_type'] = 'display_data';\n",
              "          await google.colab.output.renderOutput(dataTable, element);\n",
              "          const docLink = document.createElement('div');\n",
              "          docLink.innerHTML = docLinkHtml;\n",
              "          element.appendChild(docLink);\n",
              "        }\n",
              "      </script>\n",
              "    </div>\n",
              "  </div>\n",
              "  "
            ]
          },
          "metadata": {},
          "execution_count": 6
        }
      ],
      "source": [
        "# Data preprocessing for multi label classification - one hot encoding\n",
        "\n",
        "data['0'] = [0] * len(data)\n",
        "data['1'] = [0] * len(data)\n",
        "data['2'] = [0] * len(data)\n",
        "data['3'] = [0] * len(data)\n",
        "data['4'] = [0] * len(data)\n",
        "data['5'] = [0] * len(data)\n",
        "\n",
        "for i in range(len(data['options'])):\n",
        "    temp = data['options'][i].split(',')\n",
        "    if '0' in temp:\n",
        "        data['0'][i] = 1\n",
        "    if '1' in temp:\n",
        "        data['1'][i] = 1\n",
        "    if '2' in temp:\n",
        "        data['2'][i] = 1\n",
        "    if '3' in temp:\n",
        "        data['3'][i] = 1\n",
        "    if '4' in temp:\n",
        "        data['4'][i] = 1\n",
        "    if '5' in temp:\n",
        "        data['5'][i] = 1\n",
        "data.head(5)"
      ]
    },
    {
      "cell_type": "code",
      "execution_count": null,
      "id": "6a1550cd",
      "metadata": {
        "id": "6a1550cd"
      },
      "outputs": [],
      "source": [
        "multilabel_data = data[['sentence_id', 'sentence', '0', '1', '2', '3', '4', '5']]"
      ]
    },
    {
      "cell_type": "code",
      "execution_count": null,
      "id": "768b57da",
      "metadata": {
        "id": "768b57da"
      },
      "outputs": [],
      "source": [
        "# csv file making to use it later to load_dataset function for multi label classification\n",
        "# multilabel_data.to_csv(\"sentences_all_hand.csv\", index = False)"
      ]
    },
    {
      "cell_type": "code",
      "execution_count": null,
      "id": "c57ea75a",
      "metadata": {
        "scrolled": false,
        "id": "c57ea75a",
        "outputId": "fcc68532-3e4a-4a48-b1f7-bd26a6dd92c8",
        "colab": {
          "base_uri": "https://localhost:8080/",
          "height": 359
        }
      },
      "outputs": [
        {
          "output_type": "execute_result",
          "data": {
            "text/plain": [
              "      corpus_id  sentence_id  \\\n",
              "5777          3       2372.0   \n",
              "1823          1        271.0   \n",
              "7006          4          8.0   \n",
              "6468          3       3063.0   \n",
              "2162          1        610.0   \n",
              "4076          3        664.0   \n",
              "2905          1       1359.0   \n",
              "3452          3         37.0   \n",
              "301           0        301.0   \n",
              "6567          3       3162.0   \n",
              "\n",
              "                                               sentence options  final  0  1  \\\n",
              "5777  Ich habe angefangen, mit ihnen eine \"Du schrei...       1      1  0  1   \n",
              "1823  Während der Bearbeitung der Aufgabe habe ich m...   1,2,3      3  0  1   \n",
              "7006  Schöne Diskussion, vor allem die unterschiedli...       2      2  0  0   \n",
              "6468             Morgen gehe ich als Erzieherin zurück.       5      5  0  0   \n",
              "2162  Diese beinhalteten Informationen zum Thema „Ei...       0      0  1  0   \n",
              "4076  Sie haben eine nette Art mit den Kindern umzug...       0      0  1  0   \n",
              "2905  Sie zeigt mir klar, dass ich aus meiner letzte...       0      0  1  0   \n",
              "3452  Dies könnte eine einfache schwarz-weiße Unifor...     3,4      4  0  0   \n",
              "301   Um sich Respekt bei den SuS zu verschaffen, be...       0      0  1  0   \n",
              "6567  Während der Schulzeit waren meine Erfahrungen ...       2      2  0  0   \n",
              "\n",
              "      2  3  4  5  \n",
              "5777  0  0  0  0  \n",
              "1823  1  1  0  0  \n",
              "7006  1  0  0  0  \n",
              "6468  0  0  0  1  \n",
              "2162  0  0  0  0  \n",
              "4076  0  0  0  0  \n",
              "2905  0  0  0  0  \n",
              "3452  0  1  1  0  \n",
              "301   0  0  0  0  \n",
              "6567  1  0  0  0  "
            ],
            "text/html": [
              "\n",
              "  <div id=\"df-9f7a2968-763e-4f8e-89d7-cf801f3e5756\">\n",
              "    <div class=\"colab-df-container\">\n",
              "      <div>\n",
              "<style scoped>\n",
              "    .dataframe tbody tr th:only-of-type {\n",
              "        vertical-align: middle;\n",
              "    }\n",
              "\n",
              "    .dataframe tbody tr th {\n",
              "        vertical-align: top;\n",
              "    }\n",
              "\n",
              "    .dataframe thead th {\n",
              "        text-align: right;\n",
              "    }\n",
              "</style>\n",
              "<table border=\"1\" class=\"dataframe\">\n",
              "  <thead>\n",
              "    <tr style=\"text-align: right;\">\n",
              "      <th></th>\n",
              "      <th>corpus_id</th>\n",
              "      <th>sentence_id</th>\n",
              "      <th>sentence</th>\n",
              "      <th>options</th>\n",
              "      <th>final</th>\n",
              "      <th>0</th>\n",
              "      <th>1</th>\n",
              "      <th>2</th>\n",
              "      <th>3</th>\n",
              "      <th>4</th>\n",
              "      <th>5</th>\n",
              "    </tr>\n",
              "  </thead>\n",
              "  <tbody>\n",
              "    <tr>\n",
              "      <th>5777</th>\n",
              "      <td>3</td>\n",
              "      <td>2372.0</td>\n",
              "      <td>Ich habe angefangen, mit ihnen eine \"Du schrei...</td>\n",
              "      <td>1</td>\n",
              "      <td>1</td>\n",
              "      <td>0</td>\n",
              "      <td>1</td>\n",
              "      <td>0</td>\n",
              "      <td>0</td>\n",
              "      <td>0</td>\n",
              "      <td>0</td>\n",
              "    </tr>\n",
              "    <tr>\n",
              "      <th>1823</th>\n",
              "      <td>1</td>\n",
              "      <td>271.0</td>\n",
              "      <td>Während der Bearbeitung der Aufgabe habe ich m...</td>\n",
              "      <td>1,2,3</td>\n",
              "      <td>3</td>\n",
              "      <td>0</td>\n",
              "      <td>1</td>\n",
              "      <td>1</td>\n",
              "      <td>1</td>\n",
              "      <td>0</td>\n",
              "      <td>0</td>\n",
              "    </tr>\n",
              "    <tr>\n",
              "      <th>7006</th>\n",
              "      <td>4</td>\n",
              "      <td>8.0</td>\n",
              "      <td>Schöne Diskussion, vor allem die unterschiedli...</td>\n",
              "      <td>2</td>\n",
              "      <td>2</td>\n",
              "      <td>0</td>\n",
              "      <td>0</td>\n",
              "      <td>1</td>\n",
              "      <td>0</td>\n",
              "      <td>0</td>\n",
              "      <td>0</td>\n",
              "    </tr>\n",
              "    <tr>\n",
              "      <th>6468</th>\n",
              "      <td>3</td>\n",
              "      <td>3063.0</td>\n",
              "      <td>Morgen gehe ich als Erzieherin zurück.</td>\n",
              "      <td>5</td>\n",
              "      <td>5</td>\n",
              "      <td>0</td>\n",
              "      <td>0</td>\n",
              "      <td>0</td>\n",
              "      <td>0</td>\n",
              "      <td>0</td>\n",
              "      <td>1</td>\n",
              "    </tr>\n",
              "    <tr>\n",
              "      <th>2162</th>\n",
              "      <td>1</td>\n",
              "      <td>610.0</td>\n",
              "      <td>Diese beinhalteten Informationen zum Thema „Ei...</td>\n",
              "      <td>0</td>\n",
              "      <td>0</td>\n",
              "      <td>1</td>\n",
              "      <td>0</td>\n",
              "      <td>0</td>\n",
              "      <td>0</td>\n",
              "      <td>0</td>\n",
              "      <td>0</td>\n",
              "    </tr>\n",
              "    <tr>\n",
              "      <th>4076</th>\n",
              "      <td>3</td>\n",
              "      <td>664.0</td>\n",
              "      <td>Sie haben eine nette Art mit den Kindern umzug...</td>\n",
              "      <td>0</td>\n",
              "      <td>0</td>\n",
              "      <td>1</td>\n",
              "      <td>0</td>\n",
              "      <td>0</td>\n",
              "      <td>0</td>\n",
              "      <td>0</td>\n",
              "      <td>0</td>\n",
              "    </tr>\n",
              "    <tr>\n",
              "      <th>2905</th>\n",
              "      <td>1</td>\n",
              "      <td>1359.0</td>\n",
              "      <td>Sie zeigt mir klar, dass ich aus meiner letzte...</td>\n",
              "      <td>0</td>\n",
              "      <td>0</td>\n",
              "      <td>1</td>\n",
              "      <td>0</td>\n",
              "      <td>0</td>\n",
              "      <td>0</td>\n",
              "      <td>0</td>\n",
              "      <td>0</td>\n",
              "    </tr>\n",
              "    <tr>\n",
              "      <th>3452</th>\n",
              "      <td>3</td>\n",
              "      <td>37.0</td>\n",
              "      <td>Dies könnte eine einfache schwarz-weiße Unifor...</td>\n",
              "      <td>3,4</td>\n",
              "      <td>4</td>\n",
              "      <td>0</td>\n",
              "      <td>0</td>\n",
              "      <td>0</td>\n",
              "      <td>1</td>\n",
              "      <td>1</td>\n",
              "      <td>0</td>\n",
              "    </tr>\n",
              "    <tr>\n",
              "      <th>301</th>\n",
              "      <td>0</td>\n",
              "      <td>301.0</td>\n",
              "      <td>Um sich Respekt bei den SuS zu verschaffen, be...</td>\n",
              "      <td>0</td>\n",
              "      <td>0</td>\n",
              "      <td>1</td>\n",
              "      <td>0</td>\n",
              "      <td>0</td>\n",
              "      <td>0</td>\n",
              "      <td>0</td>\n",
              "      <td>0</td>\n",
              "    </tr>\n",
              "    <tr>\n",
              "      <th>6567</th>\n",
              "      <td>3</td>\n",
              "      <td>3162.0</td>\n",
              "      <td>Während der Schulzeit waren meine Erfahrungen ...</td>\n",
              "      <td>2</td>\n",
              "      <td>2</td>\n",
              "      <td>0</td>\n",
              "      <td>0</td>\n",
              "      <td>1</td>\n",
              "      <td>0</td>\n",
              "      <td>0</td>\n",
              "      <td>0</td>\n",
              "    </tr>\n",
              "  </tbody>\n",
              "</table>\n",
              "</div>\n",
              "      <button class=\"colab-df-convert\" onclick=\"convertToInteractive('df-9f7a2968-763e-4f8e-89d7-cf801f3e5756')\"\n",
              "              title=\"Convert this dataframe to an interactive table.\"\n",
              "              style=\"display:none;\">\n",
              "        \n",
              "  <svg xmlns=\"http://www.w3.org/2000/svg\" height=\"24px\"viewBox=\"0 0 24 24\"\n",
              "       width=\"24px\">\n",
              "    <path d=\"M0 0h24v24H0V0z\" fill=\"none\"/>\n",
              "    <path d=\"M18.56 5.44l.94 2.06.94-2.06 2.06-.94-2.06-.94-.94-2.06-.94 2.06-2.06.94zm-11 1L8.5 8.5l.94-2.06 2.06-.94-2.06-.94L8.5 2.5l-.94 2.06-2.06.94zm10 10l.94 2.06.94-2.06 2.06-.94-2.06-.94-.94-2.06-.94 2.06-2.06.94z\"/><path d=\"M17.41 7.96l-1.37-1.37c-.4-.4-.92-.59-1.43-.59-.52 0-1.04.2-1.43.59L10.3 9.45l-7.72 7.72c-.78.78-.78 2.05 0 2.83L4 21.41c.39.39.9.59 1.41.59.51 0 1.02-.2 1.41-.59l7.78-7.78 2.81-2.81c.8-.78.8-2.07 0-2.86zM5.41 20L4 18.59l7.72-7.72 1.47 1.35L5.41 20z\"/>\n",
              "  </svg>\n",
              "      </button>\n",
              "      \n",
              "  <style>\n",
              "    .colab-df-container {\n",
              "      display:flex;\n",
              "      flex-wrap:wrap;\n",
              "      gap: 12px;\n",
              "    }\n",
              "\n",
              "    .colab-df-convert {\n",
              "      background-color: #E8F0FE;\n",
              "      border: none;\n",
              "      border-radius: 50%;\n",
              "      cursor: pointer;\n",
              "      display: none;\n",
              "      fill: #1967D2;\n",
              "      height: 32px;\n",
              "      padding: 0 0 0 0;\n",
              "      width: 32px;\n",
              "    }\n",
              "\n",
              "    .colab-df-convert:hover {\n",
              "      background-color: #E2EBFA;\n",
              "      box-shadow: 0px 1px 2px rgba(60, 64, 67, 0.3), 0px 1px 3px 1px rgba(60, 64, 67, 0.15);\n",
              "      fill: #174EA6;\n",
              "    }\n",
              "\n",
              "    [theme=dark] .colab-df-convert {\n",
              "      background-color: #3B4455;\n",
              "      fill: #D2E3FC;\n",
              "    }\n",
              "\n",
              "    [theme=dark] .colab-df-convert:hover {\n",
              "      background-color: #434B5C;\n",
              "      box-shadow: 0px 1px 3px 1px rgba(0, 0, 0, 0.15);\n",
              "      filter: drop-shadow(0px 1px 2px rgba(0, 0, 0, 0.3));\n",
              "      fill: #FFFFFF;\n",
              "    }\n",
              "  </style>\n",
              "\n",
              "      <script>\n",
              "        const buttonEl =\n",
              "          document.querySelector('#df-9f7a2968-763e-4f8e-89d7-cf801f3e5756 button.colab-df-convert');\n",
              "        buttonEl.style.display =\n",
              "          google.colab.kernel.accessAllowed ? 'block' : 'none';\n",
              "\n",
              "        async function convertToInteractive(key) {\n",
              "          const element = document.querySelector('#df-9f7a2968-763e-4f8e-89d7-cf801f3e5756');\n",
              "          const dataTable =\n",
              "            await google.colab.kernel.invokeFunction('convertToInteractive',\n",
              "                                                     [key], {});\n",
              "          if (!dataTable) return;\n",
              "\n",
              "          const docLinkHtml = 'Like what you see? Visit the ' +\n",
              "            '<a target=\"_blank\" href=https://colab.research.google.com/notebooks/data_table.ipynb>data table notebook</a>'\n",
              "            + ' to learn more about interactive tables.';\n",
              "          element.innerHTML = '';\n",
              "          dataTable['output_type'] = 'display_data';\n",
              "          await google.colab.output.renderOutput(dataTable, element);\n",
              "          const docLink = document.createElement('div');\n",
              "          docLink.innerHTML = docLinkHtml;\n",
              "          element.appendChild(docLink);\n",
              "        }\n",
              "      </script>\n",
              "    </div>\n",
              "  </div>\n",
              "  "
            ]
          },
          "metadata": {},
          "execution_count": 9
        }
      ],
      "source": [
        "data.sample(10)"
      ]
    },
    {
      "cell_type": "markdown",
      "id": "92546dca",
      "metadata": {
        "id": "92546dca"
      },
      "source": [
        "When checking the sample of dataframe, we found some sentence was still in English. Therefore language detection should be worked on.\n",
        "\n",
        "Although we tried with 4 to five methods(TextBlob, Googletrans, Polyglot, langdetect), none of them were not able to perfectly detect the language in sentence. That would be the probably the reason why the original datafile still contained english sentence in the first place. Therefore manual data cleansing must be proceeded with the help of one library.\n",
        "\n",
        "Because there were limited performance shown in TextBlob they were excluded. Polyglot and Googletrans is not based on rule or stats, and langdetect needs comparably larger portion of text for detection hence we chose pycld2."
      ]
    },
    {
      "cell_type": "code",
      "source": [
        "!pip install pycld2"
      ],
      "metadata": {
        "colab": {
          "base_uri": "https://localhost:8080/"
        },
        "id": "DUIQUkd_effk",
        "outputId": "899657a5-66c7-4f7c-9ffd-6d82aa95a891"
      },
      "id": "DUIQUkd_effk",
      "execution_count": null,
      "outputs": [
        {
          "output_type": "stream",
          "name": "stdout",
          "text": [
            "Looking in indexes: https://pypi.org/simple, https://us-python.pkg.dev/colab-wheels/public/simple/\n",
            "Collecting pycld2\n",
            "  Downloading pycld2-0.41.tar.gz (41.4 MB)\n",
            "\u001b[K     |████████████████████████████████| 41.4 MB 1.4 MB/s \n",
            "\u001b[?25hBuilding wheels for collected packages: pycld2\n",
            "  Building wheel for pycld2 (setup.py) ... \u001b[?25l\u001b[?25hdone\n",
            "  Created wheel for pycld2: filename=pycld2-0.41-cp37-cp37m-linux_x86_64.whl size=9834219 sha256=550ade6c5c76024c7b0dc95cc65eeb012fd2de4ffc144fc7532ae3aefbf11210\n",
            "  Stored in directory: /root/.cache/pip/wheels/ed/e4/58/ed2e9f43c07d617cc81fe7aff0fc6e42b16c9cf6afe960b614\n",
            "Successfully built pycld2\n",
            "Installing collected packages: pycld2\n",
            "Successfully installed pycld2-0.41\n"
          ]
        }
      ]
    },
    {
      "cell_type": "code",
      "execution_count": null,
      "id": "80bfcf27",
      "metadata": {
        "scrolled": true,
        "id": "80bfcf27"
      },
      "outputs": [],
      "source": [
        "# Language detection function in pycld2\n",
        "import pycld2 as cld2"
      ]
    },
    {
      "cell_type": "code",
      "execution_count": null,
      "id": "c1a5ba95",
      "metadata": {
        "id": "c1a5ba95"
      },
      "outputs": [],
      "source": [
        "# Index of non-german sentences stored in a list\n",
        "nonegerman = []\n",
        "for i in range(len(data)):\n",
        "    isReliable, textBytesFound, details = cld2.detect(data['sentence'][i])\n",
        "    if details[0][0] != \"GERMAN\":\n",
        "        nonegerman.append(i)"
      ]
    },
    {
      "cell_type": "code",
      "execution_count": null,
      "id": "bfcb8e1d",
      "metadata": {
        "scrolled": true,
        "id": "bfcb8e1d",
        "outputId": "3382f97f-64aa-45cf-d821-c2eac9ec6bb6",
        "colab": {
          "base_uri": "https://localhost:8080/"
        }
      },
      "outputs": [
        {
          "output_type": "stream",
          "name": "stdout",
          "text": [
            "[15, 16, 17, 20, 22, 26, 96, 167, 207, 208] \n",
            "\n",
            "[209, 212, 255, 296, 351, 378, 384, 391, 419, 456] \n",
            "\n",
            "[540, 541, 542, 543, 544, 548, 549, 577, 578, 579] \n",
            "\n",
            "[718, 725, 731, 735, 739, 740, 741, 742, 743, 752] \n",
            "\n",
            "[790, 791, 844, 896, 909, 912, 927, 928, 931, 994] \n",
            "\n",
            "[995, 996, 997, 1025, 1065, 1066, 1067, 1095, 1106, 1107] \n",
            "\n",
            "[1263, 1308, 1314, 1315, 1321, 1376, 1484, 1485, 1504, 1568] \n",
            "\n",
            "[1580, 1581, 1583, 1584, 1589, 1590, 1627, 1628, 1688, 1695] \n",
            "\n",
            "[1697, 1699, 1732, 1740, 1781, 1782, 1898, 1903, 1958, 2042] \n",
            "\n",
            "[2185, 2270, 2271, 2282, 2283, 2284, 2288, 2290, 2293, 2298] \n",
            "\n",
            "[2300, 2341, 2458, 2459, 2600, 2723, 2726, 2825, 2924, 2925] \n",
            "\n",
            "[2980, 3009, 3019, 3025, 3026, 3030, 3031, 3033, 3042, 3043] \n",
            "\n",
            "[3044, 3045, 3046, 3049, 3052, 3061, 3065, 3069, 3072, 3081] \n",
            "\n",
            "[3091, 3099, 3102, 3103, 3104, 3109, 3111, 3131, 3133, 3134] \n",
            "\n",
            "[3157, 3170, 3179, 3185, 3190, 3193, 3197, 3222, 3227, 3284] \n",
            "\n",
            "[3325, 3332, 3340, 3375, 3389, 3394, 3458, 3546, 3600, 3642] \n",
            "\n",
            "[3695, 3704, 3712, 3884, 3932, 3956, 3957, 3965, 3986, 4162] \n",
            "\n",
            "[4173, 4538, 4587, 4593, 4595, 4605, 4626, 4701, 4860, 4903] \n",
            "\n",
            "[4945, 4988, 5013, 5106, 5219, 5264, 5447, 5460, 5623, 5631] \n",
            "\n",
            "[5737, 5846, 5991, 6154, 6225, 6227, 6257, 6300, 6302, 6308] \n",
            "\n",
            "[6341, 6482, 6494, 6632, 6633, 6661, 6689, 6720, 6722, 6762] \n",
            "\n",
            "[6844, 6856, 6858, 6867, 6894, 6923, 7041, 7083, 7084, 7093] \n",
            "\n",
            "[7123, 7155, 7183, 7204, 7210, 7252, 7308, 7312, 7363, 7398] \n",
            "\n",
            "[7416, 7417, 7434, 7435, 7463, 7470, 7486, 7600, 7607, 7613] \n",
            "\n"
          ]
        }
      ],
      "source": [
        "for i in range(1, len(nonegerman)+1):\n",
        "    if i%10 == 0:\n",
        "        print(nonegerman[i-10:i], \"\\n\")"
      ]
    },
    {
      "cell_type": "markdown",
      "id": "9138fbae",
      "metadata": {
        "id": "9138fbae"
      },
      "source": [
        "Checking the index printed above in the 'sentences_all.tsv' file, only translated English sentence to German using DeepL translator. There were some rows only containing a symbol but we did not handle them to keep the integrity of data which should be used for comparing with another team.\n",
        "\n",
        "Then the manually handled file is named 'sentences_all_manual.tsv'.\n"
      ]
    },
    {
      "cell_type": "markdown",
      "id": "7c662f42",
      "metadata": {
        "id": "7c662f42"
      },
      "source": [
        "## EDA of Text data\n",
        "\n"
      ]
    },
    {
      "cell_type": "code",
      "execution_count": null,
      "id": "2a7cb9e6",
      "metadata": {
        "id": "2a7cb9e6",
        "outputId": "d4bb4fd0-4e3b-4a5c-a06c-8fdc433f9d07",
        "colab": {
          "base_uri": "https://localhost:8080/"
        }
      },
      "outputs": [
        {
          "output_type": "stream",
          "name": "stdout",
          "text": [
            "1. Number of samples: 7620\n",
            "2. Number of classes: [0 1 2 3 4 5]\n",
            "3. Number of samples per class:\n",
            "\n",
            "   final\n",
            "0   3057\n",
            "2   1933\n",
            "3   1286\n",
            "1    517\n",
            "4    457\n",
            "5    370\n",
            "\n",
            "4. Median of the number of words in a sentence: 18.0\n",
            "\n",
            "5. Max number of words in a sentence: 121\n"
          ]
        }
      ],
      "source": [
        "# Key metrics of data\n",
        "print(\"1. Number of samples:\", len(data))\n",
        "print(\"2. Number of classes:\", np.sort(pd.unique(data.final)))\n",
        "print(\"3. Number of samples per class:\\n\")\n",
        "print(pd.DataFrame(data.final.value_counts()))\n",
        "\n",
        "cnt_all = [len(data.sentence[i].split()) for i in range(len(data))]\n",
        "print(\"\\n4. Median of the number of words in a sentence:\", np.median(cnt_all))\n",
        "print(\"\\n5. Max number of words in a sentence:\", np.max(cnt_all))"
      ]
    },
    {
      "cell_type": "code",
      "execution_count": null,
      "id": "6fcade3a",
      "metadata": {
        "scrolled": true,
        "id": "6fcade3a",
        "outputId": "591891c9-c6c6-4d0b-fef8-35cde7bab18d",
        "colab": {
          "base_uri": "https://localhost:8080/"
        }
      },
      "outputs": [
        {
          "output_type": "stream",
          "name": "stderr",
          "text": [
            "[nltk_data] Downloading package stopwords to /root/nltk_data...\n",
            "[nltk_data]   Unzipping corpora/stopwords.zip.\n"
          ]
        },
        {
          "output_type": "execute_result",
          "data": {
            "text/plain": [
              "True"
            ]
          },
          "metadata": {},
          "execution_count": 15
        }
      ],
      "source": [
        "# Data cleaning & preprocessing for removing stopwords.\n",
        "\n",
        "import re\n",
        "import nltk\n",
        "\n",
        "nltk.download('stopwords')"
      ]
    },
    {
      "cell_type": "markdown",
      "id": "5ece65f1",
      "metadata": {
        "id": "5ece65f1"
      },
      "source": [
        "### Goal of the pre-processing\n",
        "We needed to remove the stopwords as classifying the meaning of the sentences into some categories.\n",
        "\n",
        "Also, lemmatization of german should have been differ from the one of english. nltk does not provide the german lemmatizing tools, which has been developed from Standford uni for english.\n",
        "\n",
        "Therefore we used the Hannover Tagger\n",
        "\n"
      ]
    },
    {
      "cell_type": "markdown",
      "id": "92d27574",
      "metadata": {
        "id": "92d27574"
      },
      "source": [
        "###  Stemming and Lemmatization application\n",
        "- Lemmatization can act as redundant process in this task, since getting tags is not essential as we are not selecting words with language type e.g. nouns, adjectives, adverbs..\n",
        "- Doing stemming and lemmatization decision can be intuitively adjusted by researchers.\n",
        "- If about to apply both processes, then lemmatization -> stemming would be appropriate order in another project.\n",
        "- Therefore we tried 3 combinations of dataset\n",
        "\n",
        "    1) Stemmed dataset\n",
        "    2) Lemmatized dataset\n",
        "    3) Lemmatized and then stemmed dataset\n"
      ]
    },
    {
      "cell_type": "code",
      "execution_count": null,
      "id": "9ddefcac",
      "metadata": {
        "id": "9ddefcac",
        "outputId": "1198f4e7-25dd-477f-8651-46d2b37dca46",
        "colab": {
          "base_uri": "https://localhost:8080/"
        }
      },
      "outputs": [
        {
          "output_type": "stream",
          "name": "stderr",
          "text": [
            "[nltk_data] Downloading package wordnet to /root/nltk_data...\n"
          ]
        },
        {
          "output_type": "execute_result",
          "data": {
            "text/plain": [
              "['zunächst arbeitsplatz vorbereitet konzentriert aufgabe bearbeiten',\n",
              " 'anschließend las fallbeispiel mehrmals fing spontan fragen beantworten',\n",
              " 'neutral offen aufgabe herangegangen recht wohl gefühlt',\n",
              " 'nachdem zunächst aufgabe lerninhalte bearbeitet las tipps konnte mehr reproduktion hinzufügen lösung struktur geben hintergrundwissen basierte',\n",
              " 'tipps geholfen lösung verbessern',\n",
              " 'zufrieden leistung',\n",
              " 'allerdings bewusst vollständig',\n",
              " 'leider weiß fehlt bzw verbessert',\n",
              " 'schließlich gute übung perfekt',\n",
              " 'motiviert finde klassengeschehen klassendynamik gutes effektives lernen wichtig']"
            ]
          },
          "metadata": {},
          "execution_count": 16
        }
      ],
      "source": [
        "# Construct corpus with token unit sentence\n",
        "# Non-german alphabets containing words are removed.\n",
        "# Stemming library and list.\n",
        "\n",
        "from nltk.corpus import stopwords\n",
        "from nltk.stem.porter import PorterStemmer\n",
        "nltk.download('wordnet')\n",
        "\n",
        "ps = PorterStemmer()\n",
        "corpus = []\n",
        "\n",
        "for i in range(0, len(data)):\n",
        "    review = re.sub('[^a-zA-ZäöüÄÖÜß]', ' ', data['sentence'][i])\n",
        "    review = review.lower()\n",
        "    review = review.split()\n",
        "\n",
        "    review = [word for word in review if not word in stopwords.words('german')]\n",
        "    review = ' '.join(review)\n",
        "    corpus.append(review)\n",
        "corpus[:10]"
      ]
    },
    {
      "cell_type": "code",
      "execution_count": null,
      "id": "0c1b9ba4",
      "metadata": {
        "scrolled": true,
        "id": "0c1b9ba4",
        "outputId": "5a67d3e1-db74-47da-fac9-0b89f669db30",
        "colab": {
          "base_uri": "https://localhost:8080/"
        }
      },
      "outputs": [
        {
          "output_type": "execute_result",
          "data": {
            "text/plain": [
              "['zunächst arbeitsplatz vorbereitet konzentriert aufgabe bearbeiten',\n",
              " 'anschließend las fallbeispiel mehrmals fing spontan fragen beantworten',\n",
              " 'neutral offen aufgabe herangegangen recht wohl gefühlt',\n",
              " 'nachdem zunächst aufgabe lerninhalte bearbeitet las tipps konnte mehr reproduktion hinzufügen lösung struktur geben hintergrundwissen basiert',\n",
              " 'tipps geholfen lösung verbessern',\n",
              " 'zufrieden leistung',\n",
              " 'allerdings bewusst vollständig',\n",
              " 'leider weiß fehlt bzw verbessert',\n",
              " 'schließlich gute übung perfekt',\n",
              " 'motiviert finde klassengeschehen klassendynamik gutes effektives lernen wichtig']"
            ]
          },
          "metadata": {},
          "execution_count": 17
        }
      ],
      "source": [
        "# Stemmed corpus\n",
        "stem_corpus = [ps.stem(word) for word in corpus]\n",
        "stem_corpus[:10]"
      ]
    },
    {
      "cell_type": "code",
      "source": [
        "!pip install HanTa"
      ],
      "metadata": {
        "colab": {
          "base_uri": "https://localhost:8080/"
        },
        "id": "bX7CI5Une2mY",
        "outputId": "7bb9fa9f-5ce6-474d-89a4-7a51fd78c071"
      },
      "id": "bX7CI5Une2mY",
      "execution_count": null,
      "outputs": [
        {
          "output_type": "stream",
          "name": "stdout",
          "text": [
            "Looking in indexes: https://pypi.org/simple, https://us-python.pkg.dev/colab-wheels/public/simple/\n",
            "Collecting HanTa\n",
            "  Downloading HanTa-0.2.0-py3-none-any.whl (1.5 MB)\n",
            "\u001b[K     |████████████████████████████████| 1.5 MB 5.2 MB/s \n",
            "\u001b[?25hInstalling collected packages: HanTa\n",
            "Successfully installed HanTa-0.2.0\n"
          ]
        }
      ]
    },
    {
      "cell_type": "code",
      "execution_count": null,
      "id": "af062cf3",
      "metadata": {
        "scrolled": true,
        "id": "af062cf3",
        "outputId": "08f57df2-ccc8-4370-87dd-732ec500e93e",
        "colab": {
          "base_uri": "https://localhost:8080/"
        }
      },
      "outputs": [
        {
          "output_type": "stream",
          "name": "stderr",
          "text": [
            "[nltk_data] Downloading package punkt to /root/nltk_data...\n",
            "[nltk_data]   Unzipping tokenizers/punkt.zip.\n"
          ]
        },
        {
          "output_type": "execute_result",
          "data": {
            "text/plain": [
              "['zunächst Arbeitsplatz vorbereiten konzentriert Aufgabe bearbeiten',\n",
              " 'anschließend lesen Fallbeispiel mehrmals fangen spontan fragen beantworten',\n",
              " 'neutral offen Aufgabe herangehen recht wohl fühlen',\n",
              " 'nachdem zunächst Aufgabe Lerninhalte bearbeiten Las Tipps können mehr Reproduktion hinfügen Lösung Struktur geben hintergrundwissen basieren',\n",
              " 'Tipps helfen Lösung verbessern',\n",
              " 'zufrieden Leistung',\n",
              " 'allerdings bewissen vollständig',\n",
              " 'leider weiß fehlen Bzw verbessern',\n",
              " 'schließlich gut Übung perfekt',\n",
              " 'motivieren finden klassengeschehen klassendynamik gut effektiv lernen wichtig']"
            ]
          },
          "metadata": {},
          "execution_count": 19
        }
      ],
      "source": [
        "# Lemmatizing corpus\n",
        "# sentences_tok  =  [nltk.tokenize.word_tokenize ( sent )  for  sent  in  corpus\n",
        "# For german lemmatization, NLTK cannot be used so that we used the HanoverTagger.\n",
        "\n",
        "from HanTa import HanoverTagger as ht\n",
        "nltk.download('punkt')\n",
        "\n",
        "lem_corpus  =  []\n",
        "temp = ''\n",
        "tagger = ht.HanoverTagger('morphmodel_ger.pgz')\n",
        "\n",
        "for raw in corpus:\n",
        "    tok_raw = [nltk.tokenize.word_tokenize( raw )]\n",
        "    lem_tok = []\n",
        "    for tok in tok_raw:\n",
        "        tags = tagger.tag_sent(tok)\n",
        "        lem_tok.extend(lemma for (word, lemma, pos) in tags)\n",
        "    temp = \" \".join(lem_tok)\n",
        "    lem_corpus.append(temp)\n",
        "\n",
        "lem_corpus[:10]"
      ]
    },
    {
      "cell_type": "code",
      "execution_count": null,
      "id": "ed0864bb",
      "metadata": {
        "id": "ed0864bb",
        "outputId": "4bf6f58f-fc02-4b73-d408-7ae87c7dd549",
        "colab": {
          "base_uri": "https://localhost:8080/"
        }
      },
      "outputs": [
        {
          "output_type": "execute_result",
          "data": {
            "text/plain": [
              "['zunächst arbeitsplatz vorbereiten konzentriert aufgabe bearbeiten',\n",
              " 'anschließend lesen fallbeispiel mehrmals fangen spontan fragen beantworten',\n",
              " 'neutral offen aufgabe herangehen recht wohl fühlen',\n",
              " 'nachdem zunächst aufgabe lerninhalte bearbeiten las tipps können mehr reproduktion hinfügen lösung struktur geben hintergrundwissen basieren',\n",
              " 'tipps helfen lösung verbessern',\n",
              " 'zufrieden leistung',\n",
              " 'allerdings bewissen vollständig',\n",
              " 'leider weiß fehlen bzw verbessern',\n",
              " 'schließlich gut übung perfekt',\n",
              " 'motivieren finden klassengeschehen klassendynamik gut effektiv lernen wichtig']"
            ]
          },
          "metadata": {},
          "execution_count": 20
        }
      ],
      "source": [
        "# Lemmatized and stemmed corpus\n",
        "lem_stem_corpus = [ps.stem(word) for word in lem_corpus]\n",
        "lem_stem_corpus[:10]"
      ]
    },
    {
      "cell_type": "markdown",
      "id": "12eb0adc",
      "metadata": {
        "id": "12eb0adc"
      },
      "source": [
        "### Summary of dataset\n",
        "corpus\n",
        "\n",
        "1. non-german alphabets are removed e.g. '.' or '!'\n",
        "2. lowercase\n",
        "3. stopwords are removed\n",
        "\n",
        "lem_corpus: lemmatized corpus\n",
        "\n",
        "stem_corpus: stemmed corpus"
      ]
    },
    {
      "cell_type": "code",
      "execution_count": null,
      "id": "df7b5f8a",
      "metadata": {
        "scrolled": true,
        "id": "df7b5f8a",
        "outputId": "a8e949ee-d93c-4fba-e185-8bef93f8df10",
        "colab": {
          "base_uri": "https://localhost:8080/",
          "height": 518
        }
      },
      "outputs": [
        {
          "output_type": "stream",
          "name": "stdout",
          "text": [
            "[('gut', 948),\n",
            " ('Kind', 846),\n",
            " ('Aufgabe', 834),\n",
            " ('Thema', 527),\n",
            " ('lernen', 471),\n",
            " ('Bearbeitung', 412),\n",
            " ('geben', 402),\n",
            " ('werden', 402),\n",
            " ('Lehrer', 376),\n",
            " ('wichtig', 368)]\n"
          ]
        },
        {
          "output_type": "display_data",
          "data": {
            "text/plain": [
              "<Figure size 432x288 with 1 Axes>"
            ],
            "image/png": "[encoded data removed]"
          },
          "metadata": {
            "needs_background": "light"
          }
        },
        {
          "output_type": "execute_result",
          "data": {
            "text/plain": [
              "<matplotlib.axes._subplots.AxesSubplot at 0x7f5befb44c10>"
            ]
          },
          "metadata": {},
          "execution_count": 21
        }
      ],
      "source": [
        "# Check the most common words in graph\n",
        "# Plus, we can see the useful feature of the lemmatization - tag.\n",
        "#      If we were looking for nouns only, then we can give the condition after the for (word, lemma, pos)\n",
        "# In a variable sentences_tok: Each sentence will be one list containing words.\n",
        "\n",
        "from pprint import pprint\n",
        "common  =  []\n",
        "sentences_tok  =  [nltk.tokenize.word_tokenize ( sent )  for  sent  in  corpus]\n",
        "\n",
        "for  sent  in  sentences_tok :\n",
        "    tags  =  tagger.tag_sent(sent)\n",
        "    comm_from_sent  =  [ lemma  for  ( word , lemma , pos )  in  tags]\n",
        "    common.extend(comm_from_sent)\n",
        "\n",
        "fdist  =  nltk.FreqDist (common)\n",
        "\n",
        "# Most common 10 words\n",
        "pprint (fdist.most_common ( 10 ))\n",
        "# Graph most common 15 words\n",
        "fdist.plot (15 , cumulative = False )"
      ]
    },
    {
      "cell_type": "code",
      "execution_count": null,
      "id": "1b5cc3df",
      "metadata": {
        "id": "1b5cc3df"
      },
      "outputs": [],
      "source": [
        "# Visualization library\n",
        "import seaborn as sns\n",
        "import matplotlib.pyplot as plt\n",
        "from nltk.tokenize import word_tokenize\n",
        "from nltk import ngrams\n",
        "from collections import Counter\n",
        "\n",
        "# A sample length - Number of samples without spaces in between\n",
        "def plot_sample_length_distribution(sample_texts):\n",
        "    \"\"\"Plots the sample length distribution.\n",
        "\n",
        "    # Arguments\n",
        "        samples_texts: list, sample texts.\n",
        "    \"\"\"\n",
        "    plt.hist([len(s.split()) for s in sample_texts], 50)\n",
        "    plt.xlabel('Length of a sample')\n",
        "    plt.ylabel('Number of samples')\n",
        "    plt.title('Sample length distribution')\n",
        "    plt.show()"
      ]
    },
    {
      "cell_type": "code",
      "execution_count": null,
      "id": "20e63d82",
      "metadata": {
        "id": "20e63d82"
      },
      "outputs": [],
      "source": [
        "# Word frequency for unigram, bigram, and trigram.\n",
        "def word_frequency(new_tokens):\n",
        "    counted = Counter(new_tokens)\n",
        "    counted_2 = Counter(ngrams(new_tokens, 2))\n",
        "    counted_3 = Counter(ngrams(new_tokens, 3))\n",
        "\n",
        "    word_freq = pd.DataFrame(counted.items(), columns = ['word', 'frequency']).sort_values(by = ['frequency'], ascending = False)\n",
        "    word_pairs = pd.DataFrame(counted_2.items(), columns = ['pairs', 'frequency']).sort_values(by = ['frequency'], ascending = False)\n",
        "    trigrams = pd.DataFrame(counted_3.items(), columns = ['trigrams', 'frequency']).sort_values(by = ['frequency'], ascending = False)\n",
        "    return word_freq, word_pairs, trigrams\n",
        "\n",
        "data2, data3, data4 = word_frequency(common)"
      ]
    },
    {
      "cell_type": "code",
      "execution_count": null,
      "id": "b59fcdbc",
      "metadata": {
        "id": "b59fcdbc"
      },
      "outputs": [],
      "source": [
        "# Add another column of word_len in dataframe of unigram\n",
        "data2['word_len'] = [len(w) for w in data2['word']]\n",
        "data2 = data2.reset_index(drop = True)"
      ]
    },
    {
      "cell_type": "code",
      "execution_count": null,
      "id": "d871adb8",
      "metadata": {
        "id": "d871adb8",
        "outputId": "e31160ff-6c23-4dd2-83e5-bc7faea28798",
        "colab": {
          "base_uri": "https://localhost:8080/",
          "height": 419
        }
      },
      "outputs": [
        {
          "output_type": "execute_result",
          "data": {
            "text/plain": [
              "          word  frequency  word_len\n",
              "0          gut        948         3\n",
              "1         Kind        846         4\n",
              "2      Aufgabe        834         7\n",
              "3        Thema        527         5\n",
              "4       lernen        471         6\n",
              "...        ...        ...       ...\n",
              "9203     Lucky          1         5\n",
              "9204  Fotograf          1         8\n",
              "9205  teamleit          1         8\n",
              "9206  chefkoch          1         8\n",
              "9207    nerven          1         6\n",
              "\n",
              "[9208 rows x 3 columns]"
            ],
            "text/html": [
              "\n",
              "  <div id=\"df-f41e88c9-c4c3-47b2-92a1-941c66a8264e\">\n",
              "    <div class=\"colab-df-container\">\n",
              "      <div>\n",
              "<style scoped>\n",
              "    .dataframe tbody tr th:only-of-type {\n",
              "        vertical-align: middle;\n",
              "    }\n",
              "\n",
              "    .dataframe tbody tr th {\n",
              "        vertical-align: top;\n",
              "    }\n",
              "\n",
              "    .dataframe thead th {\n",
              "        text-align: right;\n",
              "    }\n",
              "</style>\n",
              "<table border=\"1\" class=\"dataframe\">\n",
              "  <thead>\n",
              "    <tr style=\"text-align: right;\">\n",
              "      <th></th>\n",
              "      <th>word</th>\n",
              "      <th>frequency</th>\n",
              "      <th>word_len</th>\n",
              "    </tr>\n",
              "  </thead>\n",
              "  <tbody>\n",
              "    <tr>\n",
              "      <th>0</th>\n",
              "      <td>gut</td>\n",
              "      <td>948</td>\n",
              "      <td>3</td>\n",
              "    </tr>\n",
              "    <tr>\n",
              "      <th>1</th>\n",
              "      <td>Kind</td>\n",
              "      <td>846</td>\n",
              "      <td>4</td>\n",
              "    </tr>\n",
              "    <tr>\n",
              "      <th>2</th>\n",
              "      <td>Aufgabe</td>\n",
              "      <td>834</td>\n",
              "      <td>7</td>\n",
              "    </tr>\n",
              "    <tr>\n",
              "      <th>3</th>\n",
              "      <td>Thema</td>\n",
              "      <td>527</td>\n",
              "      <td>5</td>\n",
              "    </tr>\n",
              "    <tr>\n",
              "      <th>4</th>\n",
              "      <td>lernen</td>\n",
              "      <td>471</td>\n",
              "      <td>6</td>\n",
              "    </tr>\n",
              "    <tr>\n",
              "      <th>...</th>\n",
              "      <td>...</td>\n",
              "      <td>...</td>\n",
              "      <td>...</td>\n",
              "    </tr>\n",
              "    <tr>\n",
              "      <th>9203</th>\n",
              "      <td>Lucky</td>\n",
              "      <td>1</td>\n",
              "      <td>5</td>\n",
              "    </tr>\n",
              "    <tr>\n",
              "      <th>9204</th>\n",
              "      <td>Fotograf</td>\n",
              "      <td>1</td>\n",
              "      <td>8</td>\n",
              "    </tr>\n",
              "    <tr>\n",
              "      <th>9205</th>\n",
              "      <td>teamleit</td>\n",
              "      <td>1</td>\n",
              "      <td>8</td>\n",
              "    </tr>\n",
              "    <tr>\n",
              "      <th>9206</th>\n",
              "      <td>chefkoch</td>\n",
              "      <td>1</td>\n",
              "      <td>8</td>\n",
              "    </tr>\n",
              "    <tr>\n",
              "      <th>9207</th>\n",
              "      <td>nerven</td>\n",
              "      <td>1</td>\n",
              "      <td>6</td>\n",
              "    </tr>\n",
              "  </tbody>\n",
              "</table>\n",
              "<p>9208 rows × 3 columns</p>\n",
              "</div>\n",
              "      <button class=\"colab-df-convert\" onclick=\"convertToInteractive('df-f41e88c9-c4c3-47b2-92a1-941c66a8264e')\"\n",
              "              title=\"Convert this dataframe to an interactive table.\"\n",
              "              style=\"display:none;\">\n",
              "        \n",
              "  <svg xmlns=\"http://www.w3.org/2000/svg\" height=\"24px\"viewBox=\"0 0 24 24\"\n",
              "       width=\"24px\">\n",
              "    <path d=\"M0 0h24v24H0V0z\" fill=\"none\"/>\n",
              "    <path d=\"M18.56 5.44l.94 2.06.94-2.06 2.06-.94-2.06-.94-.94-2.06-.94 2.06-2.06.94zm-11 1L8.5 8.5l.94-2.06 2.06-.94-2.06-.94L8.5 2.5l-.94 2.06-2.06.94zm10 10l.94 2.06.94-2.06 2.06-.94-2.06-.94-.94-2.06-.94 2.06-2.06.94z\"/><path d=\"M17.41 7.96l-1.37-1.37c-.4-.4-.92-.59-1.43-.59-.52 0-1.04.2-1.43.59L10.3 9.45l-7.72 7.72c-.78.78-.78 2.05 0 2.83L4 21.41c.39.39.9.59 1.41.59.51 0 1.02-.2 1.41-.59l7.78-7.78 2.81-2.81c.8-.78.8-2.07 0-2.86zM5.41 20L4 18.59l7.72-7.72 1.47 1.35L5.41 20z\"/>\n",
              "  </svg>\n",
              "      </button>\n",
              "      \n",
              "  <style>\n",
              "    .colab-df-container {\n",
              "      display:flex;\n",
              "      flex-wrap:wrap;\n",
              "      gap: 12px;\n",
              "    }\n",
              "\n",
              "    .colab-df-convert {\n",
              "      background-color: #E8F0FE;\n",
              "      border: none;\n",
              "      border-radius: 50%;\n",
              "      cursor: pointer;\n",
              "      display: none;\n",
              "      fill: #1967D2;\n",
              "      height: 32px;\n",
              "      padding: 0 0 0 0;\n",
              "      width: 32px;\n",
              "    }\n",
              "\n",
              "    .colab-df-convert:hover {\n",
              "      background-color: #E2EBFA;\n",
              "      box-shadow: 0px 1px 2px rgba(60, 64, 67, 0.3), 0px 1px 3px 1px rgba(60, 64, 67, 0.15);\n",
              "      fill: #174EA6;\n",
              "    }\n",
              "\n",
              "    [theme=dark] .colab-df-convert {\n",
              "      background-color: #3B4455;\n",
              "      fill: #D2E3FC;\n",
              "    }\n",
              "\n",
              "    [theme=dark] .colab-df-convert:hover {\n",
              "      background-color: #434B5C;\n",
              "      box-shadow: 0px 1px 3px 1px rgba(0, 0, 0, 0.15);\n",
              "      filter: drop-shadow(0px 1px 2px rgba(0, 0, 0, 0.3));\n",
              "      fill: #FFFFFF;\n",
              "    }\n",
              "  </style>\n",
              "\n",
              "      <script>\n",
              "        const buttonEl =\n",
              "          document.querySelector('#df-f41e88c9-c4c3-47b2-92a1-941c66a8264e button.colab-df-convert');\n",
              "        buttonEl.style.display =\n",
              "          google.colab.kernel.accessAllowed ? 'block' : 'none';\n",
              "\n",
              "        async function convertToInteractive(key) {\n",
              "          const element = document.querySelector('#df-f41e88c9-c4c3-47b2-92a1-941c66a8264e');\n",
              "          const dataTable =\n",
              "            await google.colab.kernel.invokeFunction('convertToInteractive',\n",
              "                                                     [key], {});\n",
              "          if (!dataTable) return;\n",
              "\n",
              "          const docLinkHtml = 'Like what you see? Visit the ' +\n",
              "            '<a target=\"_blank\" href=https://colab.research.google.com/notebooks/data_table.ipynb>data table notebook</a>'\n",
              "            + ' to learn more about interactive tables.';\n",
              "          element.innerHTML = '';\n",
              "          dataTable['output_type'] = 'display_data';\n",
              "          await google.colab.output.renderOutput(dataTable, element);\n",
              "          const docLink = document.createElement('div');\n",
              "          docLink.innerHTML = docLinkHtml;\n",
              "          element.appendChild(docLink);\n",
              "        }\n",
              "      </script>\n",
              "    </div>\n",
              "  </div>\n",
              "  "
            ]
          },
          "metadata": {},
          "execution_count": 25
        }
      ],
      "source": [
        "# Words lemmatized ordered in frequency with word_len information together\n",
        "data2"
      ]
    },
    {
      "cell_type": "code",
      "execution_count": null,
      "id": "0760504d",
      "metadata": {
        "scrolled": true,
        "id": "0760504d",
        "outputId": "06aa3fab-42ec-4189-a476-2c25223d5c5c",
        "colab": {
          "base_uri": "https://localhost:8080/",
          "height": 295
        }
      },
      "outputs": [
        {
          "output_type": "display_data",
          "data": {
            "text/plain": [
              "<Figure size 432x288 with 1 Axes>"
            ],
            "image/png": "[encoded data removed]"
          },
          "metadata": {
            "needs_background": "light"
          }
        }
      ],
      "source": [
        "# Visualization\n",
        "# Length of a sample and Number of samples - how many words in each sentence\n",
        "\n",
        "plot_sample_length_distribution(corpus)"
      ]
    },
    {
      "cell_type": "markdown",
      "id": "2b1a9d9e",
      "metadata": {
        "id": "2b1a9d9e"
      },
      "source": [
        "Most of the sentences consist of 0-30 words."
      ]
    },
    {
      "cell_type": "code",
      "execution_count": null,
      "id": "346eb9ef",
      "metadata": {
        "scrolled": true,
        "id": "346eb9ef",
        "outputId": "c46d0c78-0db2-46d9-8f85-720d91218ff6",
        "colab": {
          "base_uri": "https://localhost:8080/"
        }
      },
      "outputs": [
        {
          "output_type": "stream",
          "name": "stdout",
          "text": [
            "Max length: 121, Min length: 1, Average Length :  19.090288713910763\n"
          ]
        }
      ],
      "source": [
        "# Max, Min, Average length of the sentence\n",
        "data['len']= data['sentence'].str.split().map(lambda x: len(x))\n",
        "print('Max length: {}, Min length: {}, Average Length :  {}'.format(max(data['len']),min(data['len']),data['len'].mean()))"
      ]
    },
    {
      "cell_type": "markdown",
      "id": "a3141133",
      "metadata": {
        "id": "a3141133"
      },
      "source": [
        "## N-grams\n",
        "N-grams is the continuous sequence of words or symbols in a document.\n",
        "\n",
        "If N == 1: unigram, N == 2: bigram, N == 3: trigram"
      ]
    },
    {
      "cell_type": "code",
      "execution_count": null,
      "id": "27237260",
      "metadata": {
        "scrolled": true,
        "id": "27237260",
        "outputId": "964b6f99-0772-4134-91fe-1038f31de478",
        "colab": {
          "base_uri": "https://localhost:8080/",
          "height": 1000
        }
      },
      "outputs": [
        {
          "output_type": "execute_result",
          "data": {
            "text/plain": [
              "<matplotlib.axes._subplots.AxesSubplot at 0x7f5bed7c8490>"
            ]
          },
          "metadata": {},
          "execution_count": 28
        },
        {
          "output_type": "display_data",
          "data": {
            "text/plain": [
              "<Figure size 576x1440 with 3 Axes>"
            ],
            "image/png": "[encoded data removed]"
          },
          "metadata": {
            "needs_background": "light"
          }
        }
      ],
      "source": [
        "# Word frequency\n",
        "fig, axes = plt.subplots(3,1,figsize=(8,20))\n",
        "\n",
        "sns.barplot(ax=axes[0],x='frequency',y='word',data= data2.head(30))\n",
        "sns.barplot(ax=axes[1],x='frequency',y='pairs',data=data3.head(10))\n",
        "sns.barplot(ax=axes[2],x='frequency',y='trigrams',data=data4.head(10))\n",
        "\n"
      ]
    },
    {
      "cell_type": "markdown",
      "id": "315e0dea",
      "metadata": {
        "id": "315e0dea"
      },
      "source": [
        "# Machine learning"
      ]
    },
    {
      "cell_type": "code",
      "execution_count": null,
      "id": "79ebfb73",
      "metadata": {
        "id": "79ebfb73"
      },
      "outputs": [],
      "source": [
        "from sklearn import naive_bayes, svm\n",
        "from sklearn.ensemble import RandomForestClassifier\n",
        "from sklearn.metrics import accuracy_score\n",
        "from sklearn.metrics import f1_score\n",
        "from sklearn.metrics import cohen_kappa_score"
      ]
    },
    {
      "cell_type": "markdown",
      "id": "69e780fa",
      "metadata": {
        "id": "69e780fa"
      },
      "source": [
        "## Preprocessing - Bag of Words\n",
        "\n",
        "As we are not using multiple documents rather all are combined in one document, TF/IDF does not have a power to impact a lot on the result. Therefore we chose BoW."
      ]
    },
    {
      "cell_type": "code",
      "execution_count": null,
      "id": "eaa26429",
      "metadata": {
        "id": "eaa26429"
      },
      "outputs": [],
      "source": [
        "# Creating the Bag of Words model\n",
        "from sklearn.feature_extraction.text import CountVectorizer\n",
        "cv = CountVectorizer(max_features=2500)\n",
        "\n",
        "# By changing the dataset from 1)stem_corpus, 2)lem_corpus, 3)lem_stem_corpus\n",
        "#    Different accuracy results are below.\n",
        "\n",
        "X = cv.fit_transform(lem_stem_corpus).toarray()\n",
        "y = data['final']"
      ]
    },
    {
      "cell_type": "code",
      "execution_count": null,
      "id": "ce15465b",
      "metadata": {
        "id": "ce15465b"
      },
      "outputs": [],
      "source": [
        "# Train-test set split\n",
        "from sklearn.model_selection import train_test_split\n",
        "X_train, X_test, y_train, y_test = train_test_split(X, y, test_size = 0.20, random_state = 0)"
      ]
    },
    {
      "cell_type": "markdown",
      "id": "bff3326f",
      "metadata": {
        "id": "bff3326f"
      },
      "source": [
        "## SVM\n",
        "\n",
        "It is known to be well performing in text classification"
      ]
    },
    {
      "cell_type": "code",
      "execution_count": null,
      "id": "efcef795",
      "metadata": {
        "id": "efcef795",
        "outputId": "dd49c58a-2217-4169-be0b-95b0712365e3",
        "colab": {
          "base_uri": "https://localhost:8080/"
        }
      },
      "outputs": [
        {
          "output_type": "stream",
          "name": "stdout",
          "text": [
            "SVM Accuracy Score ->  0.4967191601049869\n",
            "SVM f1 Score ->  [0.64171123 0.33333333 0.49492386 0.32751092 0.1875     0.28148148]\n",
            "SVM Cohen's Kappa ->  0.30240852119257544\n"
          ]
        }
      ],
      "source": [
        "SVM = svm.SVC(C=1.0, kernel='linear', degree=3, gamma='auto')\n",
        "SVM.fit(X_train,y_train)\n",
        "\n",
        "# predict the labels on validation dataset\n",
        "prediction_SVM = SVM.predict(X_test)\n",
        "\n",
        "# Use accuracy_score function to get the accuracy\n",
        "print(\"SVM Accuracy Score -> \",accuracy_score(y_test, prediction_SVM))\n",
        "print(\"SVM f1 Score -> \", f1_score(y_test, prediction_SVM, average = None))\n",
        "print(\"SVM Cohen's Kappa -> \", cohen_kappa_score(y_test, prediction_SVM))"
      ]
    },
    {
      "cell_type": "markdown",
      "id": "464f3f71",
      "metadata": {
        "id": "464f3f71"
      },
      "source": [
        "## Naive Bayes Classifier\n",
        "\n",
        "It goes well with multinomial variant."
      ]
    },
    {
      "cell_type": "code",
      "execution_count": null,
      "id": "84f3c886",
      "metadata": {
        "id": "84f3c886",
        "outputId": "01461f2e-6913-4c90-a089-464dd5631288",
        "colab": {
          "base_uri": "https://localhost:8080/"
        }
      },
      "outputs": [
        {
          "output_type": "stream",
          "name": "stdout",
          "text": [
            "Naive Bayes Accuracy Score ->  0.4816272965879265\n",
            "Naive Bayes f1 Score ->  [0.61676159 0.20289855 0.5057232  0.2962963  0.11666667 0.32624113]\n",
            "Naive Bayes Cohen's Kappa ->  0.27482598859439256\n"
          ]
        }
      ],
      "source": [
        "Naive = naive_bayes.MultinomialNB()\n",
        "Naive.fit(X_train,y_train)\n",
        "\n",
        "# predict the labels on validation dataset\n",
        "prediction_NB = Naive.predict(X_test)\n",
        "\n",
        "# Use accuracy_score function to get the accuracy\n",
        "print(\"Naive Bayes Accuracy Score -> \",accuracy_score(y_test, prediction_NB))\n",
        "print(\"Naive Bayes f1 Score -> \", f1_score(y_test, prediction_NB, average = None))\n",
        "print(\"Naive Bayes Cohen's Kappa -> \", cohen_kappa_score(y_test, prediction_NB))"
      ]
    },
    {
      "cell_type": "markdown",
      "id": "47053a07",
      "metadata": {
        "id": "47053a07"
      },
      "source": [
        "## Random Forest"
      ]
    },
    {
      "cell_type": "code",
      "execution_count": null,
      "id": "9b3de5ac",
      "metadata": {
        "scrolled": true,
        "id": "9b3de5ac",
        "outputId": "cc89ea09-ae32-4a26-f059-07c7ddb6050b",
        "colab": {
          "base_uri": "https://localhost:8080/"
        }
      },
      "outputs": [
        {
          "output_type": "stream",
          "name": "stdout",
          "text": [
            "Random Forest Accuracy Score ->  0.47112860892388453\n",
            "Random Forest f1 Score ->  [0.62374245 0.34862385 0.44444444 0.14511041 0.07079646 0.18518519]\n",
            "Random Forest Cohen's Kappa ->  0.23701076457690184\n"
          ]
        }
      ],
      "source": [
        "rf = RandomForestClassifier()\n",
        "rf.fit(X_train, y_train)\n",
        "prediction_RF = rf.predict(X_test)\n",
        "print(\"Random Forest Accuracy Score -> \", accuracy_score(y_test, prediction_RF))\n",
        "print(\"Random Forest f1 Score -> \", f1_score(y_test, prediction_RF, average = None))\n",
        "print(\"Random Forest Cohen's Kappa -> \", cohen_kappa_score(y_test, prediction_RF))"
      ]
    },
    {
      "cell_type": "markdown",
      "id": "86237b4f",
      "metadata": {
        "id": "86237b4f"
      },
      "source": [
        "### Accuracy Scores by different dataset\n",
        "\n",
        "\n",
        "[Lemmatization -> stemming]\n",
        "\n",
        "* svm = 0.496719\n",
        "* nb = 0.481627\n",
        "* rf = 0.467191\n",
        "\n",
        "    \n",
        "[stemmed]\n",
        "    \n",
        "* svm = 0.496062\n",
        "* nb = 0.501312\n",
        "* rf = 0.473753\n",
        "\n",
        "[Lemmatized]\n",
        "    \n",
        "* svm = 0.494094\n",
        "* nb = 0.482283\n",
        "* rf = 0.482283\n"
      ]
    },
    {
      "cell_type": "markdown",
      "id": "d5338663",
      "metadata": {
        "id": "d5338663"
      },
      "source": [
        "### F1 Score by different dataset\n",
        "\n",
        "F1 score = 2{(precision * recall)/ (precision + recall)}\n",
        "\n",
        "[Lemmatization -> stemming]\n",
        "\n",
        "* svm = [0.64171123 0.33333333 0.49492386 0.32751092 0.1875     0.28148148]\n",
        "* nb = [0.61676159 0.20289855 0.5057232  0.2962963  0.11666667 0.32624113]\n",
        "* rf = [0.62176871 0.30841121 0.44389642 0.16969697 0.03669725 0.21052632]\n",
        "\n",
        "    \n",
        "[stemmed]\n",
        "    \n",
        "* svm = [0.64626866 0.30150754 0.4507772  0.3580786  0.22516556 0.3125    ]\n",
        "* nb = [0.61676159 0.20289855 0.5057232  0.2962963  0.11666667 0.32624113]\n",
        "* rf = [0.61964039 0.34418605 0.46078431 0.1497006  0.05172414 0.34710744]\n",
        "\n",
        "\n",
        "[Lemmatized]\n",
        "    \n",
        "* svm = [0.64427481 0.33502538 0.48621554 0.329718   0.14473684 0.26153846]\n",
        "* nb = [0.61676159 0.20289855 0.5057232  0.2962963  0.11666667 0.32624113]\n",
        "* rf = [0.64337508 0.30046948 0.44730077 0.16969697 0.07272727 0.18      ]"
      ]
    },
    {
      "cell_type": "markdown",
      "id": "a527cccb",
      "metadata": {
        "id": "a527cccb"
      },
      "source": [
        "### Cohen's Kappa by different dataset\n",
        "\n",
        "rater1: Real observation\n",
        "rater2: Model prediction\n",
        "(rater1, rater2 can be switched as well)\n",
        "\n",
        "Po = Agreement between rater 1, rater 2: TP and TN\n",
        "\n",
        "pe = Agreement between rater 1 and rater 2 by chance: (Rater1 positive * Rater2 positive) + (Rater1 negative * Rater2 negative)\n",
        "\n",
        "\n",
        "<Kappa: Agreement>\n",
        "\n",
        "<0: Less than chance agreement\n",
        "\n",
        "0.01 - 0.20: Slight agreement\n",
        "\n",
        "0.21 - 0.40: Fair agreement\n",
        "\n",
        "0.41 - 0.60: Moderate agreement\n",
        "\n",
        "0.61 - 0.80: Substantial agreement\n",
        "\n",
        "0.81 - 0.99: Almost perfect agreement\n",
        "\n",
        "\n",
        "\n",
        "[Lemmatization -> stemming]\n",
        "\n",
        "* svm = 0.302408\n",
        "* nb = 0.274825\n",
        "* rf = 0.233542\n",
        "\n",
        "    \n",
        "[stemmed]\n",
        "    \n",
        "* svm = 0.297399\n",
        "* nb = 0.309497\n",
        "* rf = 0.247251\n",
        "\n",
        "\n",
        "[Lemmatized]\n",
        "    \n",
        "* svm = 0.297042\n",
        "* nb = 0.276526\n",
        "* rf = 0.249603"
      ]
    },
    {
      "cell_type": "markdown",
      "source": [
        "# Bert Classification"
      ],
      "metadata": {
        "id": "nxSgJEceq56c"
      },
      "id": "nxSgJEceq56c"
    },
    {
      "cell_type": "markdown",
      "source": [
        "At this step we will be importing the libraries and modules needed to run our script. Libraries are:\n",
        "\n",
        "*   Pandas\n",
        "\n",
        "*   Pytorch\n",
        "*   Pytorch Utils for Dataset and Dataloader\n",
        "\n",
        "*   Transformers\n",
        "*   tqdm\n",
        "\n",
        "*   sklearn\n",
        "*   Bert Model and Tokenizer\n",
        "\n",
        "\n",
        "\n",
        "\n",
        "\n",
        "\n",
        "\n"
      ],
      "metadata": {
        "id": "y6YOJZ2Gi0Rb"
      },
      "id": "y6YOJZ2Gi0Rb"
    },
    {
      "cell_type": "code",
      "source": [
        "!pip install folium"
      ],
      "metadata": {
        "id": "smCk0J8dITru"
      },
      "execution_count": null,
      "outputs": [],
      "id": "smCk0J8dITru"
    },
    {
      "cell_type": "code",
      "metadata": {
        "id": "a-GlywkSFegL"
      },
      "source": [
        "!pip install -q transformers datasets"
      ],
      "execution_count": null,
      "outputs": [],
      "id": "a-GlywkSFegL"
    },
    {
      "cell_type": "code",
      "metadata": {
        "id": "NpwIl8n8rGfd"
      },
      "source": [
        "!pip install transformers==3.0.2"
      ],
      "execution_count": null,
      "outputs": [],
      "id": "NpwIl8n8rGfd"
    },
    {
      "cell_type": "code",
      "metadata": {
        "trusted": true,
        "_uuid": "e7b5f5ab6f8f300c8900321a91b9340376c986f2",
        "id": "979OUro5Eac3"
      },
      "source": [
        "# Importing the libraries needed\n",
        "import torch\n",
        "import seaborn as sns\n",
        "import transformers\n",
        "import json\n",
        "from tqdm import tqdm\n",
        "from torch.utils.data import Dataset, DataLoader\n",
        "from transformers import BertModel, BertTokenizer\n",
        "import logging\n",
        "from datasets import load_dataset\n",
        "logging.basicConfig(level=logging.ERROR)"
      ],
      "execution_count": null,
      "outputs": [],
      "id": "979OUro5Eac3"
    },
    {
      "cell_type": "code",
      "metadata": {
        "id": "sb1Q5N6LGK7z"
      },
      "source": [
        "# Setting up the device for GPU usage\n",
        "from torch import cuda\n",
        "device = 'cuda' if cuda.is_available() else 'cpu'"
      ],
      "execution_count": null,
      "outputs": [],
      "id": "sb1Q5N6LGK7z"
    },
    {
      "cell_type": "code",
      "metadata": {
        "_cell_guid": "79c7e3d0-c299-4dcb-8224-4455121ee9b0",
        "_uuid": "d629ff2d2480ee46fbb7e2d37f6b5fab8052498a",
        "trusted": true,
        "id": "J3FzcAlgEac8"
      },
      "source": [
        "train = pd.read_csv('sentences_all_hand.tsv', delimiter='\\t')"
      ],
      "execution_count": null,
      "outputs": [],
      "id": "J3FzcAlgEac8"
    },
    {
      "cell_type": "code",
      "metadata": {
        "id": "TFIoIjucGjJw",
        "outputId": "002ada47-6733-4ed9-d6d5-5cb594cf1418",
        "colab": {
          "base_uri": "https://localhost:8080/"
        }
      },
      "source": [
        "train.shape"
      ],
      "execution_count": null,
      "outputs": [
        {
          "output_type": "execute_result",
          "data": {
            "text/plain": [
              "(7620, 6)"
            ]
          },
          "metadata": {},
          "execution_count": 5
        }
      ],
      "id": "TFIoIjucGjJw"
    },
    {
      "cell_type": "code",
      "source": [
        "train.drop(train.columns[[0]], axis=1, inplace=True)"
      ],
      "metadata": {
        "id": "x_VRGAeY_4VF"
      },
      "execution_count": null,
      "outputs": [],
      "id": "x_VRGAeY_4VF"
    },
    {
      "cell_type": "code",
      "metadata": {
        "trusted": true,
        "_uuid": "c8dee062192ea016c0d306d3441ae2c573e2183c",
        "id": "aTsOsl4MEadB",
        "outputId": "21a36ff1-c4bc-422f-9879-1ade11983cfd",
        "colab": {
          "base_uri": "https://localhost:8080/",
          "height": 204
        }
      },
      "source": [
        "train.head()"
      ],
      "execution_count": null,
      "outputs": [
        {
          "output_type": "execute_result",
          "data": {
            "text/plain": [
              "   corpus_id  sentence_id                                           sentence  \\\n",
              "0          0          0.0  Zunächst habe ich meinen Arbeitsplatz vorberei...   \n",
              "1          0          1.0  Anschließend las ich das Fallbeispiel mehrmals...   \n",
              "2          0          2.0  Ich bin neutral und offen an die Aufgabe heran...   \n",
              "3          0          3.0  Nachdem ich zunächst die Aufgabe ohne Lerninha...   \n",
              "4          0          4.0  Die Tipps haben mir sehr geholfen, um meine Lö...   \n",
              "\n",
              "  options  final  \n",
              "0     0,2      0  \n",
              "1       0      0  \n",
              "2     0,1      1  \n",
              "3     0,2      2  \n",
              "4       2      2  "
            ],
            "text/html": [
              "\n",
              "  <div id=\"df-e15217a8-e531-48f3-b6de-9619c3a35270\">\n",
              "    <div class=\"colab-df-container\">\n",
              "      <div>\n",
              "<style scoped>\n",
              "    .dataframe tbody tr th:only-of-type {\n",
              "        vertical-align: middle;\n",
              "    }\n",
              "\n",
              "    .dataframe tbody tr th {\n",
              "        vertical-align: top;\n",
              "    }\n",
              "\n",
              "    .dataframe thead th {\n",
              "        text-align: right;\n",
              "    }\n",
              "</style>\n",
              "<table border=\"1\" class=\"dataframe\">\n",
              "  <thead>\n",
              "    <tr style=\"text-align: right;\">\n",
              "      <th></th>\n",
              "      <th>corpus_id</th>\n",
              "      <th>sentence_id</th>\n",
              "      <th>sentence</th>\n",
              "      <th>options</th>\n",
              "      <th>final</th>\n",
              "    </tr>\n",
              "  </thead>\n",
              "  <tbody>\n",
              "    <tr>\n",
              "      <th>0</th>\n",
              "      <td>0</td>\n",
              "      <td>0.0</td>\n",
              "      <td>Zunächst habe ich meinen Arbeitsplatz vorberei...</td>\n",
              "      <td>0,2</td>\n",
              "      <td>0</td>\n",
              "    </tr>\n",
              "    <tr>\n",
              "      <th>1</th>\n",
              "      <td>0</td>\n",
              "      <td>1.0</td>\n",
              "      <td>Anschließend las ich das Fallbeispiel mehrmals...</td>\n",
              "      <td>0</td>\n",
              "      <td>0</td>\n",
              "    </tr>\n",
              "    <tr>\n",
              "      <th>2</th>\n",
              "      <td>0</td>\n",
              "      <td>2.0</td>\n",
              "      <td>Ich bin neutral und offen an die Aufgabe heran...</td>\n",
              "      <td>0,1</td>\n",
              "      <td>1</td>\n",
              "    </tr>\n",
              "    <tr>\n",
              "      <th>3</th>\n",
              "      <td>0</td>\n",
              "      <td>3.0</td>\n",
              "      <td>Nachdem ich zunächst die Aufgabe ohne Lerninha...</td>\n",
              "      <td>0,2</td>\n",
              "      <td>2</td>\n",
              "    </tr>\n",
              "    <tr>\n",
              "      <th>4</th>\n",
              "      <td>0</td>\n",
              "      <td>4.0</td>\n",
              "      <td>Die Tipps haben mir sehr geholfen, um meine Lö...</td>\n",
              "      <td>2</td>\n",
              "      <td>2</td>\n",
              "    </tr>\n",
              "  </tbody>\n",
              "</table>\n",
              "</div>\n",
              "      <button class=\"colab-df-convert\" onclick=\"convertToInteractive('df-e15217a8-e531-48f3-b6de-9619c3a35270')\"\n",
              "              title=\"Convert this dataframe to an interactive table.\"\n",
              "              style=\"display:none;\">\n",
              "        \n",
              "  <svg xmlns=\"http://www.w3.org/2000/svg\" height=\"24px\"viewBox=\"0 0 24 24\"\n",
              "       width=\"24px\">\n",
              "    <path d=\"M0 0h24v24H0V0z\" fill=\"none\"/>\n",
              "    <path d=\"M18.56 5.44l.94 2.06.94-2.06 2.06-.94-2.06-.94-.94-2.06-.94 2.06-2.06.94zm-11 1L8.5 8.5l.94-2.06 2.06-.94-2.06-.94L8.5 2.5l-.94 2.06-2.06.94zm10 10l.94 2.06.94-2.06 2.06-.94-2.06-.94-.94-2.06-.94 2.06-2.06.94z\"/><path d=\"M17.41 7.96l-1.37-1.37c-.4-.4-.92-.59-1.43-.59-.52 0-1.04.2-1.43.59L10.3 9.45l-7.72 7.72c-.78.78-.78 2.05 0 2.83L4 21.41c.39.39.9.59 1.41.59.51 0 1.02-.2 1.41-.59l7.78-7.78 2.81-2.81c.8-.78.8-2.07 0-2.86zM5.41 20L4 18.59l7.72-7.72 1.47 1.35L5.41 20z\"/>\n",
              "  </svg>\n",
              "      </button>\n",
              "      \n",
              "  <style>\n",
              "    .colab-df-container {\n",
              "      display:flex;\n",
              "      flex-wrap:wrap;\n",
              "      gap: 12px;\n",
              "    }\n",
              "\n",
              "    .colab-df-convert {\n",
              "      background-color: #E8F0FE;\n",
              "      border: none;\n",
              "      border-radius: 50%;\n",
              "      cursor: pointer;\n",
              "      display: none;\n",
              "      fill: #1967D2;\n",
              "      height: 32px;\n",
              "      padding: 0 0 0 0;\n",
              "      width: 32px;\n",
              "    }\n",
              "\n",
              "    .colab-df-convert:hover {\n",
              "      background-color: #E2EBFA;\n",
              "      box-shadow: 0px 1px 2px rgba(60, 64, 67, 0.3), 0px 1px 3px 1px rgba(60, 64, 67, 0.15);\n",
              "      fill: #174EA6;\n",
              "    }\n",
              "\n",
              "    [theme=dark] .colab-df-convert {\n",
              "      background-color: #3B4455;\n",
              "      fill: #D2E3FC;\n",
              "    }\n",
              "\n",
              "    [theme=dark] .colab-df-convert:hover {\n",
              "      background-color: #434B5C;\n",
              "      box-shadow: 0px 1px 3px 1px rgba(0, 0, 0, 0.15);\n",
              "      filter: drop-shadow(0px 1px 2px rgba(0, 0, 0, 0.3));\n",
              "      fill: #FFFFFF;\n",
              "    }\n",
              "  </style>\n",
              "\n",
              "      <script>\n",
              "        const buttonEl =\n",
              "          document.querySelector('#df-e15217a8-e531-48f3-b6de-9619c3a35270 button.colab-df-convert');\n",
              "        buttonEl.style.display =\n",
              "          google.colab.kernel.accessAllowed ? 'block' : 'none';\n",
              "\n",
              "        async function convertToInteractive(key) {\n",
              "          const element = document.querySelector('#df-e15217a8-e531-48f3-b6de-9619c3a35270');\n",
              "          const dataTable =\n",
              "            await google.colab.kernel.invokeFunction('convertToInteractive',\n",
              "                                                     [key], {});\n",
              "          if (!dataTable) return;\n",
              "\n",
              "          const docLinkHtml = 'Like what you see? Visit the ' +\n",
              "            '<a target=\"_blank\" href=https://colab.research.google.com/notebooks/data_table.ipynb>data table notebook</a>'\n",
              "            + ' to learn more about interactive tables.';\n",
              "          element.innerHTML = '';\n",
              "          dataTable['output_type'] = 'display_data';\n",
              "          await google.colab.output.renderOutput(dataTable, element);\n",
              "          const docLink = document.createElement('div');\n",
              "          docLink.innerHTML = docLinkHtml;\n",
              "          element.appendChild(docLink);\n",
              "        }\n",
              "      </script>\n",
              "    </div>\n",
              "  </div>\n",
              "  "
            ]
          },
          "metadata": {},
          "execution_count": 7
        }
      ],
      "id": "aTsOsl4MEadB"
    },
    {
      "cell_type": "code",
      "metadata": {
        "id": "lGcvxwWXIbfq",
        "outputId": "bb8c0535-f9ad-4361-87a6-621caef5b3ca",
        "colab": {
          "base_uri": "https://localhost:8080/"
        }
      },
      "source": [
        "train['final'].unique()"
      ],
      "execution_count": null,
      "outputs": [
        {
          "output_type": "execute_result",
          "data": {
            "text/plain": [
              "array([0, 1, 2, 3, 5, 4])"
            ]
          },
          "metadata": {},
          "execution_count": 8
        }
      ],
      "id": "lGcvxwWXIbfq"
    },
    {
      "cell_type": "code",
      "metadata": {
        "trusted": true,
        "_uuid": "4cc9d80f5b9969346c8f5ff24e3ce8de25dfc93d",
        "id": "y43HcyWgEadG",
        "outputId": "53bf7af7-a674-42e4-8a16-c4635657d15a",
        "colab": {
          "base_uri": "https://localhost:8080/",
          "height": 297
        }
      },
      "source": [
        "train.describe()"
      ],
      "execution_count": null,
      "outputs": [
        {
          "output_type": "execute_result",
          "data": {
            "text/plain": [
              "         corpus_id  sentence_id        final\n",
              "count  7620.000000  7619.000000  7620.000000\n",
              "mean      2.106299  1164.972700     1.564173\n",
              "std       1.451581   983.185163     1.525976\n",
              "min       0.000000     0.000000     0.000000\n",
              "25%       1.000000   358.000000     0.000000\n",
              "50%       3.000000   911.000000     2.000000\n",
              "75%       3.000000  1688.500000     3.000000\n",
              "max       5.000000  3593.000000     5.000000"
            ],
            "text/html": [
              "\n",
              "  <div id=\"df-f963fe53-c2aa-4496-a602-e5aabb540db7\">\n",
              "    <div class=\"colab-df-container\">\n",
              "      <div>\n",
              "<style scoped>\n",
              "    .dataframe tbody tr th:only-of-type {\n",
              "        vertical-align: middle;\n",
              "    }\n",
              "\n",
              "    .dataframe tbody tr th {\n",
              "        vertical-align: top;\n",
              "    }\n",
              "\n",
              "    .dataframe thead th {\n",
              "        text-align: right;\n",
              "    }\n",
              "</style>\n",
              "<table border=\"1\" class=\"dataframe\">\n",
              "  <thead>\n",
              "    <tr style=\"text-align: right;\">\n",
              "      <th></th>\n",
              "      <th>corpus_id</th>\n",
              "      <th>sentence_id</th>\n",
              "      <th>final</th>\n",
              "    </tr>\n",
              "  </thead>\n",
              "  <tbody>\n",
              "    <tr>\n",
              "      <th>count</th>\n",
              "      <td>7620.000000</td>\n",
              "      <td>7619.000000</td>\n",
              "      <td>7620.000000</td>\n",
              "    </tr>\n",
              "    <tr>\n",
              "      <th>mean</th>\n",
              "      <td>2.106299</td>\n",
              "      <td>1164.972700</td>\n",
              "      <td>1.564173</td>\n",
              "    </tr>\n",
              "    <tr>\n",
              "      <th>std</th>\n",
              "      <td>1.451581</td>\n",
              "      <td>983.185163</td>\n",
              "      <td>1.525976</td>\n",
              "    </tr>\n",
              "    <tr>\n",
              "      <th>min</th>\n",
              "      <td>0.000000</td>\n",
              "      <td>0.000000</td>\n",
              "      <td>0.000000</td>\n",
              "    </tr>\n",
              "    <tr>\n",
              "      <th>25%</th>\n",
              "      <td>1.000000</td>\n",
              "      <td>358.000000</td>\n",
              "      <td>0.000000</td>\n",
              "    </tr>\n",
              "    <tr>\n",
              "      <th>50%</th>\n",
              "      <td>3.000000</td>\n",
              "      <td>911.000000</td>\n",
              "      <td>2.000000</td>\n",
              "    </tr>\n",
              "    <tr>\n",
              "      <th>75%</th>\n",
              "      <td>3.000000</td>\n",
              "      <td>1688.500000</td>\n",
              "      <td>3.000000</td>\n",
              "    </tr>\n",
              "    <tr>\n",
              "      <th>max</th>\n",
              "      <td>5.000000</td>\n",
              "      <td>3593.000000</td>\n",
              "      <td>5.000000</td>\n",
              "    </tr>\n",
              "  </tbody>\n",
              "</table>\n",
              "</div>\n",
              "      <button class=\"colab-df-convert\" onclick=\"convertToInteractive('df-f963fe53-c2aa-4496-a602-e5aabb540db7')\"\n",
              "              title=\"Convert this dataframe to an interactive table.\"\n",
              "              style=\"display:none;\">\n",
              "        \n",
              "  <svg xmlns=\"http://www.w3.org/2000/svg\" height=\"24px\"viewBox=\"0 0 24 24\"\n",
              "       width=\"24px\">\n",
              "    <path d=\"M0 0h24v24H0V0z\" fill=\"none\"/>\n",
              "    <path d=\"M18.56 5.44l.94 2.06.94-2.06 2.06-.94-2.06-.94-.94-2.06-.94 2.06-2.06.94zm-11 1L8.5 8.5l.94-2.06 2.06-.94-2.06-.94L8.5 2.5l-.94 2.06-2.06.94zm10 10l.94 2.06.94-2.06 2.06-.94-2.06-.94-.94-2.06-.94 2.06-2.06.94z\"/><path d=\"M17.41 7.96l-1.37-1.37c-.4-.4-.92-.59-1.43-.59-.52 0-1.04.2-1.43.59L10.3 9.45l-7.72 7.72c-.78.78-.78 2.05 0 2.83L4 21.41c.39.39.9.59 1.41.59.51 0 1.02-.2 1.41-.59l7.78-7.78 2.81-2.81c.8-.78.8-2.07 0-2.86zM5.41 20L4 18.59l7.72-7.72 1.47 1.35L5.41 20z\"/>\n",
              "  </svg>\n",
              "      </button>\n",
              "      \n",
              "  <style>\n",
              "    .colab-df-container {\n",
              "      display:flex;\n",
              "      flex-wrap:wrap;\n",
              "      gap: 12px;\n",
              "    }\n",
              "\n",
              "    .colab-df-convert {\n",
              "      background-color: #E8F0FE;\n",
              "      border: none;\n",
              "      border-radius: 50%;\n",
              "      cursor: pointer;\n",
              "      display: none;\n",
              "      fill: #1967D2;\n",
              "      height: 32px;\n",
              "      padding: 0 0 0 0;\n",
              "      width: 32px;\n",
              "    }\n",
              "\n",
              "    .colab-df-convert:hover {\n",
              "      background-color: #E2EBFA;\n",
              "      box-shadow: 0px 1px 2px rgba(60, 64, 67, 0.3), 0px 1px 3px 1px rgba(60, 64, 67, 0.15);\n",
              "      fill: #174EA6;\n",
              "    }\n",
              "\n",
              "    [theme=dark] .colab-df-convert {\n",
              "      background-color: #3B4455;\n",
              "      fill: #D2E3FC;\n",
              "    }\n",
              "\n",
              "    [theme=dark] .colab-df-convert:hover {\n",
              "      background-color: #434B5C;\n",
              "      box-shadow: 0px 1px 3px 1px rgba(0, 0, 0, 0.15);\n",
              "      filter: drop-shadow(0px 1px 2px rgba(0, 0, 0, 0.3));\n",
              "      fill: #FFFFFF;\n",
              "    }\n",
              "  </style>\n",
              "\n",
              "      <script>\n",
              "        const buttonEl =\n",
              "          document.querySelector('#df-f963fe53-c2aa-4496-a602-e5aabb540db7 button.colab-df-convert');\n",
              "        buttonEl.style.display =\n",
              "          google.colab.kernel.accessAllowed ? 'block' : 'none';\n",
              "\n",
              "        async function convertToInteractive(key) {\n",
              "          const element = document.querySelector('#df-f963fe53-c2aa-4496-a602-e5aabb540db7');\n",
              "          const dataTable =\n",
              "            await google.colab.kernel.invokeFunction('convertToInteractive',\n",
              "                                                     [key], {});\n",
              "          if (!dataTable) return;\n",
              "\n",
              "          const docLinkHtml = 'Like what you see? Visit the ' +\n",
              "            '<a target=\"_blank\" href=https://colab.research.google.com/notebooks/data_table.ipynb>data table notebook</a>'\n",
              "            + ' to learn more about interactive tables.';\n",
              "          element.innerHTML = '';\n",
              "          dataTable['output_type'] = 'display_data';\n",
              "          await google.colab.output.renderOutput(dataTable, element);\n",
              "          const docLink = document.createElement('div');\n",
              "          docLink.innerHTML = docLinkHtml;\n",
              "          element.appendChild(docLink);\n",
              "        }\n",
              "      </script>\n",
              "    </div>\n",
              "  </div>\n",
              "  "
            ]
          },
          "metadata": {},
          "execution_count": 9
        }
      ],
      "id": "y43HcyWgEadG"
    },
    {
      "cell_type": "code",
      "metadata": {
        "trusted": true,
        "_uuid": "01da38cc4626a85b73fbb526d9a8d128d1fd9338",
        "id": "baSmeDdIEadM"
      },
      "source": [
        "new_df = train[['sentence', 'final']]"
      ],
      "execution_count": null,
      "outputs": [],
      "id": "baSmeDdIEadM"
    },
    {
      "cell_type": "code",
      "metadata": {
        "id": "nvXxpfNCGER2",
        "outputId": "5051123c-7808-4650-b28f-833a38a0a669",
        "colab": {
          "base_uri": "https://localhost:8080/",
          "height": 49,
          "referenced_widgets": [
            "3c1367275d5d40e695affc8b6f195f8a",
            "659364419f1e4b0cb75fa3e37544c1cf",
            "a0602dd3e064418eb37c94ee63305086",
            "da006044218945d3a7e863362be4f0fa",
            "1fd674c7a7a54fc7b13ed37c239a5c2b",
            "eb9b86f62554448fbe4e386a38282210",
            "98338b766f2344d7b6df037fd9f8d08a",
            "f0b0416bb59a41f8b4980feb070c7220",
            "5c2215607ca84c5ebfa6d09a0ea44be1",
            "accd948fbc6c4ec093086d0085f44012",
            "727d7ad2a1d6445fa48675d698cf3748"
          ]
        }
      },
      "source": [
        "# Defining some key variables that will be used later on in the training\n",
        "MAX_LEN = 256\n",
        "TRAIN_BATCH_SIZE = 8\n",
        "VALID_BATCH_SIZE = 4\n",
        "\n",
        "LEARNING_RATE = 1e-05\n",
        "tokenizer = BertTokenizer.from_pretrained('bert-base-multilingual-uncased', do_lower_case=True)"
      ],
      "execution_count": null,
      "outputs": [
        {
          "output_type": "display_data",
          "data": {
            "text/plain": [
              "Downloading:   0%|          | 0.00/872k [00:00<?, ?B/s]"
            ],
            "application/vnd.jupyter.widget-view+json": {
              "version_major": 2,
              "version_minor": 0,
              "model_id": "3c1367275d5d40e695affc8b6f195f8a"
            }
          },
          "metadata": {}
        }
      ],
      "id": "nvXxpfNCGER2"
    },
    {
      "cell_type": "code",
      "metadata": {
        "id": "3vWRDemOGxJD"
      },
      "source": [
        "class SentimentData(Dataset):\n",
        "    def __init__(self, dataframe, tokenizer, max_len):\n",
        "        self.tokenizer = tokenizer\n",
        "        self.data = dataframe\n",
        "        self.text = dataframe.sentence\n",
        "        self.targets = self.data.final\n",
        "        self.max_len = max_len\n",
        "\n",
        "    def __len__(self):\n",
        "        return len(self.text)\n",
        "\n",
        "    def __getitem__(self, index):\n",
        "        text = str(self.text[index])\n",
        "        text = \" \".join(text.split())\n",
        "        #encode_plus method to perform tokenization\n",
        "        inputs = self.tokenizer.encode_plus(\n",
        "            text,\n",
        "            None,\n",
        "            add_special_tokens=True,\n",
        "            max_length=self.max_len,\n",
        "            pad_to_max_length=True,\n",
        "            return_token_type_ids=True\n",
        "        )\n",
        "        ids = inputs['input_ids']\n",
        "        mask = inputs['attention_mask']\n",
        "        token_type_ids = inputs[\"token_type_ids\"]\n",
        "\n",
        "\n",
        "        return {\n",
        "            'ids': torch.tensor(ids, dtype=torch.long),\n",
        "            'mask': torch.tensor(mask, dtype=torch.long),\n",
        "            'token_type_ids': torch.tensor(token_type_ids, dtype=torch.long),\n",
        "            'targets': torch.tensor(self.targets[index], dtype=torch.float)\n",
        "        }"
      ],
      "execution_count": null,
      "outputs": [],
      "id": "3vWRDemOGxJD"
    },
    {
      "cell_type": "code",
      "metadata": {
        "id": "7Gpe9D1QHoCd",
        "outputId": "29ca2f17-c665-46eb-d67e-52e18d1b4ff5",
        "colab": {
          "base_uri": "https://localhost:8080/"
        }
      },
      "source": [
        "train_size = 0.8\n",
        "train_data=new_df.sample(frac=train_size,random_state=200)\n",
        "#declared to evaluate the performance of the model\n",
        "test_data=new_df.drop(train_data.index).reset_index(drop=True)\n",
        "train_data = train_data.reset_index(drop=True)\n",
        "\n",
        "\n",
        "print(\"FULL Dataset: {}\".format(new_df.shape))\n",
        "print(\"TRAIN Dataset: {}\".format(train_data.shape))\n",
        "print(\"TEST Dataset: {}\".format(test_data.shape))\n",
        "\n",
        "training_set = SentimentData(train_data, tokenizer, MAX_LEN)\n",
        "testing_set = SentimentData(test_data, tokenizer, MAX_LEN)"
      ],
      "execution_count": null,
      "outputs": [
        {
          "output_type": "stream",
          "name": "stdout",
          "text": [
            "FULL Dataset: (7620, 2)\n",
            "TRAIN Dataset: (6096, 2)\n",
            "TEST Dataset: (1524, 2)\n"
          ]
        }
      ],
      "id": "7Gpe9D1QHoCd"
    },
    {
      "cell_type": "code",
      "metadata": {
        "trusted": true,
        "_uuid": "9fc198d13d7f33dc70588c3f22bc7b7c4f4ebb45",
        "id": "c1tInLk2Eadt"
      },
      "source": [
        "train_params = {'batch_size': TRAIN_BATCH_SIZE,\n",
        "                'shuffle': True,\n",
        "                'num_workers': 0\n",
        "                }\n",
        "\n",
        "test_params = {'batch_size': VALID_BATCH_SIZE,\n",
        "                'shuffle': True,\n",
        "                'num_workers': 0\n",
        "                }\n",
        "\n",
        "#Dataloader is used to for creating training and validation dataloader that load data to the neural network in a defined manner.\n",
        "training_loader = DataLoader(training_set, **train_params)\n",
        "testing_loader = DataLoader(testing_set, **test_params)"
      ],
      "execution_count": null,
      "outputs": [],
      "id": "c1tInLk2Eadt"
    },
    {
      "cell_type": "code",
      "metadata": {
        "trusted": true,
        "_uuid": "cb8f194ee79d76356be0002b0e18f947e1412d66",
        "id": "HMqQTafXEaei"
      },
      "source": [
        "class BERTClass(torch.nn.Module):\n",
        "    def __init__(self):\n",
        "        super(BERTClass, self).__init__()\n",
        "        self.l1 = BertModel.from_pretrained(\"bert-base-multilingual-uncased\")\n",
        "        self.pre_classifier = torch.nn.Linear(768, 768)\n",
        "        self.dropout = torch.nn.Dropout(0.3)\n",
        "        self.classifier = torch.nn.Linear(768, 6)\n",
        "\n",
        "    def forward(self, input_ids, attention_mask, token_type_ids):\n",
        "        output_1 = self.l1(input_ids=input_ids, attention_mask=attention_mask, token_type_ids=token_type_ids)\n",
        "        hidden_state = output_1[0]\n",
        "        pooler = hidden_state[:, 0]\n",
        "        pooler = self.pre_classifier(pooler)\n",
        "        pooler = torch.nn.ReLU()(pooler)\n",
        "        pooler = self.dropout(pooler)\n",
        "        output = self.classifier(pooler)\n",
        "        return output"
      ],
      "execution_count": null,
      "outputs": [],
      "id": "HMqQTafXEaei"
    },
    {
      "cell_type": "code",
      "metadata": {
        "id": "sZ55mIPZIkp_",
        "outputId": "6030123a-fcbd-479d-cf12-729d7fd340a8",
        "colab": {
          "base_uri": "https://localhost:8080/",
          "height": 1000,
          "referenced_widgets": [
            "e1bdea4a632b449fb61486eb589175ad",
            "2fe3ba99ee184189a496cd0bee209a8c",
            "c3fcaae26e054b4bb249b496a44c00c9",
            "18377b60aa574484a4c49839061b5959",
            "dfe867ec964e47058faa1e0eebc622fb",
            "5cf2b23042ae448c84a8d08cee6e1c34",
            "52133d669d8a4a21ab7405b424c57e51",
            "800e26a9f8194a7ca8846a432f7c8f0e",
            "0aebe37704ac41fc96dc82a792565f22",
            "1b33b1d5b3934255908d84a39b3ae193",
            "3a2c2c5aa97644d398e564a17c5c174b",
            "2dbef403e20840dd974e71e46b844463",
            "da21f8ef6c224eb8866280a6d4fe8677",
            "73e7bb4cf9a84f37ba271a4481be2466",
            "283b4e99c4f54bbe91f139655fed1e51",
            "9d137559f3be471a8b4caaecaccc1705",
            "538dcab1e943473abf936e676f301a93",
            "87c0a61bb3584e9883407631f81e4403",
            "7a5d54d225c0430f8c93aab28dc733e6",
            "573b10cf8c2548ef864a9a7959009cfa",
            "e91e5a53f9434db0b3d9b085ac6723f5",
            "37c1aa66bc3e4ec4b4a8eec30c64aada"
          ]
        }
      },
      "source": [
        "model = BERTClass()\n",
        "model.to(device)"
      ],
      "execution_count": null,
      "outputs": [
        {
          "output_type": "display_data",
          "data": {
            "text/plain": [
              "Downloading:   0%|          | 0.00/625 [00:00<?, ?B/s]"
            ],
            "application/vnd.jupyter.widget-view+json": {
              "version_major": 2,
              "version_minor": 0,
              "model_id": "e1bdea4a632b449fb61486eb589175ad"
            }
          },
          "metadata": {}
        },
        {
          "output_type": "display_data",
          "data": {
            "text/plain": [
              "Downloading:   0%|          | 0.00/672M [00:00<?, ?B/s]"
            ],
            "application/vnd.jupyter.widget-view+json": {
              "version_major": 2,
              "version_minor": 0,
              "model_id": "2dbef403e20840dd974e71e46b844463"
            }
          },
          "metadata": {}
        },
        {
          "output_type": "execute_result",
          "data": {
            "text/plain": [
              "BERTClass(\n",
              "  (l1): BertModel(\n",
              "    (embeddings): BertEmbeddings(\n",
              "      (word_embeddings): Embedding(105879, 768, padding_idx=0)\n",
              "      (position_embeddings): Embedding(512, 768)\n",
              "      (token_type_embeddings): Embedding(2, 768)\n",
              "      (LayerNorm): LayerNorm((768,), eps=1e-12, elementwise_affine=True)\n",
              "      (dropout): Dropout(p=0.1, inplace=False)\n",
              "    )\n",
              "    (encoder): BertEncoder(\n",
              "      (layer): ModuleList(\n",
              "        (0): BertLayer(\n",
              "          (attention): BertAttention(\n",
              "            (self): BertSelfAttention(\n",
              "              (query): Linear(in_features=768, out_features=768, bias=True)\n",
              "              (key): Linear(in_features=768, out_features=768, bias=True)\n",
              "              (value): Linear(in_features=768, out_features=768, bias=True)\n",
              "              (dropout): Dropout(p=0.1, inplace=False)\n",
              "            )\n",
              "            (output): BertSelfOutput(\n",
              "              (dense): Linear(in_features=768, out_features=768, bias=True)\n",
              "              (LayerNorm): LayerNorm((768,), eps=1e-12, elementwise_affine=True)\n",
              "              (dropout): Dropout(p=0.1, inplace=False)\n",
              "            )\n",
              "          )\n",
              "          (intermediate): BertIntermediate(\n",
              "            (dense): Linear(in_features=768, out_features=3072, bias=True)\n",
              "          )\n",
              "          (output): BertOutput(\n",
              "            (dense): Linear(in_features=3072, out_features=768, bias=True)\n",
              "            (LayerNorm): LayerNorm((768,), eps=1e-12, elementwise_affine=True)\n",
              "            (dropout): Dropout(p=0.1, inplace=False)\n",
              "          )\n",
              "        )\n",
              "        (1): BertLayer(\n",
              "          (attention): BertAttention(\n",
              "            (self): BertSelfAttention(\n",
              "              (query): Linear(in_features=768, out_features=768, bias=True)\n",
              "              (key): Linear(in_features=768, out_features=768, bias=True)\n",
              "              (value): Linear(in_features=768, out_features=768, bias=True)\n",
              "              (dropout): Dropout(p=0.1, inplace=False)\n",
              "            )\n",
              "            (output): BertSelfOutput(\n",
              "              (dense): Linear(in_features=768, out_features=768, bias=True)\n",
              "              (LayerNorm): LayerNorm((768,), eps=1e-12, elementwise_affine=True)\n",
              "              (dropout): Dropout(p=0.1, inplace=False)\n",
              "            )\n",
              "          )\n",
              "          (intermediate): BertIntermediate(\n",
              "            (dense): Linear(in_features=768, out_features=3072, bias=True)\n",
              "          )\n",
              "          (output): BertOutput(\n",
              "            (dense): Linear(in_features=3072, out_features=768, bias=True)\n",
              "            (LayerNorm): LayerNorm((768,), eps=1e-12, elementwise_affine=True)\n",
              "            (dropout): Dropout(p=0.1, inplace=False)\n",
              "          )\n",
              "        )\n",
              "        (2): BertLayer(\n",
              "          (attention): BertAttention(\n",
              "            (self): BertSelfAttention(\n",
              "              (query): Linear(in_features=768, out_features=768, bias=True)\n",
              "              (key): Linear(in_features=768, out_features=768, bias=True)\n",
              "              (value): Linear(in_features=768, out_features=768, bias=True)\n",
              "              (dropout): Dropout(p=0.1, inplace=False)\n",
              "            )\n",
              "            (output): BertSelfOutput(\n",
              "              (dense): Linear(in_features=768, out_features=768, bias=True)\n",
              "              (LayerNorm): LayerNorm((768,), eps=1e-12, elementwise_affine=True)\n",
              "              (dropout): Dropout(p=0.1, inplace=False)\n",
              "            )\n",
              "          )\n",
              "          (intermediate): BertIntermediate(\n",
              "            (dense): Linear(in_features=768, out_features=3072, bias=True)\n",
              "          )\n",
              "          (output): BertOutput(\n",
              "            (dense): Linear(in_features=3072, out_features=768, bias=True)\n",
              "            (LayerNorm): LayerNorm((768,), eps=1e-12, elementwise_affine=True)\n",
              "            (dropout): Dropout(p=0.1, inplace=False)\n",
              "          )\n",
              "        )\n",
              "        (3): BertLayer(\n",
              "          (attention): BertAttention(\n",
              "            (self): BertSelfAttention(\n",
              "              (query): Linear(in_features=768, out_features=768, bias=True)\n",
              "              (key): Linear(in_features=768, out_features=768, bias=True)\n",
              "              (value): Linear(in_features=768, out_features=768, bias=True)\n",
              "              (dropout): Dropout(p=0.1, inplace=False)\n",
              "            )\n",
              "            (output): BertSelfOutput(\n",
              "              (dense): Linear(in_features=768, out_features=768, bias=True)\n",
              "              (LayerNorm): LayerNorm((768,), eps=1e-12, elementwise_affine=True)\n",
              "              (dropout): Dropout(p=0.1, inplace=False)\n",
              "            )\n",
              "          )\n",
              "          (intermediate): BertIntermediate(\n",
              "            (dense): Linear(in_features=768, out_features=3072, bias=True)\n",
              "          )\n",
              "          (output): BertOutput(\n",
              "            (dense): Linear(in_features=3072, out_features=768, bias=True)\n",
              "            (LayerNorm): LayerNorm((768,), eps=1e-12, elementwise_affine=True)\n",
              "            (dropout): Dropout(p=0.1, inplace=False)\n",
              "          )\n",
              "        )\n",
              "        (4): BertLayer(\n",
              "          (attention): BertAttention(\n",
              "            (self): BertSelfAttention(\n",
              "              (query): Linear(in_features=768, out_features=768, bias=True)\n",
              "              (key): Linear(in_features=768, out_features=768, bias=True)\n",
              "              (value): Linear(in_features=768, out_features=768, bias=True)\n",
              "              (dropout): Dropout(p=0.1, inplace=False)\n",
              "            )\n",
              "            (output): BertSelfOutput(\n",
              "              (dense): Linear(in_features=768, out_features=768, bias=True)\n",
              "              (LayerNorm): LayerNorm((768,), eps=1e-12, elementwise_affine=True)\n",
              "              (dropout): Dropout(p=0.1, inplace=False)\n",
              "            )\n",
              "          )\n",
              "          (intermediate): BertIntermediate(\n",
              "            (dense): Linear(in_features=768, out_features=3072, bias=True)\n",
              "          )\n",
              "          (output): BertOutput(\n",
              "            (dense): Linear(in_features=3072, out_features=768, bias=True)\n",
              "            (LayerNorm): LayerNorm((768,), eps=1e-12, elementwise_affine=True)\n",
              "            (dropout): Dropout(p=0.1, inplace=False)\n",
              "          )\n",
              "        )\n",
              "        (5): BertLayer(\n",
              "          (attention): BertAttention(\n",
              "            (self): BertSelfAttention(\n",
              "              (query): Linear(in_features=768, out_features=768, bias=True)\n",
              "              (key): Linear(in_features=768, out_features=768, bias=True)\n",
              "              (value): Linear(in_features=768, out_features=768, bias=True)\n",
              "              (dropout): Dropout(p=0.1, inplace=False)\n",
              "            )\n",
              "            (output): BertSelfOutput(\n",
              "              (dense): Linear(in_features=768, out_features=768, bias=True)\n",
              "              (LayerNorm): LayerNorm((768,), eps=1e-12, elementwise_affine=True)\n",
              "              (dropout): Dropout(p=0.1, inplace=False)\n",
              "            )\n",
              "          )\n",
              "          (intermediate): BertIntermediate(\n",
              "            (dense): Linear(in_features=768, out_features=3072, bias=True)\n",
              "          )\n",
              "          (output): BertOutput(\n",
              "            (dense): Linear(in_features=3072, out_features=768, bias=True)\n",
              "            (LayerNorm): LayerNorm((768,), eps=1e-12, elementwise_affine=True)\n",
              "            (dropout): Dropout(p=0.1, inplace=False)\n",
              "          )\n",
              "        )\n",
              "        (6): BertLayer(\n",
              "          (attention): BertAttention(\n",
              "            (self): BertSelfAttention(\n",
              "              (query): Linear(in_features=768, out_features=768, bias=True)\n",
              "              (key): Linear(in_features=768, out_features=768, bias=True)\n",
              "              (value): Linear(in_features=768, out_features=768, bias=True)\n",
              "              (dropout): Dropout(p=0.1, inplace=False)\n",
              "            )\n",
              "            (output): BertSelfOutput(\n",
              "              (dense): Linear(in_features=768, out_features=768, bias=True)\n",
              "              (LayerNorm): LayerNorm((768,), eps=1e-12, elementwise_affine=True)\n",
              "              (dropout): Dropout(p=0.1, inplace=False)\n",
              "            )\n",
              "          )\n",
              "          (intermediate): BertIntermediate(\n",
              "            (dense): Linear(in_features=768, out_features=3072, bias=True)\n",
              "          )\n",
              "          (output): BertOutput(\n",
              "            (dense): Linear(in_features=3072, out_features=768, bias=True)\n",
              "            (LayerNorm): LayerNorm((768,), eps=1e-12, elementwise_affine=True)\n",
              "            (dropout): Dropout(p=0.1, inplace=False)\n",
              "          )\n",
              "        )\n",
              "        (7): BertLayer(\n",
              "          (attention): BertAttention(\n",
              "            (self): BertSelfAttention(\n",
              "              (query): Linear(in_features=768, out_features=768, bias=True)\n",
              "              (key): Linear(in_features=768, out_features=768, bias=True)\n",
              "              (value): Linear(in_features=768, out_features=768, bias=True)\n",
              "              (dropout): Dropout(p=0.1, inplace=False)\n",
              "            )\n",
              "            (output): BertSelfOutput(\n",
              "              (dense): Linear(in_features=768, out_features=768, bias=True)\n",
              "              (LayerNorm): LayerNorm((768,), eps=1e-12, elementwise_affine=True)\n",
              "              (dropout): Dropout(p=0.1, inplace=False)\n",
              "            )\n",
              "          )\n",
              "          (intermediate): BertIntermediate(\n",
              "            (dense): Linear(in_features=768, out_features=3072, bias=True)\n",
              "          )\n",
              "          (output): BertOutput(\n",
              "            (dense): Linear(in_features=3072, out_features=768, bias=True)\n",
              "            (LayerNorm): LayerNorm((768,), eps=1e-12, elementwise_affine=True)\n",
              "            (dropout): Dropout(p=0.1, inplace=False)\n",
              "          )\n",
              "        )\n",
              "        (8): BertLayer(\n",
              "          (attention): BertAttention(\n",
              "            (self): BertSelfAttention(\n",
              "              (query): Linear(in_features=768, out_features=768, bias=True)\n",
              "              (key): Linear(in_features=768, out_features=768, bias=True)\n",
              "              (value): Linear(in_features=768, out_features=768, bias=True)\n",
              "              (dropout): Dropout(p=0.1, inplace=False)\n",
              "            )\n",
              "            (output): BertSelfOutput(\n",
              "              (dense): Linear(in_features=768, out_features=768, bias=True)\n",
              "              (LayerNorm): LayerNorm((768,), eps=1e-12, elementwise_affine=True)\n",
              "              (dropout): Dropout(p=0.1, inplace=False)\n",
              "            )\n",
              "          )\n",
              "          (intermediate): BertIntermediate(\n",
              "            (dense): Linear(in_features=768, out_features=3072, bias=True)\n",
              "          )\n",
              "          (output): BertOutput(\n",
              "            (dense): Linear(in_features=3072, out_features=768, bias=True)\n",
              "            (LayerNorm): LayerNorm((768,), eps=1e-12, elementwise_affine=True)\n",
              "            (dropout): Dropout(p=0.1, inplace=False)\n",
              "          )\n",
              "        )\n",
              "        (9): BertLayer(\n",
              "          (attention): BertAttention(\n",
              "            (self): BertSelfAttention(\n",
              "              (query): Linear(in_features=768, out_features=768, bias=True)\n",
              "              (key): Linear(in_features=768, out_features=768, bias=True)\n",
              "              (value): Linear(in_features=768, out_features=768, bias=True)\n",
              "              (dropout): Dropout(p=0.1, inplace=False)\n",
              "            )\n",
              "            (output): BertSelfOutput(\n",
              "              (dense): Linear(in_features=768, out_features=768, bias=True)\n",
              "              (LayerNorm): LayerNorm((768,), eps=1e-12, elementwise_affine=True)\n",
              "              (dropout): Dropout(p=0.1, inplace=False)\n",
              "            )\n",
              "          )\n",
              "          (intermediate): BertIntermediate(\n",
              "            (dense): Linear(in_features=768, out_features=3072, bias=True)\n",
              "          )\n",
              "          (output): BertOutput(\n",
              "            (dense): Linear(in_features=3072, out_features=768, bias=True)\n",
              "            (LayerNorm): LayerNorm((768,), eps=1e-12, elementwise_affine=True)\n",
              "            (dropout): Dropout(p=0.1, inplace=False)\n",
              "          )\n",
              "        )\n",
              "        (10): BertLayer(\n",
              "          (attention): BertAttention(\n",
              "            (self): BertSelfAttention(\n",
              "              (query): Linear(in_features=768, out_features=768, bias=True)\n",
              "              (key): Linear(in_features=768, out_features=768, bias=True)\n",
              "              (value): Linear(in_features=768, out_features=768, bias=True)\n",
              "              (dropout): Dropout(p=0.1, inplace=False)\n",
              "            )\n",
              "            (output): BertSelfOutput(\n",
              "              (dense): Linear(in_features=768, out_features=768, bias=True)\n",
              "              (LayerNorm): LayerNorm((768,), eps=1e-12, elementwise_affine=True)\n",
              "              (dropout): Dropout(p=0.1, inplace=False)\n",
              "            )\n",
              "          )\n",
              "          (intermediate): BertIntermediate(\n",
              "            (dense): Linear(in_features=768, out_features=3072, bias=True)\n",
              "          )\n",
              "          (output): BertOutput(\n",
              "            (dense): Linear(in_features=3072, out_features=768, bias=True)\n",
              "            (LayerNorm): LayerNorm((768,), eps=1e-12, elementwise_affine=True)\n",
              "            (dropout): Dropout(p=0.1, inplace=False)\n",
              "          )\n",
              "        )\n",
              "        (11): BertLayer(\n",
              "          (attention): BertAttention(\n",
              "            (self): BertSelfAttention(\n",
              "              (query): Linear(in_features=768, out_features=768, bias=True)\n",
              "              (key): Linear(in_features=768, out_features=768, bias=True)\n",
              "              (value): Linear(in_features=768, out_features=768, bias=True)\n",
              "              (dropout): Dropout(p=0.1, inplace=False)\n",
              "            )\n",
              "            (output): BertSelfOutput(\n",
              "              (dense): Linear(in_features=768, out_features=768, bias=True)\n",
              "              (LayerNorm): LayerNorm((768,), eps=1e-12, elementwise_affine=True)\n",
              "              (dropout): Dropout(p=0.1, inplace=False)\n",
              "            )\n",
              "          )\n",
              "          (intermediate): BertIntermediate(\n",
              "            (dense): Linear(in_features=768, out_features=3072, bias=True)\n",
              "          )\n",
              "          (output): BertOutput(\n",
              "            (dense): Linear(in_features=3072, out_features=768, bias=True)\n",
              "            (LayerNorm): LayerNorm((768,), eps=1e-12, elementwise_affine=True)\n",
              "            (dropout): Dropout(p=0.1, inplace=False)\n",
              "          )\n",
              "        )\n",
              "      )\n",
              "    )\n",
              "    (pooler): BertPooler(\n",
              "      (dense): Linear(in_features=768, out_features=768, bias=True)\n",
              "      (activation): Tanh()\n",
              "    )\n",
              "  )\n",
              "  (pre_classifier): Linear(in_features=768, out_features=768, bias=True)\n",
              "  (dropout): Dropout(p=0.3, inplace=False)\n",
              "  (classifier): Linear(in_features=768, out_features=6, bias=True)\n",
              ")"
            ]
          },
          "metadata": {},
          "execution_count": 16
        }
      ],
      "id": "sZ55mIPZIkp_"
    },
    {
      "cell_type": "code",
      "metadata": {
        "id": "XYZ7YuJ5InOS"
      },
      "source": [
        "# Creating the loss function and optimizer\n",
        "loss_function = torch.nn.CrossEntropyLoss()\n",
        "optimizer = torch.optim.Adam(params =  model.parameters(), lr=LEARNING_RATE)"
      ],
      "execution_count": null,
      "outputs": [],
      "id": "XYZ7YuJ5InOS"
    },
    {
      "cell_type": "code",
      "metadata": {
        "id": "yPhA2V3iIpzN"
      },
      "source": [
        "def calcuate_accuracy(preds, targets):\n",
        "    n_correct = (preds==targets).sum().item()\n",
        "    return n_correct"
      ],
      "execution_count": null,
      "outputs": [],
      "id": "yPhA2V3iIpzN"
    },
    {
      "cell_type": "code",
      "metadata": {
        "id": "mhqvtY2SIup7"
      },
      "source": [
        "# Defining the training function on the 80% of the dataset for tuning the distilbert model\n",
        "\n",
        "def train(epoch):\n",
        "    tr_loss = 0\n",
        "    n_correct = 0\n",
        "    nb_tr_steps = 0\n",
        "    nb_tr_examples = 0\n",
        "    model.train()\n",
        "    for _,data in tqdm(enumerate(training_loader, 0)):\n",
        "        ids = data['ids'].to(device, dtype = torch.long)\n",
        "        mask = data['mask'].to(device, dtype = torch.long)\n",
        "        token_type_ids = data['token_type_ids'].to(device, dtype = torch.long)\n",
        "        targets = data['targets'].to(device, dtype = torch.long)\n",
        "\n",
        "        outputs = model(ids, mask, token_type_ids)\n",
        "        loss = loss_function(outputs, targets)\n",
        "        tr_loss += loss.item()\n",
        "        big_val, big_idx = torch.max(outputs.data, dim=1)\n",
        "        n_correct += calcuate_accuracy(big_idx, targets)\n",
        "\n",
        "        nb_tr_steps += 1\n",
        "        nb_tr_examples+=targets.size(0)\n",
        "\n",
        "        if _%5000==0:\n",
        "            loss_step = tr_loss/nb_tr_steps\n",
        "            accu_step = (n_correct*100)/nb_tr_examples\n",
        "            print(f\"Training Loss per 5000 steps: {loss_step}\")\n",
        "            print(f\"Training Accuracy per 5000 steps: {accu_step}\")\n",
        "\n",
        "        optimizer.zero_grad()\n",
        "        loss.backward()\n",
        "        # # When using GPU\n",
        "        optimizer.step()\n",
        "\n",
        "    print(f'The Total Accuracy for Epoch {epoch}: {(n_correct*100)/nb_tr_examples}')\n",
        "    epoch_loss = tr_loss/nb_tr_steps\n",
        "    epoch_accu = (n_correct*100)/nb_tr_examples\n",
        "    print(f\"Training Loss Epoch: {epoch_loss}\")\n",
        "    print(f\"Training Accuracy Epoch: {epoch_accu}\")\n",
        "\n",
        "    return"
      ],
      "execution_count": null,
      "outputs": [],
      "id": "mhqvtY2SIup7"
    },
    {
      "cell_type": "code",
      "metadata": {
        "id": "Afn7xaunJHnI",
        "outputId": "e68b76dc-e78e-4eb9-e5ad-e4248e6ee133",
        "colab": {
          "base_uri": "https://localhost:8080/"
        }
      },
      "source": [
        "EPOCHS = 1\n",
        "for epoch in range(EPOCHS):\n",
        "    train(epoch)"
      ],
      "execution_count": null,
      "outputs": [
        {
          "output_type": "stream",
          "name": "stderr",
          "text": [
            "\r0it [00:00, ?it/s]"
          ]
        },
        {
          "output_type": "stream",
          "name": "stdout",
          "text": [
            "Training Loss per 5000 steps: 1.8402245044708252\n",
            "Training Accuracy per 5000 steps: 0.0\n"
          ]
        },
        {
          "output_type": "stream",
          "name": "stderr",
          "text": [
            "762it [04:55,  2.58it/s]"
          ]
        },
        {
          "output_type": "stream",
          "name": "stdout",
          "text": [
            "The Total Accuracy for Epoch 0: 53.70734908136483\n",
            "Training Loss Epoch: 1.2391365157572303\n",
            "Training Accuracy Epoch: 53.70734908136483\n"
          ]
        },
        {
          "output_type": "stream",
          "name": "stderr",
          "text": [
            "\n"
          ]
        }
      ],
      "id": "Afn7xaunJHnI"
    },
    {
      "cell_type": "code",
      "metadata": {
        "id": "bFiNcy16JLwt"
      },
      "source": [
        "def valid(model, testing_loader):\n",
        "    model.eval()\n",
        "    n_correct = 0; n_wrong = 0; total = 0; tr_loss=0; nb_tr_steps=0; nb_tr_examples=0\n",
        "    with torch.no_grad():\n",
        "        for _, data in tqdm(enumerate(testing_loader, 0)):\n",
        "            ids = data['ids'].to(device, dtype = torch.long)\n",
        "            mask = data['mask'].to(device, dtype = torch.long)\n",
        "            token_type_ids = data['token_type_ids'].to(device, dtype=torch.long)\n",
        "            targets = data['targets'].to(device, dtype = torch.long)\n",
        "            outputs = model(ids, mask, token_type_ids).squeeze()\n",
        "            loss = loss_function(outputs, targets)\n",
        "            tr_loss += loss.item()\n",
        "            big_val, big_idx = torch.max(outputs.data, dim=1)\n",
        "            n_correct += calcuate_accuracy(big_idx, targets)\n",
        "\n",
        "            nb_tr_steps += 1\n",
        "            nb_tr_examples+=targets.size(0)\n",
        "\n",
        "            if _%5000==0:\n",
        "                loss_step = tr_loss/nb_tr_steps\n",
        "                accu_step = (n_correct*100)/nb_tr_examples\n",
        "                print(f\"Validation Loss per 100 steps: {loss_step}\")\n",
        "                print(f\"Validation Accuracy per 100 steps: {accu_step}\")\n",
        "    epoch_loss = tr_loss/nb_tr_steps\n",
        "    epoch_accu = (n_correct*100)/nb_tr_examples\n",
        "    print(f\"Validation Loss Epoch: {epoch_loss}\")\n",
        "    print(f\"Validation Accuracy Epoch: {epoch_accu}\")\n",
        "\n",
        "    return epoch_accu\n"
      ],
      "execution_count": null,
      "outputs": [],
      "id": "bFiNcy16JLwt"
    },
    {
      "cell_type": "code",
      "metadata": {
        "id": "UcUylInzKdV-",
        "outputId": "011897da-c41a-4fa5-b6dd-1097c3af6fac",
        "colab": {
          "base_uri": "https://localhost:8080/"
        }
      },
      "source": [
        "acc = valid(model, testing_loader)\n",
        "print(\"Accuracy on test data = %0.2f%%\" % acc)"
      ],
      "execution_count": null,
      "outputs": [
        {
          "output_type": "stream",
          "name": "stderr",
          "text": [
            "2it [00:00, 15.10it/s]"
          ]
        },
        {
          "output_type": "stream",
          "name": "stdout",
          "text": [
            "Validation Loss per 100 steps: 1.1971962451934814\n",
            "Validation Accuracy per 100 steps: 50.0\n"
          ]
        },
        {
          "output_type": "stream",
          "name": "stderr",
          "text": [
            "381it [00:27, 13.76it/s]"
          ]
        },
        {
          "output_type": "stream",
          "name": "stdout",
          "text": [
            "Validation Loss Epoch: 1.0693955353786313\n",
            "Validation Accuracy Epoch: 59.58005249343832\n",
            "Accuracy on test data = 59.58%\n"
          ]
        },
        {
          "output_type": "stream",
          "name": "stderr",
          "text": [
            "\n"
          ]
        }
      ],
      "id": "UcUylInzKdV-"
    },
    {
      "cell_type": "markdown",
      "source": [
        "# Bert Multi-label Classification"
      ],
      "metadata": {
        "id": "YL6XTAZhIWec"
      },
      "id": "YL6XTAZhIWec"
    },
    {
      "cell_type": "code",
      "source": [
        "# Train, Test, Validation set\n",
        "# To get the dataset format, import the data in csv format made in previous code.\n",
        "dataset = load_dataset('csv', data_files='sentences_all_hand.csv')"
      ],
      "metadata": {
        "colab": {
          "base_uri": "https://localhost:8080/",
          "height": 103,
          "referenced_widgets": [
            "98da4673a425448cacf871dabf0bf5a4",
            "ab37d1ced347416ba146a4896eccc948",
            "6f360fefc7234f64bdec645464fe39fb",
            "9ea52ba7f02148fd93bfcfced3234e03",
            "a75969a9b98a45d386c62fe8d81da485",
            "1e988cb2a2214ba88aa708d740261f21",
            "bc4a7f007adb4a578691bc24b84f13ba",
            "e299cfa2f6c64847a71187cebb9887e0",
            "a01a8925fda34aa2aee7866ee20d208a",
            "26d2f2404cd7480b9d502903c7caec4f",
            "fa2db14ea8b8402abf100f44c16f7110"
          ]
        },
        "id": "W8kQxd-1InrY",
        "outputId": "3205097c-64d1-47ad-e61c-b7276cf78a9e"
      },
      "execution_count": null,
      "outputs": [
        {
          "output_type": "stream",
          "name": "stderr",
          "text": [
            "WARNING:datasets.builder:Using custom data configuration default-2b8345d907a899ee\n",
            "WARNING:datasets.builder:Reusing dataset csv (/root/.cache/huggingface/datasets/csv/default-2b8345d907a899ee/0.0.0/51cce309a08df9c4d82ffd9363bbe090bf173197fc01a71b034e8594995a1a58)\n"
          ]
        },
        {
          "output_type": "display_data",
          "data": {
            "text/plain": [
              "  0%|          | 0/1 [00:00<?, ?it/s]"
            ],
            "application/vnd.jupyter.widget-view+json": {
              "version_major": 2,
              "version_minor": 0,
              "model_id": "98da4673a425448cacf871dabf0bf5a4"
            }
          },
          "metadata": {}
        }
      ],
      "id": "W8kQxd-1InrY"
    },
    {
      "cell_type": "code",
      "source": [
        "dataset"
      ],
      "metadata": {
        "colab": {
          "base_uri": "https://localhost:8080/"
        },
        "id": "hj0mI5uBa-60",
        "outputId": "df3ed177-8f88-43bb-9933-869d099d78f0"
      },
      "execution_count": null,
      "outputs": [
        {
          "output_type": "execute_result",
          "data": {
            "text/plain": [
              "DatasetDict({\n",
              "    train: Dataset({\n",
              "        features: ['sentence_id', 'sentence', '0', '1', '2', '3', '4', '5'],\n",
              "        num_rows: 7620\n",
              "    })\n",
              "})"
            ]
          },
          "metadata": {},
          "execution_count": 47
        }
      ],
      "id": "hj0mI5uBa-60"
    },
    {
      "cell_type": "code",
      "source": [
        "# Originally dataset consists of one dataset - named 'train' in total\n",
        "# Split train and test dataset\n",
        "train_dataset, test_dataset= dataset['train'].train_test_split(test_size=0.2).values()"
      ],
      "metadata": {
        "id": "QYiLjLIrMcY4"
      },
      "execution_count": null,
      "outputs": [],
      "id": "QYiLjLIrMcY4"
    },
    {
      "cell_type": "code",
      "source": [
        "# Split train and validation dataset in a train dataset\n",
        "train_dataset, validation_dataset = train_dataset.train_test_split(test_size = 0.2).values()"
      ],
      "metadata": {
        "id": "5qugytbaZhBa"
      },
      "execution_count": null,
      "outputs": [],
      "id": "5qugytbaZhBa"
    },
    {
      "cell_type": "code",
      "source": [
        "train_dataset"
      ],
      "metadata": {
        "colab": {
          "base_uri": "https://localhost:8080/"
        },
        "id": "bqiO7aiJZRWx",
        "outputId": "ffb940ad-0860-4416-8e22-65ad744b7d29"
      },
      "execution_count": null,
      "outputs": [
        {
          "output_type": "execute_result",
          "data": {
            "text/plain": [
              "Dataset({\n",
              "    features: ['sentence_id', 'sentence', '0', '1', '2', '3', '4', '5'],\n",
              "    num_rows: 4876\n",
              "})"
            ]
          },
          "metadata": {},
          "execution_count": 83
        }
      ],
      "id": "bqiO7aiJZRWx"
    },
    {
      "cell_type": "code",
      "source": [
        "test_dataset"
      ],
      "metadata": {
        "colab": {
          "base_uri": "https://localhost:8080/"
        },
        "id": "kEgZ7snKZwM2",
        "outputId": "d218e542-8873-4922-9fb6-6973c3744c9b"
      },
      "execution_count": null,
      "outputs": [
        {
          "output_type": "execute_result",
          "data": {
            "text/plain": [
              "Dataset({\n",
              "    features: ['sentence_id', 'sentence', '0', '1', '2', '3', '4', '5'],\n",
              "    num_rows: 1524\n",
              "})"
            ]
          },
          "metadata": {},
          "execution_count": 84
        }
      ],
      "id": "kEgZ7snKZwM2"
    },
    {
      "cell_type": "code",
      "source": [
        "validation_dataset"
      ],
      "metadata": {
        "colab": {
          "base_uri": "https://localhost:8080/"
        },
        "id": "wRdSBDzaZuKq",
        "outputId": "5e610346-76ce-40da-b6a3-02f46123f506"
      },
      "execution_count": null,
      "outputs": [
        {
          "output_type": "execute_result",
          "data": {
            "text/plain": [
              "Dataset({\n",
              "    features: ['sentence_id', 'sentence', '0', '1', '2', '3', '4', '5'],\n",
              "    num_rows: 1220\n",
              "})"
            ]
          },
          "metadata": {},
          "execution_count": 85
        }
      ],
      "id": "wRdSBDzaZuKq"
    },
    {
      "cell_type": "code",
      "source": [
        "from datasets import Dataset\n",
        "from datasets.dataset_dict import DatasetDict\n",
        "dataset = DatasetDict({'train': train_dataset, 'test': test_dataset, 'validation': validation_dataset})"
      ],
      "metadata": {
        "id": "JAoDJdLvbdE4"
      },
      "execution_count": null,
      "outputs": [],
      "id": "JAoDJdLvbdE4"
    },
    {
      "cell_type": "code",
      "source": [
        "# Make the column for labeling.\n",
        "\n",
        "labels = [label for label in dataset['train'].features.keys() if label not in ['sentence_id', 'sentence']]\n",
        "id2label = {idx:label for idx, label in enumerate(labels)}\n",
        "label2id = {label:idx for idx, label in enumerate(labels)}"
      ],
      "metadata": {
        "id": "AtZWvdG6aNwh"
      },
      "execution_count": null,
      "outputs": [],
      "id": "AtZWvdG6aNwh"
    },
    {
      "cell_type": "code",
      "source": [
        "labels"
      ],
      "metadata": {
        "colab": {
          "base_uri": "https://localhost:8080/"
        },
        "id": "ZFBRj16DvAwu",
        "outputId": "a86c4c2d-ce1f-428d-8292-24a3f91fddd1"
      },
      "execution_count": null,
      "outputs": [
        {
          "output_type": "execute_result",
          "data": {
            "text/plain": [
              "['0', '1', '2', '3', '4', '5']"
            ]
          },
          "metadata": {},
          "execution_count": 88
        }
      ],
      "id": "ZFBRj16DvAwu"
    },
    {
      "cell_type": "code",
      "source": [
        "dataset"
      ],
      "metadata": {
        "id": "UMSfabVfbz1Z",
        "outputId": "87122770-ae5c-4fde-c45a-cef879796776",
        "colab": {
          "base_uri": "https://localhost:8080/"
        }
      },
      "execution_count": null,
      "outputs": [
        {
          "output_type": "execute_result",
          "data": {
            "text/plain": [
              "DatasetDict({\n",
              "    train: Dataset({\n",
              "        features: ['sentence_id', 'sentence', '0', '1', '2', '3', '4', '5'],\n",
              "        num_rows: 4876\n",
              "    })\n",
              "    test: Dataset({\n",
              "        features: ['sentence_id', 'sentence', '0', '1', '2', '3', '4', '5'],\n",
              "        num_rows: 1524\n",
              "    })\n",
              "    validation: Dataset({\n",
              "        features: ['sentence_id', 'sentence', '0', '1', '2', '3', '4', '5'],\n",
              "        num_rows: 1220\n",
              "    })\n",
              "})"
            ]
          },
          "metadata": {},
          "execution_count": 89
        }
      ],
      "id": "UMSfabVfbz1Z"
    },
    {
      "cell_type": "code",
      "source": [
        "dataset['train']['sentence'][:10]"
      ],
      "metadata": {
        "colab": {
          "base_uri": "https://localhost:8080/"
        },
        "id": "TbqufacFHU-q",
        "outputId": "923f0473-f4bb-4089-897d-68fd6b153191"
      },
      "execution_count": null,
      "outputs": [
        {
          "output_type": "execute_result",
          "data": {
            "text/plain": [
              "['Während dies ein lustiges Konzept ist, ist es eigentlich ein großartiges Beispiel dafür, warum es so wichtig ist, ein \"tiefes Verständnis für grundlegende Mathematik\" zu haben.',\n",
              " 'Vom Lösungsbogen im Anschluss an die Abgabe war ich überrascht, da mir dieses Mal viele der der vorgeschlagenen Lösungen tatsächlich nicht eingefallen sind.',\n",
              " 'Denn ich habe mir zuallererst die Aufgabe einmal kurz durchgelesen, um zu verstehen um welche Situation es sich handelt und meine ersten Gedanken (ohne das Wissen der Folien oder der Literatur) aufgeschrieben.',\n",
              " 'Wie man mit Störungen umgeht, finde ich zwar schon interessant, abgesehen vom sehr praktisch gehaltenen Text von Lohmann und einigen Passagen von Becker, hatte ich allerdings nicht den Eindruck, dass mir die Literatur für eine reale Konfliktsituation weitergeholfen hätte, da die darin beschriebenen Handlungsvorschläge m.E. zu wenig konkret und zu abstrakt formuliert sind, oder auch schlichtweg nicht umsetzbar, da dafür vermutlich gar nicht genügend Zeit im Unterricht zur Verfügung stehen würde und ich mir gut vorstellen kann, dass einige der Handlungsempfehlungen, insbesondere von jugendlichen und älteren Sus nicht ernstgenommen werden würden, weil sie schlichtweg zu lasch sind…',\n",
              " 'Besseres Verständnis davon.',\n",
              " 'Ich fand ein paar Atemübungen, die in Nikki Doigs Vortrag angesprochen wurden, sehr interessant.',\n",
              " 'Dies geschieht zum Teil aus Gründen der Gesundheit und Sicherheit, hilft aber auch den Klienten, die Personen, die ihnen helfen, schnell zu identifizieren (zumal die Mutter wahrscheinlich keine Zeit damit verbringen wird, Namensschilder zu lesen, während sie sich in den Wehen befindet!)',\n",
              " 'Ich bin mir sicher, dass es viele gibt, und ich kann verstehen, dass es keine schöne Erfahrung ist, seine Kollegen zu kritisieren, und dass es daher sehr leicht ist, dies versehentlich zu vermeiden...',\n",
              " 'Ich hätte mehr externe Quellen suchen müssen um ein besseres Verständnis des Inhalts zu erlangen',\n",
              " 'Ich habe vier Beine, aber ich habe diese vier Wände nie verlassen ...']"
            ]
          },
          "metadata": {},
          "execution_count": 90
        }
      ],
      "id": "TbqufacFHU-q"
    },
    {
      "cell_type": "code",
      "source": [
        "from transformers import AutoTokenizer\n",
        "tokenizer = AutoTokenizer.from_pretrained(\"bert-base-multilingual-uncased\", do_lower_case = True)\n",
        "\n",
        "def preprocess_data(examples):\n",
        "  # take a batch of texts\n",
        "  text = examples[\"sentence\"]\n",
        "  # encode them\n",
        "  encoding = tokenizer(text, padding=\"max_length\", truncation=True, max_length=128)\n",
        "  # add labels\n",
        "  labels_batch = {k: examples[k] for k in examples.keys() if k in labels}\n",
        "  # create numpy array of shape (batch_size, num_labels)\n",
        "  labels_matrix = np.zeros((len(text), len(labels)))\n",
        "  # fill numpy array\n",
        "  for idx, label in enumerate(labels):\n",
        "    labels_matrix[:, idx] = labels_batch[label]\n",
        "\n",
        "  encoding[\"labels\"] = labels_matrix.tolist()\n",
        "\n",
        "  return encoding"
      ],
      "metadata": {
        "id": "BbGnaDVVDWRq",
        "colab": {
          "base_uri": "https://localhost:8080/"
        },
        "outputId": "e3815f7b-ed84-43e8-f8de-4afc82870962"
      },
      "execution_count": null,
      "outputs": [
        {
          "output_type": "stream",
          "name": "stderr",
          "text": [
            "loading configuration file https://huggingface.co/bert-base-multilingual-uncased/resolve/main/config.json from cache at /root/.cache/huggingface/transformers/af4e101d208f361f141144dca21e9c4148aaf0e85441c2e335743d10829c6cad.d63adade93e44e64bedd306ec82ffd33eedabaf0ff08aabe581acaa48616a508\n",
            "Model config BertConfig {\n",
            "  \"_name_or_path\": \"bert-base-multilingual-uncased\",\n",
            "  \"architectures\": [\n",
            "    \"BertForMaskedLM\"\n",
            "  ],\n",
            "  \"attention_probs_dropout_prob\": 0.1,\n",
            "  \"classifier_dropout\": null,\n",
            "  \"directionality\": \"bidi\",\n",
            "  \"hidden_act\": \"gelu\",\n",
            "  \"hidden_dropout_prob\": 0.1,\n",
            "  \"hidden_size\": 768,\n",
            "  \"initializer_range\": 0.02,\n",
            "  \"intermediate_size\": 3072,\n",
            "  \"layer_norm_eps\": 1e-12,\n",
            "  \"max_position_embeddings\": 512,\n",
            "  \"model_type\": \"bert\",\n",
            "  \"num_attention_heads\": 12,\n",
            "  \"num_hidden_layers\": 12,\n",
            "  \"pad_token_id\": 0,\n",
            "  \"pooler_fc_size\": 768,\n",
            "  \"pooler_num_attention_heads\": 12,\n",
            "  \"pooler_num_fc_layers\": 3,\n",
            "  \"pooler_size_per_head\": 128,\n",
            "  \"pooler_type\": \"first_token_transform\",\n",
            "  \"position_embedding_type\": \"absolute\",\n",
            "  \"transformers_version\": \"4.20.1\",\n",
            "  \"type_vocab_size\": 2,\n",
            "  \"use_cache\": true,\n",
            "  \"vocab_size\": 105879\n",
            "}\n",
            "\n",
            "loading file https://huggingface.co/bert-base-multilingual-uncased/resolve/main/vocab.txt from cache at /root/.cache/huggingface/transformers/269f2943d168a4cd2ddf3864cee89d7f7d78873b3d14a1229174d37212981a38.92022aa29ab6663b0b4254744f28ab43e6adf4deebe0f26651e6c61f28f69d8b\n",
            "loading file https://huggingface.co/bert-base-multilingual-uncased/resolve/main/tokenizer.json from cache at /root/.cache/huggingface/transformers/857db185d48b92f3e6141ef5092d8d5dbebab7eef1bacc6c9eaf85cf23807641.73ad1f9fd9f94089672128003fb4a687b64b73b2bfb8d08766bbc71feec8cd96\n",
            "loading file https://huggingface.co/bert-base-multilingual-uncased/resolve/main/added_tokens.json from cache at None\n",
            "loading file https://huggingface.co/bert-base-multilingual-uncased/resolve/main/special_tokens_map.json from cache at None\n",
            "loading file https://huggingface.co/bert-base-multilingual-uncased/resolve/main/tokenizer_config.json from cache at /root/.cache/huggingface/transformers/1b935b135ddb021a7d836c00f5702b80d11d348fd5c5a42cbd933d8ed1f55be9.20430bd8e10ef77a7d2977accefe796051e01bc2fc4aa146bc862997a1a15e79\n",
            "loading configuration file https://huggingface.co/bert-base-multilingual-uncased/resolve/main/config.json from cache at /root/.cache/huggingface/transformers/af4e101d208f361f141144dca21e9c4148aaf0e85441c2e335743d10829c6cad.d63adade93e44e64bedd306ec82ffd33eedabaf0ff08aabe581acaa48616a508\n",
            "Model config BertConfig {\n",
            "  \"_name_or_path\": \"bert-base-multilingual-uncased\",\n",
            "  \"architectures\": [\n",
            "    \"BertForMaskedLM\"\n",
            "  ],\n",
            "  \"attention_probs_dropout_prob\": 0.1,\n",
            "  \"classifier_dropout\": null,\n",
            "  \"directionality\": \"bidi\",\n",
            "  \"hidden_act\": \"gelu\",\n",
            "  \"hidden_dropout_prob\": 0.1,\n",
            "  \"hidden_size\": 768,\n",
            "  \"initializer_range\": 0.02,\n",
            "  \"intermediate_size\": 3072,\n",
            "  \"layer_norm_eps\": 1e-12,\n",
            "  \"max_position_embeddings\": 512,\n",
            "  \"model_type\": \"bert\",\n",
            "  \"num_attention_heads\": 12,\n",
            "  \"num_hidden_layers\": 12,\n",
            "  \"pad_token_id\": 0,\n",
            "  \"pooler_fc_size\": 768,\n",
            "  \"pooler_num_attention_heads\": 12,\n",
            "  \"pooler_num_fc_layers\": 3,\n",
            "  \"pooler_size_per_head\": 128,\n",
            "  \"pooler_type\": \"first_token_transform\",\n",
            "  \"position_embedding_type\": \"absolute\",\n",
            "  \"transformers_version\": \"4.20.1\",\n",
            "  \"type_vocab_size\": 2,\n",
            "  \"use_cache\": true,\n",
            "  \"vocab_size\": 105879\n",
            "}\n",
            "\n"
          ]
        }
      ],
      "id": "BbGnaDVVDWRq"
    },
    {
      "cell_type": "code",
      "source": [
        "encoded_dataset = dataset.map(preprocess_data, batched=True, remove_columns=dataset['train'].column_names)"
      ],
      "metadata": {
        "colab": {
          "base_uri": "https://localhost:8080/",
          "height": 113,
          "referenced_widgets": [
            "07d8c4e512fd4ca9b50d3a93d9fada17",
            "2e1b72d69c4c426492b76c9ddccc4fab",
            "1b9d67eda70f4149a681c633ead1587e",
            "f36c380dfd544b65b0593e8506354d6e",
            "b41e75291f6943ef8d1d4a4838af16c5",
            "3601fc4e581b4ec69f9d43e91e1c1ee6",
            "e2cd60bcdfd04fc494958fc7acf84fa5",
            "1f8c216df94a4bf1a9fee1395ceb2143",
            "8601297361524492a0d437f4a9df3dfd",
            "ce823218b38d47ebb9f686f844d5a34c",
            "cf6117adcce240a799c23b29b3e8ff92",
            "bf39b03805864cc58ca77c70f80608a3",
            "493e6635b85f40e083e4981d127379e1",
            "be72c1049f574e0fac4ec5a80e3e12ad",
            "d89fc3e71b504e15927effe79f5f31c3",
            "4aa252f788f342dcb5d728e7fa060d43",
            "141e964dada44e7797aba7f37ced9353",
            "be543474b52846ba8f62fd6bb5700241",
            "e51748b76dcd4bf29fd027a1bdea6513",
            "60cc398c653c4b63a5151800689fe319",
            "4a2b54a9e2fd41cd9d170c05c331529e",
            "9dff6245365944d888691b087f493bc6",
            "7502177687d04466a12c0189fb2b20fa",
            "192ff0fe7d1d48269320cbcd3ad2aa5e",
            "28dcbe56468b4d5a88456dac1cae947b",
            "40684d49dc8c458fa48a9721cb269599",
            "8ef968c913f34d68b48c1770369b8feb",
            "490ac1a0cdfc4488b0d685aec2dc95b8",
            "e49d058767cd443d8b105899376ea1f5",
            "34bb5d7195d24b9cac450b8ae1a809a3",
            "678f4448cb91478a834cc8f26a438e27",
            "60eff46bda574946aa0f6fa8c8b8633e",
            "0693abc7db5945b3ad3b5d38b8ddbdf4"
          ]
        },
        "id": "W_AoJKk_xYy3",
        "outputId": "91191ec1-c633-4591-e71e-e139b8843fff"
      },
      "execution_count": null,
      "outputs": [
        {
          "output_type": "display_data",
          "data": {
            "text/plain": [
              "  0%|          | 0/5 [00:00<?, ?ba/s]"
            ],
            "application/vnd.jupyter.widget-view+json": {
              "version_major": 2,
              "version_minor": 0,
              "model_id": "07d8c4e512fd4ca9b50d3a93d9fada17"
            }
          },
          "metadata": {}
        },
        {
          "output_type": "display_data",
          "data": {
            "text/plain": [
              "  0%|          | 0/2 [00:00<?, ?ba/s]"
            ],
            "application/vnd.jupyter.widget-view+json": {
              "version_major": 2,
              "version_minor": 0,
              "model_id": "bf39b03805864cc58ca77c70f80608a3"
            }
          },
          "metadata": {}
        },
        {
          "output_type": "display_data",
          "data": {
            "text/plain": [
              "  0%|          | 0/2 [00:00<?, ?ba/s]"
            ],
            "application/vnd.jupyter.widget-view+json": {
              "version_major": 2,
              "version_minor": 0,
              "model_id": "7502177687d04466a12c0189fb2b20fa"
            }
          },
          "metadata": {}
        }
      ],
      "id": "W_AoJKk_xYy3"
    },
    {
      "cell_type": "code",
      "source": [
        "encoded_dataset"
      ],
      "metadata": {
        "id": "K23nwGgAHBVB"
      },
      "execution_count": null,
      "outputs": [],
      "id": "K23nwGgAHBVB"
    },
    {
      "cell_type": "code",
      "source": [
        "example = encoded_dataset['train'][0]\n",
        "print(example.keys())"
      ],
      "metadata": {
        "colab": {
          "base_uri": "https://localhost:8080/"
        },
        "id": "zkATUDN0HGa1",
        "outputId": "3743779a-9cd3-407d-8794-b64580bd7c2a"
      },
      "execution_count": null,
      "outputs": [
        {
          "output_type": "stream",
          "name": "stdout",
          "text": [
            "dict_keys(['input_ids', 'token_type_ids', 'attention_mask', 'labels'])\n"
          ]
        }
      ],
      "id": "zkATUDN0HGa1"
    },
    {
      "cell_type": "code",
      "source": [
        "tokenizer.decode(example['input_ids'])"
      ],
      "metadata": {
        "colab": {
          "base_uri": "https://localhost:8080/",
          "height": 105
        },
        "id": "0qcjN4m9HO2M",
        "outputId": "13339415-2f3b-4079-9cf1-faf351f016fe"
      },
      "execution_count": null,
      "outputs": [
        {
          "output_type": "execute_result",
          "data": {
            "text/plain": [
              "'[CLS] wahrend dies ein lustiges konzept ist, ist es eigentlich ein großartiges beispiel dafur, warum es so wichtig ist, ein \" tiefes verstandnis fur grundlegende mathematik \" zu haben. [SEP] [PAD] [PAD] [PAD] [PAD] [PAD] [PAD] [PAD] [PAD] [PAD] [PAD] [PAD] [PAD] [PAD] [PAD] [PAD] [PAD] [PAD] [PAD] [PAD] [PAD] [PAD] [PAD] [PAD] [PAD] [PAD] [PAD] [PAD] [PAD] [PAD] [PAD] [PAD] [PAD] [PAD] [PAD] [PAD] [PAD] [PAD] [PAD] [PAD] [PAD] [PAD] [PAD] [PAD] [PAD] [PAD] [PAD] [PAD] [PAD] [PAD] [PAD] [PAD] [PAD] [PAD] [PAD] [PAD] [PAD] [PAD] [PAD] [PAD] [PAD] [PAD] [PAD] [PAD] [PAD] [PAD] [PAD] [PAD] [PAD] [PAD] [PAD] [PAD] [PAD] [PAD] [PAD] [PAD] [PAD] [PAD] [PAD] [PAD] [PAD] [PAD] [PAD] [PAD] [PAD] [PAD] [PAD] [PAD]'"
            ],
            "application/vnd.google.colaboratory.intrinsic+json": {
              "type": "string"
            }
          },
          "metadata": {},
          "execution_count": 94
        }
      ],
      "id": "0qcjN4m9HO2M"
    },
    {
      "cell_type": "code",
      "source": [
        "example['labels']"
      ],
      "metadata": {
        "colab": {
          "base_uri": "https://localhost:8080/"
        },
        "id": "dgU_gQUJHoub",
        "outputId": "a1afaa5b-9fff-4203-8b2f-bde03aed6aa7"
      },
      "execution_count": null,
      "outputs": [
        {
          "output_type": "execute_result",
          "data": {
            "text/plain": [
              "[0.0, 0.0, 1.0, 0.0, 0.0, 0.0]"
            ]
          },
          "metadata": {},
          "execution_count": 95
        }
      ],
      "id": "dgU_gQUJHoub"
    },
    {
      "cell_type": "code",
      "source": [
        "[id2label[idx] for idx, label in enumerate(example['labels']) if label == 1.0]"
      ],
      "metadata": {
        "id": "pXjgRI5-HyJw",
        "colab": {
          "base_uri": "https://localhost:8080/"
        },
        "outputId": "dec88eb5-098d-42d1-eb8f-8a3055052d58"
      },
      "execution_count": null,
      "outputs": [
        {
          "output_type": "execute_result",
          "data": {
            "text/plain": [
              "['2']"
            ]
          },
          "metadata": {},
          "execution_count": 96
        }
      ],
      "id": "pXjgRI5-HyJw"
    },
    {
      "cell_type": "code",
      "source": [
        "encoded_dataset.set_format(\"torch\")"
      ],
      "metadata": {
        "id": "Q15lYhxSH7m0"
      },
      "execution_count": null,
      "outputs": [],
      "id": "Q15lYhxSH7m0"
    },
    {
      "cell_type": "markdown",
      "source": [
        "## Define model"
      ],
      "metadata": {
        "id": "a4iv4vmHIjvI"
      },
      "id": "a4iv4vmHIjvI"
    },
    {
      "cell_type": "code",
      "source": [
        "from transformers import AutoModelForSequenceClassification\n",
        "\n",
        "model = AutoModelForSequenceClassification.from_pretrained(\"bert-base-multilingual-uncased\",\n",
        "                                                           problem_type=\"multi_label_classification\",\n",
        "                                                           num_labels=len(labels),\n",
        "                                                           id2label=id2label,\n",
        "                                                           label2id=label2id)"
      ],
      "metadata": {
        "colab": {
          "base_uri": "https://localhost:8080/"
        },
        "id": "XrHYsMTvIiVF",
        "outputId": "b3af1fef-47db-4041-bead-5fd2faa4c776"
      },
      "execution_count": null,
      "outputs": [
        {
          "output_type": "stream",
          "name": "stderr",
          "text": [
            "loading configuration file https://huggingface.co/bert-base-multilingual-uncased/resolve/main/config.json from cache at /root/.cache/huggingface/transformers/af4e101d208f361f141144dca21e9c4148aaf0e85441c2e335743d10829c6cad.d63adade93e44e64bedd306ec82ffd33eedabaf0ff08aabe581acaa48616a508\n",
            "Model config BertConfig {\n",
            "  \"_name_or_path\": \"bert-base-multilingual-uncased\",\n",
            "  \"architectures\": [\n",
            "    \"BertForMaskedLM\"\n",
            "  ],\n",
            "  \"attention_probs_dropout_prob\": 0.1,\n",
            "  \"classifier_dropout\": null,\n",
            "  \"directionality\": \"bidi\",\n",
            "  \"hidden_act\": \"gelu\",\n",
            "  \"hidden_dropout_prob\": 0.1,\n",
            "  \"hidden_size\": 768,\n",
            "  \"id2label\": {\n",
            "    \"0\": \"0\",\n",
            "    \"1\": \"1\",\n",
            "    \"2\": \"2\",\n",
            "    \"3\": \"3\",\n",
            "    \"4\": \"4\",\n",
            "    \"5\": \"5\"\n",
            "  },\n",
            "  \"initializer_range\": 0.02,\n",
            "  \"intermediate_size\": 3072,\n",
            "  \"label2id\": {\n",
            "    \"0\": 0,\n",
            "    \"1\": 1,\n",
            "    \"2\": 2,\n",
            "    \"3\": 3,\n",
            "    \"4\": 4,\n",
            "    \"5\": 5\n",
            "  },\n",
            "  \"layer_norm_eps\": 1e-12,\n",
            "  \"max_position_embeddings\": 512,\n",
            "  \"model_type\": \"bert\",\n",
            "  \"num_attention_heads\": 12,\n",
            "  \"num_hidden_layers\": 12,\n",
            "  \"pad_token_id\": 0,\n",
            "  \"pooler_fc_size\": 768,\n",
            "  \"pooler_num_attention_heads\": 12,\n",
            "  \"pooler_num_fc_layers\": 3,\n",
            "  \"pooler_size_per_head\": 128,\n",
            "  \"pooler_type\": \"first_token_transform\",\n",
            "  \"position_embedding_type\": \"absolute\",\n",
            "  \"problem_type\": \"multi_label_classification\",\n",
            "  \"transformers_version\": \"4.20.1\",\n",
            "  \"type_vocab_size\": 2,\n",
            "  \"use_cache\": true,\n",
            "  \"vocab_size\": 105879\n",
            "}\n",
            "\n",
            "loading weights file https://huggingface.co/bert-base-multilingual-uncased/resolve/main/pytorch_model.bin from cache at /root/.cache/huggingface/transformers/37f730c9dc4fc13ab6bf412fdc0ad936241a39a70628c2d4a85a607ea775b865.a458b2dad7b293099dd815628e032e6c22519889d75f13d6f244dbe068525a56\n",
            "Some weights of the model checkpoint at bert-base-multilingual-uncased were not used when initializing BertForSequenceClassification: ['cls.seq_relationship.weight', 'cls.seq_relationship.bias', 'cls.predictions.bias', 'cls.predictions.transform.dense.weight', 'cls.predictions.transform.LayerNorm.bias', 'cls.predictions.decoder.weight', 'cls.predictions.transform.LayerNorm.weight', 'cls.predictions.transform.dense.bias']\n",
            "- This IS expected if you are initializing BertForSequenceClassification from the checkpoint of a model trained on another task or with another architecture (e.g. initializing a BertForSequenceClassification model from a BertForPreTraining model).\n",
            "- This IS NOT expected if you are initializing BertForSequenceClassification from the checkpoint of a model that you expect to be exactly identical (initializing a BertForSequenceClassification model from a BertForSequenceClassification model).\n",
            "Some weights of BertForSequenceClassification were not initialized from the model checkpoint at bert-base-multilingual-uncased and are newly initialized: ['classifier.weight', 'classifier.bias']\n",
            "You should probably TRAIN this model on a down-stream task to be able to use it for predictions and inference.\n"
          ]
        }
      ],
      "id": "XrHYsMTvIiVF"
    },
    {
      "cell_type": "markdown",
      "source": [
        "## Train the model"
      ],
      "metadata": {
        "id": "ge6GMRDQIuWz"
      },
      "id": "ge6GMRDQIuWz"
    },
    {
      "cell_type": "code",
      "source": [
        "batch_size = 8\n",
        "metric_name = \"f1\""
      ],
      "metadata": {
        "id": "xyE895JbInfq"
      },
      "execution_count": null,
      "outputs": [],
      "id": "xyE895JbInfq"
    },
    {
      "cell_type": "code",
      "source": [
        "from transformers import TrainingArguments, Trainer\n",
        "\n",
        "args = TrainingArguments(\n",
        "    f\"bert-finetuned-sem_eval-german\",\n",
        "    evaluation_strategy = \"epoch\",\n",
        "    save_strategy = \"epoch\",\n",
        "    learning_rate=2e-5,\n",
        "    per_device_train_batch_size=batch_size,\n",
        "    per_device_eval_batch_size=batch_size,\n",
        "    num_train_epochs=5,\n",
        "    weight_decay=0.01,\n",
        "    load_best_model_at_end=True,\n",
        "    metric_for_best_model=metric_name,\n",
        "    #push_to_hub=True,\n",
        ")"
      ],
      "metadata": {
        "id": "ReuC7wDlIyTw",
        "colab": {
          "base_uri": "https://localhost:8080/"
        },
        "outputId": "abff0f0c-1660-4b02-8d2e-cdcbb551d032"
      },
      "execution_count": null,
      "outputs": [
        {
          "output_type": "stream",
          "name": "stderr",
          "text": [
            "PyTorch: setting up devices\n",
            "The default value for the training argument `--report_to` will change in v5 (from all installed integrations to none). In v5, you will need to use `--report_to all` to get the same behavior as now. You should start updating your code and make this info disappear :-).\n"
          ]
        }
      ],
      "id": "ReuC7wDlIyTw"
    },
    {
      "cell_type": "code",
      "source": [
        "from sklearn.metrics import roc_auc_score\n",
        "from transformers import EvalPrediction\n",
        "\n",
        "# source: https://jesusleal.io/2021/04/21/Longformer-multilabel-classification/\n",
        "def multi_label_metrics(predictions, labels, threshold=0.5):\n",
        "    # first, apply sigmoid on predictions which are of shape (batch_size, num_labels)\n",
        "    sigmoid = torch.nn.Sigmoid()\n",
        "    probs = sigmoid(torch.Tensor(predictions))\n",
        "    # next, use threshold to turn them into integer predictions\n",
        "    y_pred = np.zeros(probs.shape)\n",
        "    y_pred[np.where(probs >= threshold)] = 1\n",
        "    # finally, compute metrics\n",
        "    y_true = labels\n",
        "    f1_micro_average = f1_score(y_true=y_true, y_pred=y_pred, average='micro')\n",
        "    roc_auc = roc_auc_score(y_true, y_pred, average = 'micro')\n",
        "    accuracy = accuracy_score(y_true, y_pred)\n",
        "    # return as dictionary\n",
        "    metrics = {'f1': f1_micro_average,\n",
        "               'roc_auc': roc_auc,\n",
        "               'accuracy': accuracy}\n",
        "    return metrics\n",
        "\n",
        "def compute_metrics(p: EvalPrediction):\n",
        "    preds = p.predictions[0] if isinstance(p.predictions,\n",
        "            tuple) else p.predictions\n",
        "    result = multi_label_metrics(\n",
        "        predictions=preds,\n",
        "        labels=p.label_ids)\n",
        "    return result"
      ],
      "metadata": {
        "id": "V3S7_h0FJtol"
      },
      "execution_count": null,
      "outputs": [],
      "id": "V3S7_h0FJtol"
    },
    {
      "cell_type": "code",
      "source": [
        "encoded_dataset['train'][0]['labels'].type()"
      ],
      "metadata": {
        "colab": {
          "base_uri": "https://localhost:8080/",
          "height": 37
        },
        "id": "5Iyk16ipJ2Yu",
        "outputId": "cea3139f-481e-4edb-c33d-80468fbf55da"
      },
      "execution_count": null,
      "outputs": [
        {
          "output_type": "execute_result",
          "data": {
            "text/plain": [
              "'torch.FloatTensor'"
            ],
            "application/vnd.google.colaboratory.intrinsic+json": {
              "type": "string"
            }
          },
          "metadata": {},
          "execution_count": 102
        }
      ],
      "id": "5Iyk16ipJ2Yu"
    },
    {
      "cell_type": "code",
      "source": [
        "encoded_dataset['train']['input_ids'][0]"
      ],
      "metadata": {
        "colab": {
          "base_uri": "https://localhost:8080/"
        },
        "id": "dPhLFTVvJ23x",
        "outputId": "70ccf24a-520b-42f2-d42b-fc60ce884393"
      },
      "execution_count": null,
      "outputs": [
        {
          "output_type": "execute_result",
          "data": {
            "text/plain": [
              "tensor([  101, 12407, 13015, 10299, 71890, 40110, 56074, 10339,   117, 10339,\n",
              "        10153, 46413, 10299, 25858, 46378, 13217, 20405, 23986,   117, 89628,\n",
              "        10153, 10297, 82427, 10339,   117, 10299,   107, 66623, 10107, 12541,\n",
              "        76042, 10325, 16842, 46283, 10282, 56282,   107, 10331, 13576,   119,\n",
              "          102,     0,     0,     0,     0,     0,     0,     0,     0,     0,\n",
              "            0,     0,     0,     0,     0,     0,     0,     0,     0,     0,\n",
              "            0,     0,     0,     0,     0,     0,     0,     0,     0,     0,\n",
              "            0,     0,     0,     0,     0,     0,     0,     0,     0,     0,\n",
              "            0,     0,     0,     0,     0,     0,     0,     0,     0,     0,\n",
              "            0,     0,     0,     0,     0,     0,     0,     0,     0,     0,\n",
              "            0,     0,     0,     0,     0,     0,     0,     0,     0,     0,\n",
              "            0,     0,     0,     0,     0,     0,     0,     0,     0,     0,\n",
              "            0,     0,     0,     0,     0,     0,     0,     0])"
            ]
          },
          "metadata": {},
          "execution_count": 103
        }
      ],
      "id": "dPhLFTVvJ23x"
    },
    {
      "cell_type": "code",
      "source": [
        "#forward pass\n",
        "outputs = model(input_ids=encoded_dataset['train']['input_ids'][0].unsqueeze(0), labels=encoded_dataset['train'][0]['labels'].unsqueeze(0))\n",
        "outputs"
      ],
      "metadata": {
        "colab": {
          "base_uri": "https://localhost:8080/"
        },
        "id": "1fg6o8lPJ9iv",
        "outputId": "656e9bd1-724d-4206-e8b6-ef8ccfb9bf1f"
      },
      "execution_count": null,
      "outputs": [
        {
          "output_type": "execute_result",
          "data": {
            "text/plain": [
              "SequenceClassifierOutput([('loss',\n",
              "                           tensor(0.6589, grad_fn=<BinaryCrossEntropyWithLogitsBackward0>)),\n",
              "                          ('logits',\n",
              "                           tensor([[-0.1006,  0.0285, -0.0691, -0.2391, -0.2266,  0.0268]],\n",
              "                                  grad_fn=<AddmmBackward0>))])"
            ]
          },
          "metadata": {},
          "execution_count": 104
        }
      ],
      "id": "1fg6o8lPJ9iv"
    },
    {
      "cell_type": "code",
      "source": [
        "trainer = Trainer(\n",
        "    model,\n",
        "    args,\n",
        "    train_dataset=encoded_dataset[\"train\"],\n",
        "    eval_dataset=encoded_dataset[\"validation\"],\n",
        "    tokenizer=tokenizer,\n",
        "    compute_metrics=compute_metrics\n",
        ")"
      ],
      "metadata": {
        "id": "c7kaTt--KBSL"
      },
      "execution_count": null,
      "outputs": [],
      "id": "c7kaTt--KBSL"
    },
    {
      "cell_type": "code",
      "source": [
        "trainer.train()"
      ],
      "metadata": {
        "colab": {
          "base_uri": "https://localhost:8080/",
          "height": 538
        },
        "id": "Q5q6SL11KBuN",
        "outputId": "570aa4dd-1f44-4cf4-cc7c-ac4cc359e3e4"
      },
      "execution_count": null,
      "outputs": [
        {
          "output_type": "stream",
          "name": "stderr",
          "text": [
            "/usr/local/lib/python3.7/dist-packages/transformers/optimization.py:310: FutureWarning: This implementation of AdamW is deprecated and will be removed in a future version. Use the PyTorch implementation torch.optim.AdamW instead, or set `no_deprecation_warning=True` to disable this warning\n",
            "  FutureWarning,\n",
            "***** Running training *****\n",
            "  Num examples = 4876\n",
            "  Num Epochs = 5\n",
            "  Instantaneous batch size per device = 8\n",
            "  Total train batch size (w. parallel, distributed & accumulation) = 8\n",
            "  Gradient Accumulation steps = 1\n",
            "  Total optimization steps = 3050\n"
          ]
        },
        {
          "output_type": "display_data",
          "data": {
            "text/plain": [
              "<IPython.core.display.HTML object>"
            ],
            "text/html": [
              "\n",
              "    <div>\n",
              "      \n",
              "      <progress value='30' max='3050' style='width:300px; height:20px; vertical-align: middle;'></progress>\n",
              "      [  30/3050 05:33 < 9:58:55, 0.08 it/s, Epoch 0.05/5]\n",
              "    </div>\n",
              "    <table border=\"1\" class=\"dataframe\">\n",
              "  <thead>\n",
              " <tr style=\"text-align: left;\">\n",
              "      <th>Epoch</th>\n",
              "      <th>Training Loss</th>\n",
              "      <th>Validation Loss</th>\n",
              "    </tr>\n",
              "  </thead>\n",
              "  <tbody>\n",
              "  </tbody>\n",
              "</table><p>"
            ]
          },
          "metadata": {}
        },
        {
          "output_type": "error",
          "ename": "KeyboardInterrupt",
          "evalue": "ignored",
          "traceback": [
            "\u001b[0;31m---------------------------------------------------------------------------\u001b[0m",
            "\u001b[0;31mKeyboardInterrupt\u001b[0m                         Traceback (most recent call last)",
            "\u001b[0;32m<ipython-input-106-3435b262f1ae>\u001b[0m in \u001b[0;36m<module>\u001b[0;34m()\u001b[0m\n\u001b[0;32m----> 1\u001b[0;31m \u001b[0mtrainer\u001b[0m\u001b[0;34m.\u001b[0m\u001b[0mtrain\u001b[0m\u001b[0;34m(\u001b[0m\u001b[0;34m)\u001b[0m\u001b[0;34m\u001b[0m\u001b[0;34m\u001b[0m\u001b[0m\n\u001b[0m",
            "\u001b[0;32m/usr/local/lib/python3.7/dist-packages/transformers/trainer.py\u001b[0m in \u001b[0;36mtrain\u001b[0;34m(self, resume_from_checkpoint, trial, ignore_keys_for_eval, **kwargs)\u001b[0m\n\u001b[1;32m   1411\u001b[0m             \u001b[0mresume_from_checkpoint\u001b[0m\u001b[0;34m=\u001b[0m\u001b[0mresume_from_checkpoint\u001b[0m\u001b[0;34m,\u001b[0m\u001b[0;34m\u001b[0m\u001b[0;34m\u001b[0m\u001b[0m\n\u001b[1;32m   1412\u001b[0m             \u001b[0mtrial\u001b[0m\u001b[0;34m=\u001b[0m\u001b[0mtrial\u001b[0m\u001b[0;34m,\u001b[0m\u001b[0;34m\u001b[0m\u001b[0;34m\u001b[0m\u001b[0m\n\u001b[0;32m-> 1413\u001b[0;31m             \u001b[0mignore_keys_for_eval\u001b[0m\u001b[0;34m=\u001b[0m\u001b[0mignore_keys_for_eval\u001b[0m\u001b[0;34m,\u001b[0m\u001b[0;34m\u001b[0m\u001b[0;34m\u001b[0m\u001b[0m\n\u001b[0m\u001b[1;32m   1414\u001b[0m         )\n\u001b[1;32m   1415\u001b[0m \u001b[0;34m\u001b[0m\u001b[0m\n",
            "\u001b[0;32m/usr/local/lib/python3.7/dist-packages/transformers/trainer.py\u001b[0m in \u001b[0;36m_inner_training_loop\u001b[0;34m(self, batch_size, args, resume_from_checkpoint, trial, ignore_keys_for_eval)\u001b[0m\n\u001b[1;32m   1716\u001b[0m                         \u001b[0moptimizer_was_run\u001b[0m \u001b[0;34m=\u001b[0m \u001b[0mscale_before\u001b[0m \u001b[0;34m<=\u001b[0m \u001b[0mscale_after\u001b[0m\u001b[0;34m\u001b[0m\u001b[0;34m\u001b[0m\u001b[0m\n\u001b[1;32m   1717\u001b[0m                     \u001b[0;32melse\u001b[0m\u001b[0;34m:\u001b[0m\u001b[0;34m\u001b[0m\u001b[0;34m\u001b[0m\u001b[0m\n\u001b[0;32m-> 1718\u001b[0;31m                         \u001b[0mself\u001b[0m\u001b[0;34m.\u001b[0m\u001b[0moptimizer\u001b[0m\u001b[0;34m.\u001b[0m\u001b[0mstep\u001b[0m\u001b[0;34m(\u001b[0m\u001b[0;34m)\u001b[0m\u001b[0;34m\u001b[0m\u001b[0;34m\u001b[0m\u001b[0m\n\u001b[0m\u001b[1;32m   1719\u001b[0m \u001b[0;34m\u001b[0m\u001b[0m\n\u001b[1;32m   1720\u001b[0m                     \u001b[0;32mif\u001b[0m \u001b[0moptimizer_was_run\u001b[0m \u001b[0;32mand\u001b[0m \u001b[0;32mnot\u001b[0m \u001b[0mself\u001b[0m\u001b[0;34m.\u001b[0m\u001b[0mdeepspeed\u001b[0m\u001b[0;34m:\u001b[0m\u001b[0;34m\u001b[0m\u001b[0;34m\u001b[0m\u001b[0m\n",
            "\u001b[0;32m/usr/local/lib/python3.7/dist-packages/torch/optim/lr_scheduler.py\u001b[0m in \u001b[0;36mwrapper\u001b[0;34m(*args, **kwargs)\u001b[0m\n\u001b[1;32m     63\u001b[0m                 \u001b[0minstance\u001b[0m\u001b[0;34m.\u001b[0m\u001b[0m_step_count\u001b[0m \u001b[0;34m+=\u001b[0m \u001b[0;36m1\u001b[0m\u001b[0;34m\u001b[0m\u001b[0;34m\u001b[0m\u001b[0m\n\u001b[1;32m     64\u001b[0m                 \u001b[0mwrapped\u001b[0m \u001b[0;34m=\u001b[0m \u001b[0mfunc\u001b[0m\u001b[0;34m.\u001b[0m\u001b[0m__get__\u001b[0m\u001b[0;34m(\u001b[0m\u001b[0minstance\u001b[0m\u001b[0;34m,\u001b[0m \u001b[0mcls\u001b[0m\u001b[0;34m)\u001b[0m\u001b[0;34m\u001b[0m\u001b[0;34m\u001b[0m\u001b[0m\n\u001b[0;32m---> 65\u001b[0;31m                 \u001b[0;32mreturn\u001b[0m \u001b[0mwrapped\u001b[0m\u001b[0;34m(\u001b[0m\u001b[0;34m*\u001b[0m\u001b[0margs\u001b[0m\u001b[0;34m,\u001b[0m \u001b[0;34m**\u001b[0m\u001b[0mkwargs\u001b[0m\u001b[0;34m)\u001b[0m\u001b[0;34m\u001b[0m\u001b[0;34m\u001b[0m\u001b[0m\n\u001b[0m\u001b[1;32m     66\u001b[0m \u001b[0;34m\u001b[0m\u001b[0m\n\u001b[1;32m     67\u001b[0m             \u001b[0;31m# Note that the returned function here is no longer a bound method,\u001b[0m\u001b[0;34m\u001b[0m\u001b[0;34m\u001b[0m\u001b[0;34m\u001b[0m\u001b[0m\n",
            "\u001b[0;32m/usr/local/lib/python3.7/dist-packages/torch/optim/optimizer.py\u001b[0m in \u001b[0;36mwrapper\u001b[0;34m(*args, **kwargs)\u001b[0m\n\u001b[1;32m    107\u001b[0m                 \u001b[0mprofile_name\u001b[0m \u001b[0;34m=\u001b[0m \u001b[0;34m\"Optimizer.step#{}.step\"\u001b[0m\u001b[0;34m.\u001b[0m\u001b[0mformat\u001b[0m\u001b[0;34m(\u001b[0m\u001b[0mobj\u001b[0m\u001b[0;34m.\u001b[0m\u001b[0m__class__\u001b[0m\u001b[0;34m.\u001b[0m\u001b[0m__name__\u001b[0m\u001b[0;34m)\u001b[0m\u001b[0;34m\u001b[0m\u001b[0;34m\u001b[0m\u001b[0m\n\u001b[1;32m    108\u001b[0m                 \u001b[0;32mwith\u001b[0m \u001b[0mtorch\u001b[0m\u001b[0;34m.\u001b[0m\u001b[0mautograd\u001b[0m\u001b[0;34m.\u001b[0m\u001b[0mprofiler\u001b[0m\u001b[0;34m.\u001b[0m\u001b[0mrecord_function\u001b[0m\u001b[0;34m(\u001b[0m\u001b[0mprofile_name\u001b[0m\u001b[0;34m)\u001b[0m\u001b[0;34m:\u001b[0m\u001b[0;34m\u001b[0m\u001b[0;34m\u001b[0m\u001b[0m\n\u001b[0;32m--> 109\u001b[0;31m                     \u001b[0;32mreturn\u001b[0m \u001b[0mfunc\u001b[0m\u001b[0;34m(\u001b[0m\u001b[0;34m*\u001b[0m\u001b[0margs\u001b[0m\u001b[0;34m,\u001b[0m \u001b[0;34m**\u001b[0m\u001b[0mkwargs\u001b[0m\u001b[0;34m)\u001b[0m\u001b[0;34m\u001b[0m\u001b[0;34m\u001b[0m\u001b[0m\n\u001b[0m\u001b[1;32m    110\u001b[0m             \u001b[0;32mreturn\u001b[0m \u001b[0mwrapper\u001b[0m\u001b[0;34m\u001b[0m\u001b[0;34m\u001b[0m\u001b[0m\n\u001b[1;32m    111\u001b[0m \u001b[0;34m\u001b[0m\u001b[0m\n",
            "\u001b[0;32m/usr/local/lib/python3.7/dist-packages/transformers/optimization.py\u001b[0m in \u001b[0;36mstep\u001b[0;34m(self, closure)\u001b[0m\n\u001b[1;32m    360\u001b[0m                 \u001b[0mexp_avg\u001b[0m\u001b[0;34m.\u001b[0m\u001b[0mmul_\u001b[0m\u001b[0;34m(\u001b[0m\u001b[0mbeta1\u001b[0m\u001b[0;34m)\u001b[0m\u001b[0;34m.\u001b[0m\u001b[0madd_\u001b[0m\u001b[0;34m(\u001b[0m\u001b[0mgrad\u001b[0m\u001b[0;34m,\u001b[0m \u001b[0malpha\u001b[0m\u001b[0;34m=\u001b[0m\u001b[0;34m(\u001b[0m\u001b[0;36m1.0\u001b[0m \u001b[0;34m-\u001b[0m \u001b[0mbeta1\u001b[0m\u001b[0;34m)\u001b[0m\u001b[0;34m)\u001b[0m\u001b[0;34m\u001b[0m\u001b[0;34m\u001b[0m\u001b[0m\n\u001b[1;32m    361\u001b[0m                 \u001b[0mexp_avg_sq\u001b[0m\u001b[0;34m.\u001b[0m\u001b[0mmul_\u001b[0m\u001b[0;34m(\u001b[0m\u001b[0mbeta2\u001b[0m\u001b[0;34m)\u001b[0m\u001b[0;34m.\u001b[0m\u001b[0maddcmul_\u001b[0m\u001b[0;34m(\u001b[0m\u001b[0mgrad\u001b[0m\u001b[0;34m,\u001b[0m \u001b[0mgrad\u001b[0m\u001b[0;34m,\u001b[0m \u001b[0mvalue\u001b[0m\u001b[0;34m=\u001b[0m\u001b[0;36m1.0\u001b[0m \u001b[0;34m-\u001b[0m \u001b[0mbeta2\u001b[0m\u001b[0;34m)\u001b[0m\u001b[0;34m\u001b[0m\u001b[0;34m\u001b[0m\u001b[0m\n\u001b[0;32m--> 362\u001b[0;31m                 \u001b[0mdenom\u001b[0m \u001b[0;34m=\u001b[0m \u001b[0mexp_avg_sq\u001b[0m\u001b[0;34m.\u001b[0m\u001b[0msqrt\u001b[0m\u001b[0;34m(\u001b[0m\u001b[0;34m)\u001b[0m\u001b[0;34m.\u001b[0m\u001b[0madd_\u001b[0m\u001b[0;34m(\u001b[0m\u001b[0mgroup\u001b[0m\u001b[0;34m[\u001b[0m\u001b[0;34m\"eps\"\u001b[0m\u001b[0;34m]\u001b[0m\u001b[0;34m)\u001b[0m\u001b[0;34m\u001b[0m\u001b[0;34m\u001b[0m\u001b[0m\n\u001b[0m\u001b[1;32m    363\u001b[0m \u001b[0;34m\u001b[0m\u001b[0m\n\u001b[1;32m    364\u001b[0m                 \u001b[0mstep_size\u001b[0m \u001b[0;34m=\u001b[0m \u001b[0mgroup\u001b[0m\u001b[0;34m[\u001b[0m\u001b[0;34m\"lr\"\u001b[0m\u001b[0;34m]\u001b[0m\u001b[0;34m\u001b[0m\u001b[0;34m\u001b[0m\u001b[0m\n",
            "\u001b[0;31mKeyboardInterrupt\u001b[0m: "
          ]
        }
      ],
      "id": "Q5q6SL11KBuN"
    },
    {
      "cell_type": "code",
      "source": [
        "trainer.evaluate()"
      ],
      "metadata": {
        "id": "OA-sDtuDKJi5"
      },
      "execution_count": null,
      "outputs": [],
      "id": "OA-sDtuDKJi5"
    },
    {
      "cell_type": "code",
      "source": [
        "y_pred = trainer.predict(encoded_dataset['test']).predictions"
      ],
      "metadata": {
        "colab": {
          "base_uri": "https://localhost:8080/",
          "height": 88
        },
        "id": "0iJ9vtV_1ytY",
        "outputId": "763a3567-6cb2-41f6-df40-a3467676f0c1"
      },
      "execution_count": null,
      "outputs": [
        {
          "output_type": "stream",
          "name": "stderr",
          "text": [
            "***** Running Prediction *****\n",
            "  Num examples = 1524\n",
            "  Batch size = 8\n"
          ]
        },
        {
          "output_type": "display_data",
          "data": {
            "text/plain": [
              "<IPython.core.display.HTML object>"
            ],
            "text/html": [
              "\n",
              "    <div>\n",
              "      \n",
              "      <progress value='1108' max='153' style='width:300px; height:20px; vertical-align: middle;'></progress>\n",
              "      [153/153 1:06:13]\n",
              "    </div>\n",
              "    "
            ]
          },
          "metadata": {}
        }
      ],
      "id": "0iJ9vtV_1ytY"
    },
    {
      "cell_type": "markdown",
      "source": [
        "# Model Evaluation\n",
        "1. Hamming Loss\n",
        "2. Average precision\n",
        "3. Average recall\n",
        "4. Average f1"
      ],
      "metadata": {
        "id": "MyvIJ0HI4Jpy"
      },
      "id": "MyvIJ0HI4Jpy"
    },
    {
      "cell_type": "code",
      "source": [
        "# Define the true\n",
        "y_true = encoded_dataset[\"test\"][\"labels\"].tolist()\n",
        "y_pred = y_pred.tolist()\n",
        "\n",
        "y_pred=np.argmax(y_pred, axis=1)\n",
        "y_true=np.argmax(y_true, axis=1)"
      ],
      "metadata": {
        "id": "vIiJCkMe9dYb"
      },
      "execution_count": null,
      "outputs": [],
      "id": "vIiJCkMe9dYb"
    },
    {
      "cell_type": "code",
      "source": [
        "# Hamming loss\n",
        "from sklearn.metrics import hamming_loss\n",
        "\n",
        "metrics.hamming_loss(y_true, y_pred)"
      ],
      "metadata": {
        "colab": {
          "base_uri": "https://localhost:8080/"
        },
        "id": "Uz4kYEsJ2jwc",
        "outputId": "37dd3235-f6c3-46a1-9f1b-52bf5425c433"
      },
      "execution_count": null,
      "outputs": [
        {
          "output_type": "execute_result",
          "data": {
            "text/plain": [
              "0.41272965879265094"
            ]
          },
          "metadata": {},
          "execution_count": 97
        }
      ],
      "id": "Uz4kYEsJ2jwc"
    },
    {
      "cell_type": "code",
      "source": [
        "# Classification report\n",
        "from sklearn.metrics import classification_report\n",
        "\n",
        "label_names = ['0', '1', '2', '3', '4', '5']\n",
        "print(classification_report(y_true, y_pred,target_names=label_names))\n",
        "\n",
        "# Weighted average: mean average considering the actual number of the labels(support)\n",
        "# Macro average: Unweighted average"
      ],
      "metadata": {
        "colab": {
          "base_uri": "https://localhost:8080/"
        },
        "id": "kYesbPVL70cN",
        "outputId": "dd762276-8c1f-4c8d-c2cb-07ec808db195"
      },
      "execution_count": null,
      "outputs": [
        {
          "output_type": "stream",
          "name": "stdout",
          "text": [
            "              precision    recall  f1-score   support\n",
            "\n",
            "           0       0.78      0.68      0.73       788\n",
            "           1       0.52      0.42      0.47       128\n",
            "           2       0.47      0.53      0.50       364\n",
            "           3       0.32      0.46      0.38       167\n",
            "           4       0.00      0.00      0.00        28\n",
            "           5       0.42      0.67      0.52        49\n",
            "\n",
            "    accuracy                           0.59      1524\n",
            "   macro avg       0.42      0.46      0.43      1524\n",
            "weighted avg       0.61      0.59      0.59      1524\n",
            "\n"
          ]
        }
      ],
      "id": "kYesbPVL70cN"
    },
    {
      "cell_type": "markdown",
      "source": [],
      "metadata": {
        "id": "ufCUhPLOq0Si"
      },
      "id": "ufCUhPLOq0Si"
    }
  ],
  "metadata": {
    "kernelspec": {
      "display_name": "Python 3",
      "language": "python",
      "name": "python3"
    },
    "language_info": {
      "codemirror_mode": {
        "name": "ipython",
        "version": 3
      },
      "file_extension": ".py",
      "mimetype": "text/x-python",
      "name": "python",
      "nbconvert_exporter": "python",
      "pygments_lexer": "ipython3",
      "version": "3.8.8"
    },
    "colab": {
      "provenance": [],
      "collapsed_sections": [
        "5ece65f1",
        "86237b4f",
        "d5338663"
      ]
    },
    "widgets": {
      "application/vnd.jupyter.widget-state+json": {
        "98da4673a425448cacf871dabf0bf5a4": {
          "model_module": "@jupyter-widgets/controls",
          "model_name": "HBoxModel",
          "model_module_version": "1.5.0",
          "state": {
            "_dom_classes": [],
            "_model_module": "@jupyter-widgets/controls",
            "_model_module_version": "1.5.0",
            "_model_name": "HBoxModel",
            "_view_count": null,
            "_view_module": "@jupyter-widgets/controls",
            "_view_module_version": "1.5.0",
            "_view_name": "HBoxView",
            "box_style": "",
            "children": [
              "IPY_MODEL_ab37d1ced347416ba146a4896eccc948",
              "IPY_MODEL_6f360fefc7234f64bdec645464fe39fb",
              "IPY_MODEL_9ea52ba7f02148fd93bfcfced3234e03"
            ],
            "layout": "IPY_MODEL_a75969a9b98a45d386c62fe8d81da485"
          }
        },
        "ab37d1ced347416ba146a4896eccc948": {
          "model_module": "@jupyter-widgets/controls",
          "model_name": "HTMLModel",
          "model_module_version": "1.5.0",
          "state": {
            "_dom_classes": [],
            "_model_module": "@jupyter-widgets/controls",
            "_model_module_version": "1.5.0",
            "_model_name": "HTMLModel",
            "_view_count": null,
            "_view_module": "@jupyter-widgets/controls",
            "_view_module_version": "1.5.0",
            "_view_name": "HTMLView",
            "description": "",
            "description_tooltip": null,
            "layout": "IPY_MODEL_1e988cb2a2214ba88aa708d740261f21",
            "placeholder": "​",
            "style": "IPY_MODEL_bc4a7f007adb4a578691bc24b84f13ba",
            "value": "100%"
          }
        },
        "6f360fefc7234f64bdec645464fe39fb": {
          "model_module": "@jupyter-widgets/controls",
          "model_name": "FloatProgressModel",
          "model_module_version": "1.5.0",
          "state": {
            "_dom_classes": [],
            "_model_module": "@jupyter-widgets/controls",
            "_model_module_version": "1.5.0",
            "_model_name": "FloatProgressModel",
            "_view_count": null,
            "_view_module": "@jupyter-widgets/controls",
            "_view_module_version": "1.5.0",
            "_view_name": "ProgressView",
            "bar_style": "success",
            "description": "",
            "description_tooltip": null,
            "layout": "IPY_MODEL_e299cfa2f6c64847a71187cebb9887e0",
            "max": 1,
            "min": 0,
            "orientation": "horizontal",
            "style": "IPY_MODEL_a01a8925fda34aa2aee7866ee20d208a",
            "value": 1
          }
        },
        "9ea52ba7f02148fd93bfcfced3234e03": {
          "model_module": "@jupyter-widgets/controls",
          "model_name": "HTMLModel",
          "model_module_version": "1.5.0",
          "state": {
            "_dom_classes": [],
            "_model_module": "@jupyter-widgets/controls",
            "_model_module_version": "1.5.0",
            "_model_name": "HTMLModel",
            "_view_count": null,
            "_view_module": "@jupyter-widgets/controls",
            "_view_module_version": "1.5.0",
            "_view_name": "HTMLView",
            "description": "",
            "description_tooltip": null,
            "layout": "IPY_MODEL_26d2f2404cd7480b9d502903c7caec4f",
            "placeholder": "​",
            "style": "IPY_MODEL_fa2db14ea8b8402abf100f44c16f7110",
            "value": " 1/1 [00:00&lt;00:00,  4.32it/s]"
          }
        },
        "a75969a9b98a45d386c62fe8d81da485": {
          "model_module": "@jupyter-widgets/base",
          "model_name": "LayoutModel",
          "model_module_version": "1.2.0",
          "state": {
            "_model_module": "@jupyter-widgets/base",
            "_model_module_version": "1.2.0",
            "_model_name": "LayoutModel",
            "_view_count": null,
            "_view_module": "@jupyter-widgets/base",
            "_view_module_version": "1.2.0",
            "_view_name": "LayoutView",
            "align_content": null,
            "align_items": null,
            "align_self": null,
            "border": null,
            "bottom": null,
            "display": null,
            "flex": null,
            "flex_flow": null,
            "grid_area": null,
            "grid_auto_columns": null,
            "grid_auto_flow": null,
            "grid_auto_rows": null,
            "grid_column": null,
            "grid_gap": null,
            "grid_row": null,
            "grid_template_areas": null,
            "grid_template_columns": null,
            "grid_template_rows": null,
            "height": null,
            "justify_content": null,
            "justify_items": null,
            "left": null,
            "margin": null,
            "max_height": null,
            "max_width": null,
            "min_height": null,
            "min_width": null,
            "object_fit": null,
            "object_position": null,
            "order": null,
            "overflow": null,
            "overflow_x": null,
            "overflow_y": null,
            "padding": null,
            "right": null,
            "top": null,
            "visibility": null,
            "width": null
          }
        },
        "1e988cb2a2214ba88aa708d740261f21": {
          "model_module": "@jupyter-widgets/base",
          "model_name": "LayoutModel",
          "model_module_version": "1.2.0",
          "state": {
            "_model_module": "@jupyter-widgets/base",
            "_model_module_version": "1.2.0",
            "_model_name": "LayoutModel",
            "_view_count": null,
            "_view_module": "@jupyter-widgets/base",
            "_view_module_version": "1.2.0",
            "_view_name": "LayoutView",
            "align_content": null,
            "align_items": null,
            "align_self": null,
            "border": null,
            "bottom": null,
            "display": null,
            "flex": null,
            "flex_flow": null,
            "grid_area": null,
            "grid_auto_columns": null,
            "grid_auto_flow": null,
            "grid_auto_rows": null,
            "grid_column": null,
            "grid_gap": null,
            "grid_row": null,
            "grid_template_areas": null,
            "grid_template_columns": null,
            "grid_template_rows": null,
            "height": null,
            "justify_content": null,
            "justify_items": null,
            "left": null,
            "margin": null,
            "max_height": null,
            "max_width": null,
            "min_height": null,
            "min_width": null,
            "object_fit": null,
            "object_position": null,
            "order": null,
            "overflow": null,
            "overflow_x": null,
            "overflow_y": null,
            "padding": null,
            "right": null,
            "top": null,
            "visibility": null,
            "width": null
          }
        },
        "bc4a7f007adb4a578691bc24b84f13ba": {
          "model_module": "@jupyter-widgets/controls",
          "model_name": "DescriptionStyleModel",
          "model_module_version": "1.5.0",
          "state": {
            "_model_module": "@jupyter-widgets/controls",
            "_model_module_version": "1.5.0",
            "_model_name": "DescriptionStyleModel",
            "_view_count": null,
            "_view_module": "@jupyter-widgets/base",
            "_view_module_version": "1.2.0",
            "_view_name": "StyleView",
            "description_width": ""
          }
        },
        "e299cfa2f6c64847a71187cebb9887e0": {
          "model_module": "@jupyter-widgets/base",
          "model_name": "LayoutModel",
          "model_module_version": "1.2.0",
          "state": {
            "_model_module": "@jupyter-widgets/base",
            "_model_module_version": "1.2.0",
            "_model_name": "LayoutModel",
            "_view_count": null,
            "_view_module": "@jupyter-widgets/base",
            "_view_module_version": "1.2.0",
            "_view_name": "LayoutView",
            "align_content": null,
            "align_items": null,
            "align_self": null,
            "border": null,
            "bottom": null,
            "display": null,
            "flex": null,
            "flex_flow": null,
            "grid_area": null,
            "grid_auto_columns": null,
            "grid_auto_flow": null,
            "grid_auto_rows": null,
            "grid_column": null,
            "grid_gap": null,
            "grid_row": null,
            "grid_template_areas": null,
            "grid_template_columns": null,
            "grid_template_rows": null,
            "height": null,
            "justify_content": null,
            "justify_items": null,
            "left": null,
            "margin": null,
            "max_height": null,
            "max_width": null,
            "min_height": null,
            "min_width": null,
            "object_fit": null,
            "object_position": null,
            "order": null,
            "overflow": null,
            "overflow_x": null,
            "overflow_y": null,
            "padding": null,
            "right": null,
            "top": null,
            "visibility": null,
            "width": null
          }
        },
        "a01a8925fda34aa2aee7866ee20d208a": {
          "model_module": "@jupyter-widgets/controls",
          "model_name": "ProgressStyleModel",
          "model_module_version": "1.5.0",
          "state": {
            "_model_module": "@jupyter-widgets/controls",
            "_model_module_version": "1.5.0",
            "_model_name": "ProgressStyleModel",
            "_view_count": null,
            "_view_module": "@jupyter-widgets/base",
            "_view_module_version": "1.2.0",
            "_view_name": "StyleView",
            "bar_color": null,
            "description_width": ""
          }
        },
        "26d2f2404cd7480b9d502903c7caec4f": {
          "model_module": "@jupyter-widgets/base",
          "model_name": "LayoutModel",
          "model_module_version": "1.2.0",
          "state": {
            "_model_module": "@jupyter-widgets/base",
            "_model_module_version": "1.2.0",
            "_model_name": "LayoutModel",
            "_view_count": null,
            "_view_module": "@jupyter-widgets/base",
            "_view_module_version": "1.2.0",
            "_view_name": "LayoutView",
            "align_content": null,
            "align_items": null,
            "align_self": null,
            "border": null,
            "bottom": null,
            "display": null,
            "flex": null,
            "flex_flow": null,
            "grid_area": null,
            "grid_auto_columns": null,
            "grid_auto_flow": null,
            "grid_auto_rows": null,
            "grid_column": null,
            "grid_gap": null,
            "grid_row": null,
            "grid_template_areas": null,
            "grid_template_columns": null,
            "grid_template_rows": null,
            "height": null,
            "justify_content": null,
            "justify_items": null,
            "left": null,
            "margin": null,
            "max_height": null,
            "max_width": null,
            "min_height": null,
            "min_width": null,
            "object_fit": null,
            "object_position": null,
            "order": null,
            "overflow": null,
            "overflow_x": null,
            "overflow_y": null,
            "padding": null,
            "right": null,
            "top": null,
            "visibility": null,
            "width": null
          }
        },
        "fa2db14ea8b8402abf100f44c16f7110": {
          "model_module": "@jupyter-widgets/controls",
          "model_name": "DescriptionStyleModel",
          "model_module_version": "1.5.0",
          "state": {
            "_model_module": "@jupyter-widgets/controls",
            "_model_module_version": "1.5.0",
            "_model_name": "DescriptionStyleModel",
            "_view_count": null,
            "_view_module": "@jupyter-widgets/base",
            "_view_module_version": "1.2.0",
            "_view_name": "StyleView",
            "description_width": ""
          }
        },
        "07d8c4e512fd4ca9b50d3a93d9fada17": {
          "model_module": "@jupyter-widgets/controls",
          "model_name": "HBoxModel",
          "model_module_version": "1.5.0",
          "state": {
            "_dom_classes": [],
            "_model_module": "@jupyter-widgets/controls",
            "_model_module_version": "1.5.0",
            "_model_name": "HBoxModel",
            "_view_count": null,
            "_view_module": "@jupyter-widgets/controls",
            "_view_module_version": "1.5.0",
            "_view_name": "HBoxView",
            "box_style": "",
            "children": [
              "IPY_MODEL_2e1b72d69c4c426492b76c9ddccc4fab",
              "IPY_MODEL_1b9d67eda70f4149a681c633ead1587e",
              "IPY_MODEL_f36c380dfd544b65b0593e8506354d6e"
            ],
            "layout": "IPY_MODEL_b41e75291f6943ef8d1d4a4838af16c5"
          }
        },
        "2e1b72d69c4c426492b76c9ddccc4fab": {
          "model_module": "@jupyter-widgets/controls",
          "model_name": "HTMLModel",
          "model_module_version": "1.5.0",
          "state": {
            "_dom_classes": [],
            "_model_module": "@jupyter-widgets/controls",
            "_model_module_version": "1.5.0",
            "_model_name": "HTMLModel",
            "_view_count": null,
            "_view_module": "@jupyter-widgets/controls",
            "_view_module_version": "1.5.0",
            "_view_name": "HTMLView",
            "description": "",
            "description_tooltip": null,
            "layout": "IPY_MODEL_3601fc4e581b4ec69f9d43e91e1c1ee6",
            "placeholder": "​",
            "style": "IPY_MODEL_e2cd60bcdfd04fc494958fc7acf84fa5",
            "value": "100%"
          }
        },
        "1b9d67eda70f4149a681c633ead1587e": {
          "model_module": "@jupyter-widgets/controls",
          "model_name": "FloatProgressModel",
          "model_module_version": "1.5.0",
          "state": {
            "_dom_classes": [],
            "_model_module": "@jupyter-widgets/controls",
            "_model_module_version": "1.5.0",
            "_model_name": "FloatProgressModel",
            "_view_count": null,
            "_view_module": "@jupyter-widgets/controls",
            "_view_module_version": "1.5.0",
            "_view_name": "ProgressView",
            "bar_style": "success",
            "description": "",
            "description_tooltip": null,
            "layout": "IPY_MODEL_1f8c216df94a4bf1a9fee1395ceb2143",
            "max": 5,
            "min": 0,
            "orientation": "horizontal",
            "style": "IPY_MODEL_8601297361524492a0d437f4a9df3dfd",
            "value": 5
          }
        },
        "f36c380dfd544b65b0593e8506354d6e": {
          "model_module": "@jupyter-widgets/controls",
          "model_name": "HTMLModel",
          "model_module_version": "1.5.0",
          "state": {
            "_dom_classes": [],
            "_model_module": "@jupyter-widgets/controls",
            "_model_module_version": "1.5.0",
            "_model_name": "HTMLModel",
            "_view_count": null,
            "_view_module": "@jupyter-widgets/controls",
            "_view_module_version": "1.5.0",
            "_view_name": "HTMLView",
            "description": "",
            "description_tooltip": null,
            "layout": "IPY_MODEL_ce823218b38d47ebb9f686f844d5a34c",
            "placeholder": "​",
            "style": "IPY_MODEL_cf6117adcce240a799c23b29b3e8ff92",
            "value": " 5/5 [00:01&lt;00:00,  5.20ba/s]"
          }
        },
        "b41e75291f6943ef8d1d4a4838af16c5": {
          "model_module": "@jupyter-widgets/base",
          "model_name": "LayoutModel",
          "model_module_version": "1.2.0",
          "state": {
            "_model_module": "@jupyter-widgets/base",
            "_model_module_version": "1.2.0",
            "_model_name": "LayoutModel",
            "_view_count": null,
            "_view_module": "@jupyter-widgets/base",
            "_view_module_version": "1.2.0",
            "_view_name": "LayoutView",
            "align_content": null,
            "align_items": null,
            "align_self": null,
            "border": null,
            "bottom": null,
            "display": null,
            "flex": null,
            "flex_flow": null,
            "grid_area": null,
            "grid_auto_columns": null,
            "grid_auto_flow": null,
            "grid_auto_rows": null,
            "grid_column": null,
            "grid_gap": null,
            "grid_row": null,
            "grid_template_areas": null,
            "grid_template_columns": null,
            "grid_template_rows": null,
            "height": null,
            "justify_content": null,
            "justify_items": null,
            "left": null,
            "margin": null,
            "max_height": null,
            "max_width": null,
            "min_height": null,
            "min_width": null,
            "object_fit": null,
            "object_position": null,
            "order": null,
            "overflow": null,
            "overflow_x": null,
            "overflow_y": null,
            "padding": null,
            "right": null,
            "top": null,
            "visibility": null,
            "width": null
          }
        },
        "3601fc4e581b4ec69f9d43e91e1c1ee6": {
          "model_module": "@jupyter-widgets/base",
          "model_name": "LayoutModel",
          "model_module_version": "1.2.0",
          "state": {
            "_model_module": "@jupyter-widgets/base",
            "_model_module_version": "1.2.0",
            "_model_name": "LayoutModel",
            "_view_count": null,
            "_view_module": "@jupyter-widgets/base",
            "_view_module_version": "1.2.0",
            "_view_name": "LayoutView",
            "align_content": null,
            "align_items": null,
            "align_self": null,
            "border": null,
            "bottom": null,
            "display": null,
            "flex": null,
            "flex_flow": null,
            "grid_area": null,
            "grid_auto_columns": null,
            "grid_auto_flow": null,
            "grid_auto_rows": null,
            "grid_column": null,
            "grid_gap": null,
            "grid_row": null,
            "grid_template_areas": null,
            "grid_template_columns": null,
            "grid_template_rows": null,
            "height": null,
            "justify_content": null,
            "justify_items": null,
            "left": null,
            "margin": null,
            "max_height": null,
            "max_width": null,
            "min_height": null,
            "min_width": null,
            "object_fit": null,
            "object_position": null,
            "order": null,
            "overflow": null,
            "overflow_x": null,
            "overflow_y": null,
            "padding": null,
            "right": null,
            "top": null,
            "visibility": null,
            "width": null
          }
        },
        "e2cd60bcdfd04fc494958fc7acf84fa5": {
          "model_module": "@jupyter-widgets/controls",
          "model_name": "DescriptionStyleModel",
          "model_module_version": "1.5.0",
          "state": {
            "_model_module": "@jupyter-widgets/controls",
            "_model_module_version": "1.5.0",
            "_model_name": "DescriptionStyleModel",
            "_view_count": null,
            "_view_module": "@jupyter-widgets/base",
            "_view_module_version": "1.2.0",
            "_view_name": "StyleView",
            "description_width": ""
          }
        },
        "1f8c216df94a4bf1a9fee1395ceb2143": {
          "model_module": "@jupyter-widgets/base",
          "model_name": "LayoutModel",
          "model_module_version": "1.2.0",
          "state": {
            "_model_module": "@jupyter-widgets/base",
            "_model_module_version": "1.2.0",
            "_model_name": "LayoutModel",
            "_view_count": null,
            "_view_module": "@jupyter-widgets/base",
            "_view_module_version": "1.2.0",
            "_view_name": "LayoutView",
            "align_content": null,
            "align_items": null,
            "align_self": null,
            "border": null,
            "bottom": null,
            "display": null,
            "flex": null,
            "flex_flow": null,
            "grid_area": null,
            "grid_auto_columns": null,
            "grid_auto_flow": null,
            "grid_auto_rows": null,
            "grid_column": null,
            "grid_gap": null,
            "grid_row": null,
            "grid_template_areas": null,
            "grid_template_columns": null,
            "grid_template_rows": null,
            "height": null,
            "justify_content": null,
            "justify_items": null,
            "left": null,
            "margin": null,
            "max_height": null,
            "max_width": null,
            "min_height": null,
            "min_width": null,
            "object_fit": null,
            "object_position": null,
            "order": null,
            "overflow": null,
            "overflow_x": null,
            "overflow_y": null,
            "padding": null,
            "right": null,
            "top": null,
            "visibility": null,
            "width": null
          }
        },
        "8601297361524492a0d437f4a9df3dfd": {
          "model_module": "@jupyter-widgets/controls",
          "model_name": "ProgressStyleModel",
          "model_module_version": "1.5.0",
          "state": {
            "_model_module": "@jupyter-widgets/controls",
            "_model_module_version": "1.5.0",
            "_model_name": "ProgressStyleModel",
            "_view_count": null,
            "_view_module": "@jupyter-widgets/base",
            "_view_module_version": "1.2.0",
            "_view_name": "StyleView",
            "bar_color": null,
            "description_width": ""
          }
        },
        "ce823218b38d47ebb9f686f844d5a34c": {
          "model_module": "@jupyter-widgets/base",
          "model_name": "LayoutModel",
          "model_module_version": "1.2.0",
          "state": {
            "_model_module": "@jupyter-widgets/base",
            "_model_module_version": "1.2.0",
            "_model_name": "LayoutModel",
            "_view_count": null,
            "_view_module": "@jupyter-widgets/base",
            "_view_module_version": "1.2.0",
            "_view_name": "LayoutView",
            "align_content": null,
            "align_items": null,
            "align_self": null,
            "border": null,
            "bottom": null,
            "display": null,
            "flex": null,
            "flex_flow": null,
            "grid_area": null,
            "grid_auto_columns": null,
            "grid_auto_flow": null,
            "grid_auto_rows": null,
            "grid_column": null,
            "grid_gap": null,
            "grid_row": null,
            "grid_template_areas": null,
            "grid_template_columns": null,
            "grid_template_rows": null,
            "height": null,
            "justify_content": null,
            "justify_items": null,
            "left": null,
            "margin": null,
            "max_height": null,
            "max_width": null,
            "min_height": null,
            "min_width": null,
            "object_fit": null,
            "object_position": null,
            "order": null,
            "overflow": null,
            "overflow_x": null,
            "overflow_y": null,
            "padding": null,
            "right": null,
            "top": null,
            "visibility": null,
            "width": null
          }
        },
        "cf6117adcce240a799c23b29b3e8ff92": {
          "model_module": "@jupyter-widgets/controls",
          "model_name": "DescriptionStyleModel",
          "model_module_version": "1.5.0",
          "state": {
            "_model_module": "@jupyter-widgets/controls",
            "_model_module_version": "1.5.0",
            "_model_name": "DescriptionStyleModel",
            "_view_count": null,
            "_view_module": "@jupyter-widgets/base",
            "_view_module_version": "1.2.0",
            "_view_name": "StyleView",
            "description_width": ""
          }
        },
        "bf39b03805864cc58ca77c70f80608a3": {
          "model_module": "@jupyter-widgets/controls",
          "model_name": "HBoxModel",
          "model_module_version": "1.5.0",
          "state": {
            "_dom_classes": [],
            "_model_module": "@jupyter-widgets/controls",
            "_model_module_version": "1.5.0",
            "_model_name": "HBoxModel",
            "_view_count": null,
            "_view_module": "@jupyter-widgets/controls",
            "_view_module_version": "1.5.0",
            "_view_name": "HBoxView",
            "box_style": "",
            "children": [
              "IPY_MODEL_493e6635b85f40e083e4981d127379e1",
              "IPY_MODEL_be72c1049f574e0fac4ec5a80e3e12ad",
              "IPY_MODEL_d89fc3e71b504e15927effe79f5f31c3"
            ],
            "layout": "IPY_MODEL_4aa252f788f342dcb5d728e7fa060d43"
          }
        },
        "493e6635b85f40e083e4981d127379e1": {
          "model_module": "@jupyter-widgets/controls",
          "model_name": "HTMLModel",
          "model_module_version": "1.5.0",
          "state": {
            "_dom_classes": [],
            "_model_module": "@jupyter-widgets/controls",
            "_model_module_version": "1.5.0",
            "_model_name": "HTMLModel",
            "_view_count": null,
            "_view_module": "@jupyter-widgets/controls",
            "_view_module_version": "1.5.0",
            "_view_name": "HTMLView",
            "description": "",
            "description_tooltip": null,
            "layout": "IPY_MODEL_141e964dada44e7797aba7f37ced9353",
            "placeholder": "​",
            "style": "IPY_MODEL_be543474b52846ba8f62fd6bb5700241",
            "value": "100%"
          }
        },
        "be72c1049f574e0fac4ec5a80e3e12ad": {
          "model_module": "@jupyter-widgets/controls",
          "model_name": "FloatProgressModel",
          "model_module_version": "1.5.0",
          "state": {
            "_dom_classes": [],
            "_model_module": "@jupyter-widgets/controls",
            "_model_module_version": "1.5.0",
            "_model_name": "FloatProgressModel",
            "_view_count": null,
            "_view_module": "@jupyter-widgets/controls",
            "_view_module_version": "1.5.0",
            "_view_name": "ProgressView",
            "bar_style": "success",
            "description": "",
            "description_tooltip": null,
            "layout": "IPY_MODEL_e51748b76dcd4bf29fd027a1bdea6513",
            "max": 2,
            "min": 0,
            "orientation": "horizontal",
            "style": "IPY_MODEL_60cc398c653c4b63a5151800689fe319",
            "value": 2
          }
        },
        "d89fc3e71b504e15927effe79f5f31c3": {
          "model_module": "@jupyter-widgets/controls",
          "model_name": "HTMLModel",
          "model_module_version": "1.5.0",
          "state": {
            "_dom_classes": [],
            "_model_module": "@jupyter-widgets/controls",
            "_model_module_version": "1.5.0",
            "_model_name": "HTMLModel",
            "_view_count": null,
            "_view_module": "@jupyter-widgets/controls",
            "_view_module_version": "1.5.0",
            "_view_name": "HTMLView",
            "description": "",
            "description_tooltip": null,
            "layout": "IPY_MODEL_4a2b54a9e2fd41cd9d170c05c331529e",
            "placeholder": "​",
            "style": "IPY_MODEL_9dff6245365944d888691b087f493bc6",
            "value": " 2/2 [00:00&lt;00:00,  6.00ba/s]"
          }
        },
        "4aa252f788f342dcb5d728e7fa060d43": {
          "model_module": "@jupyter-widgets/base",
          "model_name": "LayoutModel",
          "model_module_version": "1.2.0",
          "state": {
            "_model_module": "@jupyter-widgets/base",
            "_model_module_version": "1.2.0",
            "_model_name": "LayoutModel",
            "_view_count": null,
            "_view_module": "@jupyter-widgets/base",
            "_view_module_version": "1.2.0",
            "_view_name": "LayoutView",
            "align_content": null,
            "align_items": null,
            "align_self": null,
            "border": null,
            "bottom": null,
            "display": null,
            "flex": null,
            "flex_flow": null,
            "grid_area": null,
            "grid_auto_columns": null,
            "grid_auto_flow": null,
            "grid_auto_rows": null,
            "grid_column": null,
            "grid_gap": null,
            "grid_row": null,
            "grid_template_areas": null,
            "grid_template_columns": null,
            "grid_template_rows": null,
            "height": null,
            "justify_content": null,
            "justify_items": null,
            "left": null,
            "margin": null,
            "max_height": null,
            "max_width": null,
            "min_height": null,
            "min_width": null,
            "object_fit": null,
            "object_position": null,
            "order": null,
            "overflow": null,
            "overflow_x": null,
            "overflow_y": null,
            "padding": null,
            "right": null,
            "top": null,
            "visibility": null,
            "width": null
          }
        },
        "141e964dada44e7797aba7f37ced9353": {
          "model_module": "@jupyter-widgets/base",
          "model_name": "LayoutModel",
          "model_module_version": "1.2.0",
          "state": {
            "_model_module": "@jupyter-widgets/base",
            "_model_module_version": "1.2.0",
            "_model_name": "LayoutModel",
            "_view_count": null,
            "_view_module": "@jupyter-widgets/base",
            "_view_module_version": "1.2.0",
            "_view_name": "LayoutView",
            "align_content": null,
            "align_items": null,
            "align_self": null,
            "border": null,
            "bottom": null,
            "display": null,
            "flex": null,
            "flex_flow": null,
            "grid_area": null,
            "grid_auto_columns": null,
            "grid_auto_flow": null,
            "grid_auto_rows": null,
            "grid_column": null,
            "grid_gap": null,
            "grid_row": null,
            "grid_template_areas": null,
            "grid_template_columns": null,
            "grid_template_rows": null,
            "height": null,
            "justify_content": null,
            "justify_items": null,
            "left": null,
            "margin": null,
            "max_height": null,
            "max_width": null,
            "min_height": null,
            "min_width": null,
            "object_fit": null,
            "object_position": null,
            "order": null,
            "overflow": null,
            "overflow_x": null,
            "overflow_y": null,
            "padding": null,
            "right": null,
            "top": null,
            "visibility": null,
            "width": null
          }
        },
        "be543474b52846ba8f62fd6bb5700241": {
          "model_module": "@jupyter-widgets/controls",
          "model_name": "DescriptionStyleModel",
          "model_module_version": "1.5.0",
          "state": {
            "_model_module": "@jupyter-widgets/controls",
            "_model_module_version": "1.5.0",
            "_model_name": "DescriptionStyleModel",
            "_view_count": null,
            "_view_module": "@jupyter-widgets/base",
            "_view_module_version": "1.2.0",
            "_view_name": "StyleView",
            "description_width": ""
          }
        },
        "e51748b76dcd4bf29fd027a1bdea6513": {
          "model_module": "@jupyter-widgets/base",
          "model_name": "LayoutModel",
          "model_module_version": "1.2.0",
          "state": {
            "_model_module": "@jupyter-widgets/base",
            "_model_module_version": "1.2.0",
            "_model_name": "LayoutModel",
            "_view_count": null,
            "_view_module": "@jupyter-widgets/base",
            "_view_module_version": "1.2.0",
            "_view_name": "LayoutView",
            "align_content": null,
            "align_items": null,
            "align_self": null,
            "border": null,
            "bottom": null,
            "display": null,
            "flex": null,
            "flex_flow": null,
            "grid_area": null,
            "grid_auto_columns": null,
            "grid_auto_flow": null,
            "grid_auto_rows": null,
            "grid_column": null,
            "grid_gap": null,
            "grid_row": null,
            "grid_template_areas": null,
            "grid_template_columns": null,
            "grid_template_rows": null,
            "height": null,
            "justify_content": null,
            "justify_items": null,
            "left": null,
            "margin": null,
            "max_height": null,
            "max_width": null,
            "min_height": null,
            "min_width": null,
            "object_fit": null,
            "object_position": null,
            "order": null,
            "overflow": null,
            "overflow_x": null,
            "overflow_y": null,
            "padding": null,
            "right": null,
            "top": null,
            "visibility": null,
            "width": null
          }
        },
        "60cc398c653c4b63a5151800689fe319": {
          "model_module": "@jupyter-widgets/controls",
          "model_name": "ProgressStyleModel",
          "model_module_version": "1.5.0",
          "state": {
            "_model_module": "@jupyter-widgets/controls",
            "_model_module_version": "1.5.0",
            "_model_name": "ProgressStyleModel",
            "_view_count": null,
            "_view_module": "@jupyter-widgets/base",
            "_view_module_version": "1.2.0",
            "_view_name": "StyleView",
            "bar_color": null,
            "description_width": ""
          }
        },
        "4a2b54a9e2fd41cd9d170c05c331529e": {
          "model_module": "@jupyter-widgets/base",
          "model_name": "LayoutModel",
          "model_module_version": "1.2.0",
          "state": {
            "_model_module": "@jupyter-widgets/base",
            "_model_module_version": "1.2.0",
            "_model_name": "LayoutModel",
            "_view_count": null,
            "_view_module": "@jupyter-widgets/base",
            "_view_module_version": "1.2.0",
            "_view_name": "LayoutView",
            "align_content": null,
            "align_items": null,
            "align_self": null,
            "border": null,
            "bottom": null,
            "display": null,
            "flex": null,
            "flex_flow": null,
            "grid_area": null,
            "grid_auto_columns": null,
            "grid_auto_flow": null,
            "grid_auto_rows": null,
            "grid_column": null,
            "grid_gap": null,
            "grid_row": null,
            "grid_template_areas": null,
            "grid_template_columns": null,
            "grid_template_rows": null,
            "height": null,
            "justify_content": null,
            "justify_items": null,
            "left": null,
            "margin": null,
            "max_height": null,
            "max_width": null,
            "min_height": null,
            "min_width": null,
            "object_fit": null,
            "object_position": null,
            "order": null,
            "overflow": null,
            "overflow_x": null,
            "overflow_y": null,
            "padding": null,
            "right": null,
            "top": null,
            "visibility": null,
            "width": null
          }
        },
        "9dff6245365944d888691b087f493bc6": {
          "model_module": "@jupyter-widgets/controls",
          "model_name": "DescriptionStyleModel",
          "model_module_version": "1.5.0",
          "state": {
            "_model_module": "@jupyter-widgets/controls",
            "_model_module_version": "1.5.0",
            "_model_name": "DescriptionStyleModel",
            "_view_count": null,
            "_view_module": "@jupyter-widgets/base",
            "_view_module_version": "1.2.0",
            "_view_name": "StyleView",
            "description_width": ""
          }
        },
        "7502177687d04466a12c0189fb2b20fa": {
          "model_module": "@jupyter-widgets/controls",
          "model_name": "HBoxModel",
          "model_module_version": "1.5.0",
          "state": {
            "_dom_classes": [],
            "_model_module": "@jupyter-widgets/controls",
            "_model_module_version": "1.5.0",
            "_model_name": "HBoxModel",
            "_view_count": null,
            "_view_module": "@jupyter-widgets/controls",
            "_view_module_version": "1.5.0",
            "_view_name": "HBoxView",
            "box_style": "",
            "children": [
              "IPY_MODEL_192ff0fe7d1d48269320cbcd3ad2aa5e",
              "IPY_MODEL_28dcbe56468b4d5a88456dac1cae947b",
              "IPY_MODEL_40684d49dc8c458fa48a9721cb269599"
            ],
            "layout": "IPY_MODEL_8ef968c913f34d68b48c1770369b8feb"
          }
        },
        "192ff0fe7d1d48269320cbcd3ad2aa5e": {
          "model_module": "@jupyter-widgets/controls",
          "model_name": "HTMLModel",
          "model_module_version": "1.5.0",
          "state": {
            "_dom_classes": [],
            "_model_module": "@jupyter-widgets/controls",
            "_model_module_version": "1.5.0",
            "_model_name": "HTMLModel",
            "_view_count": null,
            "_view_module": "@jupyter-widgets/controls",
            "_view_module_version": "1.5.0",
            "_view_name": "HTMLView",
            "description": "",
            "description_tooltip": null,
            "layout": "IPY_MODEL_490ac1a0cdfc4488b0d685aec2dc95b8",
            "placeholder": "​",
            "style": "IPY_MODEL_e49d058767cd443d8b105899376ea1f5",
            "value": "100%"
          }
        },
        "28dcbe56468b4d5a88456dac1cae947b": {
          "model_module": "@jupyter-widgets/controls",
          "model_name": "FloatProgressModel",
          "model_module_version": "1.5.0",
          "state": {
            "_dom_classes": [],
            "_model_module": "@jupyter-widgets/controls",
            "_model_module_version": "1.5.0",
            "_model_name": "FloatProgressModel",
            "_view_count": null,
            "_view_module": "@jupyter-widgets/controls",
            "_view_module_version": "1.5.0",
            "_view_name": "ProgressView",
            "bar_style": "success",
            "description": "",
            "description_tooltip": null,
            "layout": "IPY_MODEL_34bb5d7195d24b9cac450b8ae1a809a3",
            "max": 2,
            "min": 0,
            "orientation": "horizontal",
            "style": "IPY_MODEL_678f4448cb91478a834cc8f26a438e27",
            "value": 2
          }
        },
        "40684d49dc8c458fa48a9721cb269599": {
          "model_module": "@jupyter-widgets/controls",
          "model_name": "HTMLModel",
          "model_module_version": "1.5.0",
          "state": {
            "_dom_classes": [],
            "_model_module": "@jupyter-widgets/controls",
            "_model_module_version": "1.5.0",
            "_model_name": "HTMLModel",
            "_view_count": null,
            "_view_module": "@jupyter-widgets/controls",
            "_view_module_version": "1.5.0",
            "_view_name": "HTMLView",
            "description": "",
            "description_tooltip": null,
            "layout": "IPY_MODEL_60eff46bda574946aa0f6fa8c8b8633e",
            "placeholder": "​",
            "style": "IPY_MODEL_0693abc7db5945b3ad3b5d38b8ddbdf4",
            "value": " 2/2 [00:01&lt;00:00,  1.41s/ba]"
          }
        },
        "8ef968c913f34d68b48c1770369b8feb": {
          "model_module": "@jupyter-widgets/base",
          "model_name": "LayoutModel",
          "model_module_version": "1.2.0",
          "state": {
            "_model_module": "@jupyter-widgets/base",
            "_model_module_version": "1.2.0",
            "_model_name": "LayoutModel",
            "_view_count": null,
            "_view_module": "@jupyter-widgets/base",
            "_view_module_version": "1.2.0",
            "_view_name": "LayoutView",
            "align_content": null,
            "align_items": null,
            "align_self": null,
            "border": null,
            "bottom": null,
            "display": null,
            "flex": null,
            "flex_flow": null,
            "grid_area": null,
            "grid_auto_columns": null,
            "grid_auto_flow": null,
            "grid_auto_rows": null,
            "grid_column": null,
            "grid_gap": null,
            "grid_row": null,
            "grid_template_areas": null,
            "grid_template_columns": null,
            "grid_template_rows": null,
            "height": null,
            "justify_content": null,
            "justify_items": null,
            "left": null,
            "margin": null,
            "max_height": null,
            "max_width": null,
            "min_height": null,
            "min_width": null,
            "object_fit": null,
            "object_position": null,
            "order": null,
            "overflow": null,
            "overflow_x": null,
            "overflow_y": null,
            "padding": null,
            "right": null,
            "top": null,
            "visibility": null,
            "width": null
          }
        },
        "490ac1a0cdfc4488b0d685aec2dc95b8": {
          "model_module": "@jupyter-widgets/base",
          "model_name": "LayoutModel",
          "model_module_version": "1.2.0",
          "state": {
            "_model_module": "@jupyter-widgets/base",
            "_model_module_version": "1.2.0",
            "_model_name": "LayoutModel",
            "_view_count": null,
            "_view_module": "@jupyter-widgets/base",
            "_view_module_version": "1.2.0",
            "_view_name": "LayoutView",
            "align_content": null,
            "align_items": null,
            "align_self": null,
            "border": null,
            "bottom": null,
            "display": null,
            "flex": null,
            "flex_flow": null,
            "grid_area": null,
            "grid_auto_columns": null,
            "grid_auto_flow": null,
            "grid_auto_rows": null,
            "grid_column": null,
            "grid_gap": null,
            "grid_row": null,
            "grid_template_areas": null,
            "grid_template_columns": null,
            "grid_template_rows": null,
            "height": null,
            "justify_content": null,
            "justify_items": null,
            "left": null,
            "margin": null,
            "max_height": null,
            "max_width": null,
            "min_height": null,
            "min_width": null,
            "object_fit": null,
            "object_position": null,
            "order": null,
            "overflow": null,
            "overflow_x": null,
            "overflow_y": null,
            "padding": null,
            "right": null,
            "top": null,
            "visibility": null,
            "width": null
          }
        },
        "e49d058767cd443d8b105899376ea1f5": {
          "model_module": "@jupyter-widgets/controls",
          "model_name": "DescriptionStyleModel",
          "model_module_version": "1.5.0",
          "state": {
            "_model_module": "@jupyter-widgets/controls",
            "_model_module_version": "1.5.0",
            "_model_name": "DescriptionStyleModel",
            "_view_count": null,
            "_view_module": "@jupyter-widgets/base",
            "_view_module_version": "1.2.0",
            "_view_name": "StyleView",
            "description_width": ""
          }
        },
        "34bb5d7195d24b9cac450b8ae1a809a3": {
          "model_module": "@jupyter-widgets/base",
          "model_name": "LayoutModel",
          "model_module_version": "1.2.0",
          "state": {
            "_model_module": "@jupyter-widgets/base",
            "_model_module_version": "1.2.0",
            "_model_name": "LayoutModel",
            "_view_count": null,
            "_view_module": "@jupyter-widgets/base",
            "_view_module_version": "1.2.0",
            "_view_name": "LayoutView",
            "align_content": null,
            "align_items": null,
            "align_self": null,
            "border": null,
            "bottom": null,
            "display": null,
            "flex": null,
            "flex_flow": null,
            "grid_area": null,
            "grid_auto_columns": null,
            "grid_auto_flow": null,
            "grid_auto_rows": null,
            "grid_column": null,
            "grid_gap": null,
            "grid_row": null,
            "grid_template_areas": null,
            "grid_template_columns": null,
            "grid_template_rows": null,
            "height": null,
            "justify_content": null,
            "justify_items": null,
            "left": null,
            "margin": null,
            "max_height": null,
            "max_width": null,
            "min_height": null,
            "min_width": null,
            "object_fit": null,
            "object_position": null,
            "order": null,
            "overflow": null,
            "overflow_x": null,
            "overflow_y": null,
            "padding": null,
            "right": null,
            "top": null,
            "visibility": null,
            "width": null
          }
        },
        "678f4448cb91478a834cc8f26a438e27": {
          "model_module": "@jupyter-widgets/controls",
          "model_name": "ProgressStyleModel",
          "model_module_version": "1.5.0",
          "state": {
            "_model_module": "@jupyter-widgets/controls",
            "_model_module_version": "1.5.0",
            "_model_name": "ProgressStyleModel",
            "_view_count": null,
            "_view_module": "@jupyter-widgets/base",
            "_view_module_version": "1.2.0",
            "_view_name": "StyleView",
            "bar_color": null,
            "description_width": ""
          }
        },
        "60eff46bda574946aa0f6fa8c8b8633e": {
          "model_module": "@jupyter-widgets/base",
          "model_name": "LayoutModel",
          "model_module_version": "1.2.0",
          "state": {
            "_model_module": "@jupyter-widgets/base",
            "_model_module_version": "1.2.0",
            "_model_name": "LayoutModel",
            "_view_count": null,
            "_view_module": "@jupyter-widgets/base",
            "_view_module_version": "1.2.0",
            "_view_name": "LayoutView",
            "align_content": null,
            "align_items": null,
            "align_self": null,
            "border": null,
            "bottom": null,
            "display": null,
            "flex": null,
            "flex_flow": null,
            "grid_area": null,
            "grid_auto_columns": null,
            "grid_auto_flow": null,
            "grid_auto_rows": null,
            "grid_column": null,
            "grid_gap": null,
            "grid_row": null,
            "grid_template_areas": null,
            "grid_template_columns": null,
            "grid_template_rows": null,
            "height": null,
            "justify_content": null,
            "justify_items": null,
            "left": null,
            "margin": null,
            "max_height": null,
            "max_width": null,
            "min_height": null,
            "min_width": null,
            "object_fit": null,
            "object_position": null,
            "order": null,
            "overflow": null,
            "overflow_x": null,
            "overflow_y": null,
            "padding": null,
            "right": null,
            "top": null,
            "visibility": null,
            "width": null
          }
        },
        "0693abc7db5945b3ad3b5d38b8ddbdf4": {
          "model_module": "@jupyter-widgets/controls",
          "model_name": "DescriptionStyleModel",
          "model_module_version": "1.5.0",
          "state": {
            "_model_module": "@jupyter-widgets/controls",
            "_model_module_version": "1.5.0",
            "_model_name": "DescriptionStyleModel",
            "_view_count": null,
            "_view_module": "@jupyter-widgets/base",
            "_view_module_version": "1.2.0",
            "_view_name": "StyleView",
            "description_width": ""
          }
        }
      }
    }
  },
  "nbformat": 4,
  "nbformat_minor": 5
}